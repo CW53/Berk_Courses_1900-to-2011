{
 "cells": [
  {
   "cell_type": "code",
   "execution_count": 1,
   "metadata": {},
   "outputs": [],
   "source": [
    "import pandas as pd\n",
    "import numpy as np\n",
    "import matplotlib\n",
    "import matplotlib.pyplot as plt\n",
    "import seaborn as sns\n",
    "\n",
    "# data is from MakeoverMonday 2020/W12, which asks the question: How have course offerings shifted over the past century?"
   ]
  },
  {
   "cell_type": "code",
   "execution_count": 2,
   "metadata": {},
   "outputs": [
    {
     "data": {
      "text/html": [
       "<div>\n",
       "<style scoped>\n",
       "    .dataframe tbody tr th:only-of-type {\n",
       "        vertical-align: middle;\n",
       "    }\n",
       "\n",
       "    .dataframe tbody tr th {\n",
       "        vertical-align: top;\n",
       "    }\n",
       "\n",
       "    .dataframe thead th {\n",
       "        text-align: right;\n",
       "    }\n",
       "</style>\n",
       "<table border=\"1\" class=\"dataframe\">\n",
       "  <thead>\n",
       "    <tr style=\"text-align: right;\">\n",
       "      <th></th>\n",
       "      <th>Year</th>\n",
       "      <th>Field</th>\n",
       "      <th>Name</th>\n",
       "      <th>Number</th>\n",
       "      <th>Area</th>\n",
       "      <th>GenArea</th>\n",
       "      <th>Description</th>\n",
       "      <th>Profs1</th>\n",
       "      <th>Profs2</th>\n",
       "      <th>Fall</th>\n",
       "      <th>Winter</th>\n",
       "      <th>Spring</th>\n",
       "      <th>Summer</th>\n",
       "      <th>Taught</th>\n",
       "    </tr>\n",
       "  </thead>\n",
       "  <tbody>\n",
       "    <tr>\n",
       "      <th>0</th>\n",
       "      <td>1967</td>\n",
       "      <td>Aerospace Studies</td>\n",
       "      <td>Officer Basic Military Training</td>\n",
       "      <td>22</td>\n",
       "      <td>Aeronautical Engineering</td>\n",
       "      <td>Engineering</td>\n",
       "      <td>(6) Study of world military systems and basic...</td>\n",
       "      <td>NaN</td>\n",
       "      <td>NaN</td>\n",
       "      <td>False</td>\n",
       "      <td>False</td>\n",
       "      <td>False</td>\n",
       "      <td>False</td>\n",
       "      <td>False</td>\n",
       "    </tr>\n",
       "    <tr>\n",
       "      <th>1</th>\n",
       "      <td>2011</td>\n",
       "      <td>Public Health</td>\n",
       "      <td>Drugs, Health, and Society</td>\n",
       "      <td>103</td>\n",
       "      <td>Health Sciences</td>\n",
       "      <td>Professional</td>\n",
       "      <td>(2) Two hours of lecture and one hour of disc...</td>\n",
       "      <td>NaN</td>\n",
       "      <td>NaN</td>\n",
       "      <td>False</td>\n",
       "      <td>False</td>\n",
       "      <td>True</td>\n",
       "      <td>False</td>\n",
       "      <td>True</td>\n",
       "    </tr>\n",
       "    <tr>\n",
       "      <th>2</th>\n",
       "      <td>2011</td>\n",
       "      <td>Public Health</td>\n",
       "      <td>Policy, Planning , and Evaluation of Health Pr...</td>\n",
       "      <td>105</td>\n",
       "      <td>Health Sciences</td>\n",
       "      <td>Professional</td>\n",
       "      <td>Three hours of lecture/discussion per week. T...</td>\n",
       "      <td>NaN</td>\n",
       "      <td>NaN</td>\n",
       "      <td>True</td>\n",
       "      <td>False</td>\n",
       "      <td>True</td>\n",
       "      <td>False</td>\n",
       "      <td>True</td>\n",
       "    </tr>\n",
       "    <tr>\n",
       "      <th>3</th>\n",
       "      <td>2011</td>\n",
       "      <td>Public Health</td>\n",
       "      <td>Cognitive Science C1 Molecularand Cell Biology...</td>\n",
       "      <td>1B</td>\n",
       "      <td>Health Sciences</td>\n",
       "      <td>Professional</td>\n",
       "      <td>The course will survey the field of the human...</td>\n",
       "      <td>NaN</td>\n",
       "      <td>NaN</td>\n",
       "      <td>True</td>\n",
       "      <td>False</td>\n",
       "      <td>True</td>\n",
       "      <td>False</td>\n",
       "      <td>True</td>\n",
       "    </tr>\n",
       "    <tr>\n",
       "      <th>4</th>\n",
       "      <td>1971</td>\n",
       "      <td>Aerospace Studies</td>\n",
       "      <td>Officer Advanced Military Training</td>\n",
       "      <td>432</td>\n",
       "      <td>Aeronautical Engineering</td>\n",
       "      <td>Engineering</td>\n",
       "      <td>(3) Four weeks advanced officer training cond...</td>\n",
       "      <td>NaN</td>\n",
       "      <td>NaN</td>\n",
       "      <td>False</td>\n",
       "      <td>False</td>\n",
       "      <td>False</td>\n",
       "      <td>False</td>\n",
       "      <td>False</td>\n",
       "    </tr>\n",
       "    <tr>\n",
       "      <th>5</th>\n",
       "      <td>2011</td>\n",
       "      <td>Public Health</td>\n",
       "      <td>Introduction to Probability and Statistics in ...</td>\n",
       "      <td>142</td>\n",
       "      <td>Health Sciences</td>\n",
       "      <td>Professional</td>\n",
       "      <td>(4) Three hours of lecture and two hours of d...</td>\n",
       "      <td>NaN</td>\n",
       "      <td>NaN</td>\n",
       "      <td>True</td>\n",
       "      <td>False</td>\n",
       "      <td>False</td>\n",
       "      <td>False</td>\n",
       "      <td>True</td>\n",
       "    </tr>\n",
       "    <tr>\n",
       "      <th>6</th>\n",
       "      <td>2011</td>\n",
       "      <td>Public Health</td>\n",
       "      <td>Introduction to Statistical Methods in Computa...</td>\n",
       "      <td>143</td>\n",
       "      <td>Health Sciences</td>\n",
       "      <td>Professional</td>\n",
       "      <td>(4) Three hours of lecture and one hour of la...</td>\n",
       "      <td>NaN</td>\n",
       "      <td>NaN</td>\n",
       "      <td>False</td>\n",
       "      <td>False</td>\n",
       "      <td>True</td>\n",
       "      <td>False</td>\n",
       "      <td>True</td>\n",
       "    </tr>\n",
       "    <tr>\n",
       "      <th>7</th>\n",
       "      <td>2011</td>\n",
       "      <td>Public Health</td>\n",
       "      <td>Introduction to Statistical Methods in Computa...</td>\n",
       "      <td>0143</td>\n",
       "      <td>Health Sciences</td>\n",
       "      <td>Professional</td>\n",
       "      <td>(4) Three hours 0 lecture and one hour of lab...</td>\n",
       "      <td>NaN</td>\n",
       "      <td>NaN</td>\n",
       "      <td>False</td>\n",
       "      <td>False</td>\n",
       "      <td>True</td>\n",
       "      <td>False</td>\n",
       "      <td>True</td>\n",
       "    </tr>\n",
       "    <tr>\n",
       "      <th>8</th>\n",
       "      <td>2011</td>\n",
       "      <td>Public Health</td>\n",
       "      <td>Statistical Analysis of Continuous Outcom- Data</td>\n",
       "      <td>145</td>\n",
       "      <td>Health Sciences</td>\n",
       "      <td>Professional</td>\n",
       "      <td>(4) Three hours of lecture and two hours of l...</td>\n",
       "      <td>NaN</td>\n",
       "      <td>NaN</td>\n",
       "      <td>False</td>\n",
       "      <td>False</td>\n",
       "      <td>True</td>\n",
       "      <td>False</td>\n",
       "      <td>True</td>\n",
       "    </tr>\n",
       "    <tr>\n",
       "      <th>9</th>\n",
       "      <td>2011</td>\n",
       "      <td>Public Health</td>\n",
       "      <td>Introduction to Environmental Health Sciences</td>\n",
       "      <td>1503</td>\n",
       "      <td>Health Sciences</td>\n",
       "      <td>Professional</td>\n",
       "      <td>(3) Three hours of lecture and one hour of di...</td>\n",
       "      <td>NaN</td>\n",
       "      <td>NaN</td>\n",
       "      <td>True</td>\n",
       "      <td>False</td>\n",
       "      <td>True</td>\n",
       "      <td>False</td>\n",
       "      <td>True</td>\n",
       "    </tr>\n",
       "    <tr>\n",
       "      <th>10</th>\n",
       "      <td>2011</td>\n",
       "      <td>Public Health</td>\n",
       "      <td>Introduction to Community Health and Human Dev...</td>\n",
       "      <td>150E</td>\n",
       "      <td>Health Sciences</td>\n",
       "      <td>Professional</td>\n",
       "      <td>(3) Three hours of lecture and one hour of di...</td>\n",
       "      <td>NaN</td>\n",
       "      <td>NaN</td>\n",
       "      <td>False</td>\n",
       "      <td>False</td>\n",
       "      <td>True</td>\n",
       "      <td>False</td>\n",
       "      <td>True</td>\n",
       "    </tr>\n",
       "    <tr>\n",
       "      <th>11</th>\n",
       "      <td>2011</td>\n",
       "      <td>Public Health</td>\n",
       "      <td>Sociology of Health and Medicine</td>\n",
       "      <td>C155</td>\n",
       "      <td>Health Sciences</td>\n",
       "      <td>Professional</td>\n",
       "      <td>(4) Students will receive no credit for C155 ...</td>\n",
       "      <td>NaN</td>\n",
       "      <td>NaN</td>\n",
       "      <td>True</td>\n",
       "      <td>False</td>\n",
       "      <td>True</td>\n",
       "      <td>False</td>\n",
       "      <td>True</td>\n",
       "    </tr>\n",
       "    <tr>\n",
       "      <th>12</th>\n",
       "      <td>2011</td>\n",
       "      <td>Public Health</td>\n",
       "      <td>Advanced Toxicology</td>\n",
       "      <td>C1703</td>\n",
       "      <td>Health Sciences</td>\n",
       "      <td>Professional</td>\n",
       "      <td>(34) Three to four hours of lecture per week....</td>\n",
       "      <td>NaN</td>\n",
       "      <td>NaN</td>\n",
       "      <td>False</td>\n",
       "      <td>False</td>\n",
       "      <td>True</td>\n",
       "      <td>False</td>\n",
       "      <td>True</td>\n",
       "    </tr>\n",
       "    <tr>\n",
       "      <th>13</th>\n",
       "      <td>2011</td>\n",
       "      <td>Public Health</td>\n",
       "      <td>The Evolution of Human Sexuality</td>\n",
       "      <td>180</td>\n",
       "      <td>Health Sciences</td>\n",
       "      <td>Professional</td>\n",
       "      <td>(2) Two hours of seminar per week. This cours...</td>\n",
       "      <td>NaN</td>\n",
       "      <td>NaN</td>\n",
       "      <td>True</td>\n",
       "      <td>False</td>\n",
       "      <td>False</td>\n",
       "      <td>False</td>\n",
       "      <td>True</td>\n",
       "    </tr>\n",
       "    <tr>\n",
       "      <th>14</th>\n",
       "      <td>1977</td>\n",
       "      <td>Aerospace Studies</td>\n",
       "      <td>United Slates Air Force Today</td>\n",
       "      <td>1A-1B-1C</td>\n",
       "      <td>Aeronautical Engineering</td>\n",
       "      <td>Engineering</td>\n",
       "      <td>(22-2) One hour of lecture per week. This cou...</td>\n",
       "      <td>NaN</td>\n",
       "      <td>NaN</td>\n",
       "      <td>True</td>\n",
       "      <td>True</td>\n",
       "      <td>True</td>\n",
       "      <td>False</td>\n",
       "      <td>True</td>\n",
       "    </tr>\n",
       "    <tr>\n",
       "      <th>15</th>\n",
       "      <td>1977</td>\n",
       "      <td>Aerospace Studies</td>\n",
       "      <td>The Developmental Qrowtti of Air Power</td>\n",
       "      <td>21A-21B-21C</td>\n",
       "      <td>Aeronautical Engineering</td>\n",
       "      <td>Engineering</td>\n",
       "      <td>(2-2-2) One hour of lecture per week. This co...</td>\n",
       "      <td>NaN</td>\n",
       "      <td>NaN</td>\n",
       "      <td>True</td>\n",
       "      <td>True</td>\n",
       "      <td>True</td>\n",
       "      <td>False</td>\n",
       "      <td>True</td>\n",
       "    </tr>\n",
       "    <tr>\n",
       "      <th>16</th>\n",
       "      <td>1977</td>\n",
       "      <td>Aerospace Studies</td>\n",
       "      <td>Light Aircraft Operations</td>\n",
       "      <td>442</td>\n",
       "      <td>Aeronautical Engineering</td>\n",
       "      <td>Engineering</td>\n",
       "      <td>Pr Preparation for qualification as Federally...</td>\n",
       "      <td>NaN</td>\n",
       "      <td>NaN</td>\n",
       "      <td>False</td>\n",
       "      <td>False</td>\n",
       "      <td>True</td>\n",
       "      <td>False</td>\n",
       "      <td>True</td>\n",
       "    </tr>\n",
       "    <tr>\n",
       "      <th>17</th>\n",
       "      <td>1978</td>\n",
       "      <td>Aerospace Studies</td>\n",
       "      <td>Introduction to Aerospace Studies</td>\n",
       "      <td>1</td>\n",
       "      <td>Aeronautical Engineering</td>\n",
       "      <td>Engineering</td>\n",
       "      <td>(1) One hour lecture/ discussion per week. An...</td>\n",
       "      <td>NaN</td>\n",
       "      <td>NaN</td>\n",
       "      <td>True</td>\n",
       "      <td>False</td>\n",
       "      <td>False</td>\n",
       "      <td>False</td>\n",
       "      <td>True</td>\n",
       "    </tr>\n",
       "    <tr>\n",
       "      <th>18</th>\n",
       "      <td>1978</td>\n",
       "      <td>Aerospace Studies</td>\n",
       "      <td>The military Force Today</td>\n",
       "      <td>2</td>\n",
       "      <td>Aeronautical Engineering</td>\n",
       "      <td>Engineering</td>\n",
       "      <td>One hour lecture/ discussion per week. An inv...</td>\n",
       "      <td>NaN</td>\n",
       "      <td>NaN</td>\n",
       "      <td>False</td>\n",
       "      <td>False</td>\n",
       "      <td>True</td>\n",
       "      <td>False</td>\n",
       "      <td>True</td>\n",
       "    </tr>\n",
       "    <tr>\n",
       "      <th>19</th>\n",
       "      <td>1978</td>\n",
       "      <td>Aerospace Studies</td>\n",
       "      <td>The Growth and Development of Air Power</td>\n",
       "      <td>21A-21B-21c</td>\n",
       "      <td>Aeronautical Engineering</td>\n",
       "      <td>Engineering</td>\n",
       "      <td>(1-1-1) One hour of lecture/ discussion per w...</td>\n",
       "      <td>NaN</td>\n",
       "      <td>NaN</td>\n",
       "      <td>True</td>\n",
       "      <td>True</td>\n",
       "      <td>True</td>\n",
       "      <td>False</td>\n",
       "      <td>True</td>\n",
       "    </tr>\n",
       "  </tbody>\n",
       "</table>\n",
       "</div>"
      ],
      "text/plain": [
       "    Year              Field  \\\n",
       "0   1967  Aerospace Studies   \n",
       "1   2011      Public Health   \n",
       "2   2011      Public Health   \n",
       "3   2011      Public Health   \n",
       "4   1971  Aerospace Studies   \n",
       "5   2011      Public Health   \n",
       "6   2011      Public Health   \n",
       "7   2011      Public Health   \n",
       "8   2011      Public Health   \n",
       "9   2011      Public Health   \n",
       "10  2011      Public Health   \n",
       "11  2011      Public Health   \n",
       "12  2011      Public Health   \n",
       "13  2011      Public Health   \n",
       "14  1977  Aerospace Studies   \n",
       "15  1977  Aerospace Studies   \n",
       "16  1977  Aerospace Studies   \n",
       "17  1978  Aerospace Studies   \n",
       "18  1978  Aerospace Studies   \n",
       "19  1978  Aerospace Studies   \n",
       "\n",
       "                                                 Name       Number  \\\n",
       "0                    Officer Basic Military Training            22   \n",
       "1                          Drugs, Health, and Society          103   \n",
       "2   Policy, Planning , and Evaluation of Health Pr...          105   \n",
       "3   Cognitive Science C1 Molecularand Cell Biology...           1B   \n",
       "4                 Officer Advanced Military Training           432   \n",
       "5   Introduction to Probability and Statistics in ...          142   \n",
       "6   Introduction to Statistical Methods in Computa...          143   \n",
       "7   Introduction to Statistical Methods in Computa...         0143   \n",
       "8     Statistical Analysis of Continuous Outcom- Data          145   \n",
       "9      Introduction to Environmental Health Sciences          1503   \n",
       "10  Introduction to Community Health and Human Dev...         150E   \n",
       "11                  Sociology of Health and Medicine          C155   \n",
       "12                                Advanced Toxicology        C1703   \n",
       "13                   The Evolution of Human Sexuality          180   \n",
       "14                      United Slates Air Force Today     1A-1B-1C   \n",
       "15             The Developmental Qrowtti of Air Power  21A-21B-21C   \n",
       "16                          Light Aircraft Operations          442   \n",
       "17                 Introduction to Aerospace Studies             1   \n",
       "18                           The military Force Today            2   \n",
       "19            The Growth and Development of Air Power  21A-21B-21c   \n",
       "\n",
       "                        Area       GenArea  \\\n",
       "0   Aeronautical Engineering   Engineering   \n",
       "1            Health Sciences  Professional   \n",
       "2            Health Sciences  Professional   \n",
       "3            Health Sciences  Professional   \n",
       "4   Aeronautical Engineering   Engineering   \n",
       "5            Health Sciences  Professional   \n",
       "6            Health Sciences  Professional   \n",
       "7            Health Sciences  Professional   \n",
       "8            Health Sciences  Professional   \n",
       "9            Health Sciences  Professional   \n",
       "10           Health Sciences  Professional   \n",
       "11           Health Sciences  Professional   \n",
       "12           Health Sciences  Professional   \n",
       "13           Health Sciences  Professional   \n",
       "14  Aeronautical Engineering   Engineering   \n",
       "15  Aeronautical Engineering   Engineering   \n",
       "16  Aeronautical Engineering   Engineering   \n",
       "17  Aeronautical Engineering   Engineering   \n",
       "18  Aeronautical Engineering   Engineering   \n",
       "19  Aeronautical Engineering   Engineering   \n",
       "\n",
       "                                          Description  Profs1  Profs2   Fall  \\\n",
       "0    (6) Study of world military systems and basic...     NaN     NaN  False   \n",
       "1    (2) Two hours of lecture and one hour of disc...     NaN     NaN  False   \n",
       "2    Three hours of lecture/discussion per week. T...     NaN     NaN   True   \n",
       "3    The course will survey the field of the human...     NaN     NaN   True   \n",
       "4    (3) Four weeks advanced officer training cond...     NaN     NaN  False   \n",
       "5    (4) Three hours of lecture and two hours of d...     NaN     NaN   True   \n",
       "6    (4) Three hours of lecture and one hour of la...     NaN     NaN  False   \n",
       "7    (4) Three hours 0 lecture and one hour of lab...     NaN     NaN  False   \n",
       "8    (4) Three hours of lecture and two hours of l...     NaN     NaN  False   \n",
       "9    (3) Three hours of lecture and one hour of di...     NaN     NaN   True   \n",
       "10   (3) Three hours of lecture and one hour of di...     NaN     NaN  False   \n",
       "11   (4) Students will receive no credit for C155 ...     NaN     NaN   True   \n",
       "12   (34) Three to four hours of lecture per week....     NaN     NaN  False   \n",
       "13   (2) Two hours of seminar per week. This cours...     NaN     NaN   True   \n",
       "14   (22-2) One hour of lecture per week. This cou...     NaN     NaN   True   \n",
       "15   (2-2-2) One hour of lecture per week. This co...     NaN     NaN   True   \n",
       "16   Pr Preparation for qualification as Federally...     NaN     NaN  False   \n",
       "17   (1) One hour lecture/ discussion per week. An...     NaN     NaN   True   \n",
       "18   One hour lecture/ discussion per week. An inv...     NaN     NaN  False   \n",
       "19   (1-1-1) One hour of lecture/ discussion per w...     NaN     NaN   True   \n",
       "\n",
       "    Winter  Spring  Summer  Taught  \n",
       "0    False   False   False   False  \n",
       "1    False    True   False    True  \n",
       "2    False    True   False    True  \n",
       "3    False    True   False    True  \n",
       "4    False   False   False   False  \n",
       "5    False   False   False    True  \n",
       "6    False    True   False    True  \n",
       "7    False    True   False    True  \n",
       "8    False    True   False    True  \n",
       "9    False    True   False    True  \n",
       "10   False    True   False    True  \n",
       "11   False    True   False    True  \n",
       "12   False    True   False    True  \n",
       "13   False   False   False    True  \n",
       "14    True    True   False    True  \n",
       "15    True    True   False    True  \n",
       "16   False    True   False    True  \n",
       "17   False   False   False    True  \n",
       "18   False    True   False    True  \n",
       "19    True    True   False    True  "
      ]
     },
     "execution_count": 2,
     "metadata": {},
     "output_type": "execute_result"
    }
   ],
   "source": [
    "# Thank stackoverflow for fixing the error: \"'utf-8' codec can't decode byte 0xa2 in position 26: invalid start byte\"\n",
    "Cali = pd.read_csv('Courses_Berkeley_2018-01-15.csv', encoding='unicode_escape') \n",
    "Cali.head(20)"
   ]
  },
  {
   "cell_type": "code",
   "execution_count": 3,
   "metadata": {},
   "outputs": [
    {
     "data": {
      "text/plain": [
       "array(['Aerospace Studies', 'Public Health', 'African American Studies',\n",
       "       'Education', 'Public Policy', 'AfroAmerican Studies',\n",
       "       'Linguistics', 'Public Speaking',\n",
       "       'Agricultural and Environmental Chemistry',\n",
       "       'Agricultural and Resource Economics', 'Range Management',\n",
       "       'Religious Studies', 'Agricultural Chemistry', 'Resource Sciences',\n",
       "       'Agricultural Economics', 'Rhetoric',\n",
       "       'Logic and the Methodology of Science', 'Agricultural Engineering',\n",
       "       'Agriculture', 'Electrical Engineering',\n",
       "       'Electrical Engineering and Computer Science', 'Management',\n",
       "       'Romance Languages and Literatures', 'Romance Philology',\n",
       "       'Romanic Languages', 'Sanskrit', 'Scandinavian', 'Engineering',\n",
       "       'Business Administration', 'Agronomy', 'Air Science',\n",
       "       'Air Science and Tactics', 'American Civilization',\n",
       "       'American Studies', 'Science and Mathematics Education', 'Anatomy',\n",
       "       'Mathematics', 'Semitic Languages', 'Cell Physiology',\n",
       "       'Ancient History and Mediterranean Archa?eology',\n",
       "       'Animal Husbandry', 'Animal Industry', 'Slavic Languages',\n",
       "       'Anthropology', 'Slavic Languages and Literatures?',\n",
       "       'Mechanical Engineering', 'Engineering Design',\n",
       "       'Social and Administrative Health Sciences', 'Applied Mechanics',\n",
       "       'Social Institutions', 'Applied Science and Technology', 'Arabic',\n",
       "       'Archaeology', 'Architecture', 'Social Welfare', 'English',\n",
       "       'Chicano Studies', 'Sociology', 'Mineral Engineering', 'Art',\n",
       "       'Asian American and Asian Diaspora Studies',\n",
       "       'Asian American Studies', 'Sociology and Demography',\n",
       "       'Sociology and Social Institutions', 'Entomological Sciences',\n",
       "       'Asian American Studies Program', 'Asian Studies', 'Soil Science',\n",
       "       'Astronomy', 'Soils', 'Soils and Plant Nutrition',\n",
       "       'South and Southeast Asian Studies',\n",
       "       'Environmental Health Sciences', 'Atmospheric and Space Sciences',\n",
       "       'Bacteriology', 'Bacteriology and Experimental Pathology',\n",
       "       'Bacteriology and Immunology', 'Spanish', 'Biochemistry',\n",
       "       'Biochemistry and Pharmacology', 'Spanish and Portuguese',\n",
       "       'Ethnic Studies', 'Biology',\n",
       "       'Biomedical and Environmental Health Sciences', 'Film',\n",
       "       'Film and Media', 'Folklore', 'Food Science', 'Biophysics',\n",
       "       'Biophysics and Medical Physics', 'Food Technology',\n",
       "       'Biostatistics', 'Botany', 'Forestry', 'Music',\n",
       "       'Forestry and Conservation', 'Forestry and Resource Management',\n",
       "       'Buddhist Studies', 'Speech', 'Statistics', 'French',\n",
       "       'Naval Architecture and Offshore Engineering',\n",
       "       'Near Eastern Studies', 'Structural Mechanics', 'Surgery',\n",
       "       'Transportation Engineering', 'Genetics',\n",
       "       'Wildland Resource Science', 'Womens Studies', 'Geography',\n",
       "       'Wood Science and Technology', 'Zoology',\n",
       "       'Computer Science Division', 'Criminology', 'Critical Theory',\n",
       "       'Celtic', 'Celtic Studies',\n",
       "       'Chemical and Biomolecular Engineering', 'Chemical E',\n",
       "       'Chemical Engineering', 'Nutritional Sciences', 'Chemistry',\n",
       "       'Geological Sciences', 'German',\n",
       "       'Chemistry and Chemical Engineering', 'Oriental Languages',\n",
       "       'City and Regional Planning', 'Paleontology',\n",
       "       'Civil and Environmental Engineering', 'Civil Engineering',\n",
       "       'Germanic Philology', 'Greek', 'Philosophy', 'History',\n",
       "       'Physical Education', 'Classics', 'History of Art',\n",
       "       'Comparative Biochemistry', 'Comparative Literature',\n",
       "       'Home Economics', 'Physiology Anatomy', 'Household Art',\n",
       "       'Household Science', 'Human Biodynamics', 'Humanities', 'Planning',\n",
       "       'Hygeine', 'Immunology', 'Composition', 'Computer Science',\n",
       "       'Industrial Engineering and Operations Research',\n",
       "       'Conservation and Resource Studies', 'Consumer Sciences', 'Dance',\n",
       "       'Decorative Art', 'Demography', 'Dentistry', 'Design',\n",
       "       'Integrative Biology', 'Development Studies',\n",
       "       'Developmental Biology', 'Drama', 'Dramatic Art',\n",
       "       'International Education', 'Irrigation', 'Political Science',\n",
       "       'Italian', 'Dramatic Art and Dance', 'Drawing', 'Drawing and Art',\n",
       "       'Dutch Studies', 'Earth and Planetary Science',\n",
       "       'East Asian Languages', 'East Asian Languages and Cultures',\n",
       "       'Journalism', 'East European Studies', 'Economics',\n",
       "       'Journalistic Studies', 'Jurisprudence', 'Pomology', 'Portuguese',\n",
       "       'Practice of Art', 'Landscape Architecture', 'Psychology', 'Latin',\n",
       "       'Law', 'Librarianship', 'Literature', 'Mass Communications',\n",
       "       'Material Science and Engineering',\n",
       "       'Materials Science and Mineral Engineering', 'Endocrinology',\n",
       "       'Energy and Resources Group ERG',\n",
       "       'Scandinavian Languages and Literature', 'Nursing',\n",
       "       'Mathematics Education', 'Mechanical and Electrical Engineering',\n",
       "       'Engineering Interdisciplinary Studies', 'Engineering Science',\n",
       "       'Medical Physics', 'Mediterranean Archaeology',\n",
       "       'Microbiology and Immunology', 'Middle Eastern Studies',\n",
       "       'Military Science', 'Military Science and Tactics',\n",
       "       'Mineral Technology', 'Mineralogy', 'Mining and Metallurgy',\n",
       "       'Molecular and Cell Biology', 'Entomology and Parisitology',\n",
       "       'Environmental Design', 'Environmental Engineering',\n",
       "       'Environmental Science', 'Environmental Studies', 'Ethno',\n",
       "       'Ethnomusicology', 'Native American Studies', 'Naval Architecture',\n",
       "       'Naval Science', 'Naval Science and Tactics',\n",
       "       'Near Eastern Languages', 'Nuclear Engineering', 'Nutrition',\n",
       "       'Nutrition and Home Economics', 'Nutrition Science',\n",
       "       'Nutritional Sciences and Toxicology', 'Oceanography',\n",
       "       'Operations Research', 'Optometry', 'Geology',\n",
       "       'Geology and Geophysics', 'Geology and Mineralogy', 'Politics',\n",
       "       'Orthopaedics', 'Group Major in Dutch Studies',\n",
       "       'Health and Medical Sciences', 'Health Arts and Sciences',\n",
       "       'Health Sciences', 'Hebrew', 'Physical Culture',\n",
       "       'Physical Education for Women', 'Physics',\n",
       "       'History and Political Science', 'Physiology', 'Hungarian',\n",
       "       'Hydraulic and Sanitary Engineering', 'Industrial Engineering',\n",
       "       'Plant and Microbial Biology', 'Plant and Soil Biology',\n",
       "       'Plant Biology', 'Plant Nutrition', 'Plant Pathology',\n",
       "       'Infectious Diseases', 'Information',\n",
       "       'Information Management and Systems', 'Information Studies',\n",
       "       'Political Economy of Industrial Societies', 'Italian Studies',\n",
       "       'Population Studies', 'Poultry Husbandry',\n",
       "       'Landscape Architecture and Environmental Planning',\n",
       "       'Latin American Studies', 'Public and NonProfit Management',\n",
       "       'Legal Studies', 'Library and Information Studies',\n",
       "       'Library Practice', 'Library Science', 'Material Science',\n",
       "       'Neurobiology', 'Slavic', 'MedicoMilitary Science and Tactics',\n",
       "       'Medieval Studies', 'Microbiology',\n",
       "       'Military and Naval Intelligence', 'Pathology and Bacteriology',\n",
       "       'Peace and Conflict Studies',\n",
       "       'Molecular and Physiological Plany Biology', 'Molecular Biology',\n",
       "       'Molecular Plant Biology', 'Molevular and Biochemical Nutrition',\n",
       "       'Nanoscale Science and Engineering', 'Nanoscience and Engineering',\n",
       "       'Native American Studies Program', 'Welfare', 'Political Behavior',\n",
       "       'Political Economy', 'Neuroscience', 'New Media',\n",
       "       'Zoology and Psychology', 'Parisitology', 'Pathology', 'Pharmacy',\n",
       "       'Philosophy and Psychology', 'Physical Therapy',\n",
       "       'Physiological Chemistry',\n",
       "       'Physiology and Physiological Chemistry', 'Plant Hematology',\n",
       "       'Plant Physiology', 'Program in Visual Design', 'Vegetable Crops',\n",
       "       'Veterans Affairs', 'World Affairs',\n",
       "       'Structural Engineering and Structural Mechanics', 'Urban Design',\n",
       "       'Epidemiology', 'Veterinary Science'], dtype=object)"
      ]
     },
     "execution_count": 3,
     "metadata": {},
     "output_type": "execute_result"
    }
   ],
   "source": [
    "# What are the fields of study?\n",
    "Cali['Field'].unique()"
   ]
  },
  {
   "cell_type": "code",
   "execution_count": 3,
   "metadata": {},
   "outputs": [
    {
     "data": {
      "text/plain": [
       "(305670, 14)"
      ]
     },
     "execution_count": 3,
     "metadata": {},
     "output_type": "execute_result"
    }
   ],
   "source": [
    "#What is the shape of the data?\n",
    "Cali.shape"
   ]
  },
  {
   "cell_type": "code",
   "execution_count": 5,
   "metadata": {},
   "outputs": [
    {
     "data": {
      "text/html": [
       "<div>\n",
       "<style scoped>\n",
       "    .dataframe tbody tr th:only-of-type {\n",
       "        vertical-align: middle;\n",
       "    }\n",
       "\n",
       "    .dataframe tbody tr th {\n",
       "        vertical-align: top;\n",
       "    }\n",
       "\n",
       "    .dataframe thead th {\n",
       "        text-align: right;\n",
       "    }\n",
       "</style>\n",
       "<table border=\"1\" class=\"dataframe\">\n",
       "  <thead>\n",
       "    <tr style=\"text-align: right;\">\n",
       "      <th></th>\n",
       "      <th>Year</th>\n",
       "      <th>Field</th>\n",
       "      <th>Name</th>\n",
       "      <th>Number</th>\n",
       "      <th>Area</th>\n",
       "      <th>GenArea</th>\n",
       "      <th>Description</th>\n",
       "      <th>Profs1</th>\n",
       "      <th>Profs2</th>\n",
       "      <th>Fall</th>\n",
       "      <th>Winter</th>\n",
       "      <th>Spring</th>\n",
       "      <th>Summer</th>\n",
       "      <th>Taught</th>\n",
       "    </tr>\n",
       "  </thead>\n",
       "  <tbody>\n",
       "    <tr>\n",
       "      <th>0</th>\n",
       "      <td>1967</td>\n",
       "      <td>Aerospace Studies</td>\n",
       "      <td>Officer Basic Military Training</td>\n",
       "      <td>22</td>\n",
       "      <td>Aeronautical Engineering</td>\n",
       "      <td>Engineering</td>\n",
       "      <td>(6) Study of world military systems and basic...</td>\n",
       "      <td>Unknown</td>\n",
       "      <td>Unknown</td>\n",
       "      <td>False</td>\n",
       "      <td>False</td>\n",
       "      <td>False</td>\n",
       "      <td>False</td>\n",
       "      <td>False</td>\n",
       "    </tr>\n",
       "    <tr>\n",
       "      <th>1</th>\n",
       "      <td>2011</td>\n",
       "      <td>Public Health</td>\n",
       "      <td>Drugs, Health, and Society</td>\n",
       "      <td>103</td>\n",
       "      <td>Health Sciences</td>\n",
       "      <td>Professional</td>\n",
       "      <td>(2) Two hours of lecture and one hour of disc...</td>\n",
       "      <td>Unknown</td>\n",
       "      <td>Unknown</td>\n",
       "      <td>False</td>\n",
       "      <td>False</td>\n",
       "      <td>True</td>\n",
       "      <td>False</td>\n",
       "      <td>True</td>\n",
       "    </tr>\n",
       "    <tr>\n",
       "      <th>2</th>\n",
       "      <td>2011</td>\n",
       "      <td>Public Health</td>\n",
       "      <td>Policy, Planning , and Evaluation of Health Pr...</td>\n",
       "      <td>105</td>\n",
       "      <td>Health Sciences</td>\n",
       "      <td>Professional</td>\n",
       "      <td>Three hours of lecture/discussion per week. T...</td>\n",
       "      <td>Unknown</td>\n",
       "      <td>Unknown</td>\n",
       "      <td>True</td>\n",
       "      <td>False</td>\n",
       "      <td>True</td>\n",
       "      <td>False</td>\n",
       "      <td>True</td>\n",
       "    </tr>\n",
       "    <tr>\n",
       "      <th>3</th>\n",
       "      <td>2011</td>\n",
       "      <td>Public Health</td>\n",
       "      <td>Cognitive Science C1 Molecularand Cell Biology...</td>\n",
       "      <td>1B</td>\n",
       "      <td>Health Sciences</td>\n",
       "      <td>Professional</td>\n",
       "      <td>The course will survey the field of the human...</td>\n",
       "      <td>Unknown</td>\n",
       "      <td>Unknown</td>\n",
       "      <td>True</td>\n",
       "      <td>False</td>\n",
       "      <td>True</td>\n",
       "      <td>False</td>\n",
       "      <td>True</td>\n",
       "    </tr>\n",
       "    <tr>\n",
       "      <th>4</th>\n",
       "      <td>1971</td>\n",
       "      <td>Aerospace Studies</td>\n",
       "      <td>Officer Advanced Military Training</td>\n",
       "      <td>432</td>\n",
       "      <td>Aeronautical Engineering</td>\n",
       "      <td>Engineering</td>\n",
       "      <td>(3) Four weeks advanced officer training cond...</td>\n",
       "      <td>Unknown</td>\n",
       "      <td>Unknown</td>\n",
       "      <td>False</td>\n",
       "      <td>False</td>\n",
       "      <td>False</td>\n",
       "      <td>False</td>\n",
       "      <td>False</td>\n",
       "    </tr>\n",
       "    <tr>\n",
       "      <th>...</th>\n",
       "      <td>...</td>\n",
       "      <td>...</td>\n",
       "      <td>...</td>\n",
       "      <td>...</td>\n",
       "      <td>...</td>\n",
       "      <td>...</td>\n",
       "      <td>...</td>\n",
       "      <td>...</td>\n",
       "      <td>...</td>\n",
       "      <td>...</td>\n",
       "      <td>...</td>\n",
       "      <td>...</td>\n",
       "      <td>...</td>\n",
       "      <td>...</td>\n",
       "    </tr>\n",
       "    <tr>\n",
       "      <th>305665</th>\n",
       "      <td>1969</td>\n",
       "      <td>Zoology</td>\n",
       "      <td>Seminar in Comparative Functional Biology of I...</td>\n",
       "      <td>227</td>\n",
       "      <td>Biology</td>\n",
       "      <td>Natural Sciences</td>\n",
       "      <td>(2) One 2-hour meeting per week. Pr Smith (F)</td>\n",
       "      <td>593</td>\n",
       "      <td>9954</td>\n",
       "      <td>True</td>\n",
       "      <td>False</td>\n",
       "      <td>False</td>\n",
       "      <td>False</td>\n",
       "      <td>True</td>\n",
       "    </tr>\n",
       "    <tr>\n",
       "      <th>305666</th>\n",
       "      <td>1919</td>\n",
       "      <td>Agriculture</td>\n",
       "      <td>Diseases of Farm Animals (3)</td>\n",
       "      <td>100</td>\n",
       "      <td>Agriculture</td>\n",
       "      <td>Professional</td>\n",
       "      <td>Unknown</td>\n",
       "      <td>547</td>\n",
       "      <td>997</td>\n",
       "      <td>True</td>\n",
       "      <td>True</td>\n",
       "      <td>False</td>\n",
       "      <td>False</td>\n",
       "      <td>True</td>\n",
       "    </tr>\n",
       "    <tr>\n",
       "      <th>305667</th>\n",
       "      <td>1918</td>\n",
       "      <td>Agriculture</td>\n",
       "      <td>Principles of Dairying</td>\n",
       "      <td>102</td>\n",
       "      <td>Agriculture</td>\n",
       "      <td>Professional</td>\n",
       "      <td>(Ro ADHOii SE) The secretion of milk, nature ...</td>\n",
       "      <td>549</td>\n",
       "      <td>997</td>\n",
       "      <td>True</td>\n",
       "      <td>False</td>\n",
       "      <td>False</td>\n",
       "      <td>False</td>\n",
       "      <td>True</td>\n",
       "    </tr>\n",
       "    <tr>\n",
       "      <th>305668</th>\n",
       "      <td>1917</td>\n",
       "      <td>Agriculture</td>\n",
       "      <td>Bacteriology of Milk, Sanitary Milk Production...</td>\n",
       "      <td>117</td>\n",
       "      <td>Agriculture</td>\n",
       "      <td>Professional</td>\n",
       "      <td>The production and distribution of the variou...</td>\n",
       "      <td>547</td>\n",
       "      <td>997</td>\n",
       "      <td>True</td>\n",
       "      <td>False</td>\n",
       "      <td>False</td>\n",
       "      <td>False</td>\n",
       "      <td>True</td>\n",
       "    </tr>\n",
       "    <tr>\n",
       "      <th>305669</th>\n",
       "      <td>1919</td>\n",
       "      <td>Agriculture</td>\n",
       "      <td>Bacteriology of Milk, Sanitary Milk Production...</td>\n",
       "      <td>117</td>\n",
       "      <td>Agriculture</td>\n",
       "      <td>Professional</td>\n",
       "      <td>Unknown</td>\n",
       "      <td>547</td>\n",
       "      <td>997</td>\n",
       "      <td>True</td>\n",
       "      <td>False</td>\n",
       "      <td>False</td>\n",
       "      <td>False</td>\n",
       "      <td>True</td>\n",
       "    </tr>\n",
       "  </tbody>\n",
       "</table>\n",
       "<p>305670 rows × 14 columns</p>\n",
       "</div>"
      ],
      "text/plain": [
       "        Year              Field  \\\n",
       "0       1967  Aerospace Studies   \n",
       "1       2011      Public Health   \n",
       "2       2011      Public Health   \n",
       "3       2011      Public Health   \n",
       "4       1971  Aerospace Studies   \n",
       "...      ...                ...   \n",
       "305665  1969            Zoology   \n",
       "305666  1919        Agriculture   \n",
       "305667  1918        Agriculture   \n",
       "305668  1917        Agriculture   \n",
       "305669  1919        Agriculture   \n",
       "\n",
       "                                                     Name Number  \\\n",
       "0                        Officer Basic Military Training      22   \n",
       "1                              Drugs, Health, and Society    103   \n",
       "2       Policy, Planning , and Evaluation of Health Pr...    105   \n",
       "3       Cognitive Science C1 Molecularand Cell Biology...     1B   \n",
       "4                     Officer Advanced Military Training     432   \n",
       "...                                                   ...    ...   \n",
       "305665  Seminar in Comparative Functional Biology of I...    227   \n",
       "305666                       Diseases of Farm Animals (3)    100   \n",
       "305667                             Principles of Dairying    102   \n",
       "305668  Bacteriology of Milk, Sanitary Milk Production...    117   \n",
       "305669  Bacteriology of Milk, Sanitary Milk Production...    117   \n",
       "\n",
       "                            Area           GenArea  \\\n",
       "0       Aeronautical Engineering       Engineering   \n",
       "1                Health Sciences      Professional   \n",
       "2                Health Sciences      Professional   \n",
       "3                Health Sciences      Professional   \n",
       "4       Aeronautical Engineering       Engineering   \n",
       "...                          ...               ...   \n",
       "305665                   Biology  Natural Sciences   \n",
       "305666               Agriculture      Professional   \n",
       "305667               Agriculture      Professional   \n",
       "305668               Agriculture      Professional   \n",
       "305669               Agriculture      Professional   \n",
       "\n",
       "                                              Description   Profs1   Profs2  \\\n",
       "0        (6) Study of world military systems and basic...  Unknown  Unknown   \n",
       "1        (2) Two hours of lecture and one hour of disc...  Unknown  Unknown   \n",
       "2        Three hours of lecture/discussion per week. T...  Unknown  Unknown   \n",
       "3        The course will survey the field of the human...  Unknown  Unknown   \n",
       "4        (3) Four weeks advanced officer training cond...  Unknown  Unknown   \n",
       "...                                                   ...      ...      ...   \n",
       "305665      (2) One 2-hour meeting per week. Pr Smith (F)      593     9954   \n",
       "305666                                            Unknown      547      997   \n",
       "305667   (Ro ADHOii SE) The secretion of milk, nature ...      549      997   \n",
       "305668   The production and distribution of the variou...      547      997   \n",
       "305669                                            Unknown      547      997   \n",
       "\n",
       "         Fall  Winter  Spring  Summer  Taught  \n",
       "0       False   False   False   False   False  \n",
       "1       False   False    True   False    True  \n",
       "2        True   False    True   False    True  \n",
       "3        True   False    True   False    True  \n",
       "4       False   False   False   False   False  \n",
       "...       ...     ...     ...     ...     ...  \n",
       "305665   True   False   False   False    True  \n",
       "305666   True    True   False   False    True  \n",
       "305667   True   False   False   False    True  \n",
       "305668   True   False   False   False    True  \n",
       "305669   True   False   False   False    True  \n",
       "\n",
       "[305670 rows x 14 columns]"
      ]
     },
     "execution_count": 5,
     "metadata": {},
     "output_type": "execute_result"
    }
   ],
   "source": [
    "# Replace NaNs in Profs1 and Profs2\n",
    "Cali.fillna(value=\"Unknown\", axis=1)"
   ]
  },
  {
   "cell_type": "code",
   "execution_count": 3,
   "metadata": {},
   "outputs": [
    {
     "data": {
      "text/plain": [
       "Year             int64\n",
       "Field           object\n",
       "Name            object\n",
       "Number          object\n",
       "Area            object\n",
       "GenArea         object\n",
       "Description     object\n",
       "Profs1         float64\n",
       "Profs2         float64\n",
       "Fall              bool\n",
       "Winter            bool\n",
       "Spring            bool\n",
       "Summer            bool\n",
       "Taught            bool\n",
       "dtype: object"
      ]
     },
     "execution_count": 3,
     "metadata": {},
     "output_type": "execute_result"
    }
   ],
   "source": [
    "#Look at data types of each column\n",
    "Cali.dtypes"
   ]
  },
  {
   "cell_type": "code",
   "execution_count": 3,
   "metadata": {},
   "outputs": [
    {
     "data": {
      "text/plain": [
       "Humanities          85808\n",
       "Professional        67113\n",
       "Social Sciences     52421\n",
       "Natural Sciences    48808\n",
       "Engineering         38537\n",
       "Education           12983\n",
       "Name: GenArea, dtype: int64"
      ]
     },
     "execution_count": 3,
     "metadata": {},
     "output_type": "execute_result"
    }
   ],
   "source": [
    "# How many fields in GenArea?\n",
    "Schools = Cali['GenArea'].value_counts()\n",
    "Schools"
   ]
  },
  {
   "cell_type": "code",
   "execution_count": 4,
   "metadata": {},
   "outputs": [
    {
     "data": {
      "text/html": [
       "<div>\n",
       "<style scoped>\n",
       "    .dataframe tbody tr th:only-of-type {\n",
       "        vertical-align: middle;\n",
       "    }\n",
       "\n",
       "    .dataframe tbody tr th {\n",
       "        vertical-align: top;\n",
       "    }\n",
       "\n",
       "    .dataframe thead th {\n",
       "        text-align: right;\n",
       "    }\n",
       "</style>\n",
       "<table border=\"1\" class=\"dataframe\">\n",
       "  <thead>\n",
       "    <tr style=\"text-align: right;\">\n",
       "      <th></th>\n",
       "      <th>Year</th>\n",
       "      <th>Field</th>\n",
       "      <th>Name</th>\n",
       "      <th>Number</th>\n",
       "      <th>Area</th>\n",
       "      <th>GenArea</th>\n",
       "      <th>Description</th>\n",
       "      <th>Profs1</th>\n",
       "      <th>Profs2</th>\n",
       "      <th>Fall</th>\n",
       "      <th>Winter</th>\n",
       "      <th>Spring</th>\n",
       "      <th>Summer</th>\n",
       "      <th>Taught</th>\n",
       "    </tr>\n",
       "  </thead>\n",
       "  <tbody>\n",
       "    <tr>\n",
       "      <th>1</th>\n",
       "      <td>2011</td>\n",
       "      <td>Public Health</td>\n",
       "      <td>Drugs, Health, and Society</td>\n",
       "      <td>103</td>\n",
       "      <td>Health Sciences</td>\n",
       "      <td>Professional</td>\n",
       "      <td>(2) Two hours of lecture and one hour of disc...</td>\n",
       "      <td>NaN</td>\n",
       "      <td>NaN</td>\n",
       "      <td>False</td>\n",
       "      <td>False</td>\n",
       "      <td>True</td>\n",
       "      <td>False</td>\n",
       "      <td>True</td>\n",
       "    </tr>\n",
       "    <tr>\n",
       "      <th>2</th>\n",
       "      <td>2011</td>\n",
       "      <td>Public Health</td>\n",
       "      <td>Policy, Planning , and Evaluation of Health Pr...</td>\n",
       "      <td>105</td>\n",
       "      <td>Health Sciences</td>\n",
       "      <td>Professional</td>\n",
       "      <td>Three hours of lecture/discussion per week. T...</td>\n",
       "      <td>NaN</td>\n",
       "      <td>NaN</td>\n",
       "      <td>True</td>\n",
       "      <td>False</td>\n",
       "      <td>True</td>\n",
       "      <td>False</td>\n",
       "      <td>True</td>\n",
       "    </tr>\n",
       "    <tr>\n",
       "      <th>3</th>\n",
       "      <td>2011</td>\n",
       "      <td>Public Health</td>\n",
       "      <td>Cognitive Science C1 Molecularand Cell Biology...</td>\n",
       "      <td>1B</td>\n",
       "      <td>Health Sciences</td>\n",
       "      <td>Professional</td>\n",
       "      <td>The course will survey the field of the human...</td>\n",
       "      <td>NaN</td>\n",
       "      <td>NaN</td>\n",
       "      <td>True</td>\n",
       "      <td>False</td>\n",
       "      <td>True</td>\n",
       "      <td>False</td>\n",
       "      <td>True</td>\n",
       "    </tr>\n",
       "    <tr>\n",
       "      <th>5</th>\n",
       "      <td>2011</td>\n",
       "      <td>Public Health</td>\n",
       "      <td>Introduction to Probability and Statistics in ...</td>\n",
       "      <td>142</td>\n",
       "      <td>Health Sciences</td>\n",
       "      <td>Professional</td>\n",
       "      <td>(4) Three hours of lecture and two hours of d...</td>\n",
       "      <td>NaN</td>\n",
       "      <td>NaN</td>\n",
       "      <td>True</td>\n",
       "      <td>False</td>\n",
       "      <td>False</td>\n",
       "      <td>False</td>\n",
       "      <td>True</td>\n",
       "    </tr>\n",
       "    <tr>\n",
       "      <th>6</th>\n",
       "      <td>2011</td>\n",
       "      <td>Public Health</td>\n",
       "      <td>Introduction to Statistical Methods in Computa...</td>\n",
       "      <td>143</td>\n",
       "      <td>Health Sciences</td>\n",
       "      <td>Professional</td>\n",
       "      <td>(4) Three hours of lecture and one hour of la...</td>\n",
       "      <td>NaN</td>\n",
       "      <td>NaN</td>\n",
       "      <td>False</td>\n",
       "      <td>False</td>\n",
       "      <td>True</td>\n",
       "      <td>False</td>\n",
       "      <td>True</td>\n",
       "    </tr>\n",
       "    <tr>\n",
       "      <th>...</th>\n",
       "      <td>...</td>\n",
       "      <td>...</td>\n",
       "      <td>...</td>\n",
       "      <td>...</td>\n",
       "      <td>...</td>\n",
       "      <td>...</td>\n",
       "      <td>...</td>\n",
       "      <td>...</td>\n",
       "      <td>...</td>\n",
       "      <td>...</td>\n",
       "      <td>...</td>\n",
       "      <td>...</td>\n",
       "      <td>...</td>\n",
       "      <td>...</td>\n",
       "    </tr>\n",
       "    <tr>\n",
       "      <th>305655</th>\n",
       "      <td>1948</td>\n",
       "      <td>Agriculture</td>\n",
       "      <td>Special Study for Advanced Undergraduates</td>\n",
       "      <td>I199</td>\n",
       "      <td>Agriculture</td>\n",
       "      <td>Professional</td>\n",
       "      <td>charge) - Not to be given, 1949-1950. Smith</td>\n",
       "      <td>2716.0</td>\n",
       "      <td>995.0</td>\n",
       "      <td>True</td>\n",
       "      <td>True</td>\n",
       "      <td>False</td>\n",
       "      <td>False</td>\n",
       "      <td>True</td>\n",
       "    </tr>\n",
       "    <tr>\n",
       "      <th>305666</th>\n",
       "      <td>1919</td>\n",
       "      <td>Agriculture</td>\n",
       "      <td>Diseases of Farm Animals (3)</td>\n",
       "      <td>100</td>\n",
       "      <td>Agriculture</td>\n",
       "      <td>Professional</td>\n",
       "      <td>NaN</td>\n",
       "      <td>547.0</td>\n",
       "      <td>997.0</td>\n",
       "      <td>True</td>\n",
       "      <td>True</td>\n",
       "      <td>False</td>\n",
       "      <td>False</td>\n",
       "      <td>True</td>\n",
       "    </tr>\n",
       "    <tr>\n",
       "      <th>305667</th>\n",
       "      <td>1918</td>\n",
       "      <td>Agriculture</td>\n",
       "      <td>Principles of Dairying</td>\n",
       "      <td>102</td>\n",
       "      <td>Agriculture</td>\n",
       "      <td>Professional</td>\n",
       "      <td>(Ro ADHOii SE) The secretion of milk, nature ...</td>\n",
       "      <td>549.0</td>\n",
       "      <td>997.0</td>\n",
       "      <td>True</td>\n",
       "      <td>False</td>\n",
       "      <td>False</td>\n",
       "      <td>False</td>\n",
       "      <td>True</td>\n",
       "    </tr>\n",
       "    <tr>\n",
       "      <th>305668</th>\n",
       "      <td>1917</td>\n",
       "      <td>Agriculture</td>\n",
       "      <td>Bacteriology of Milk, Sanitary Milk Production...</td>\n",
       "      <td>117</td>\n",
       "      <td>Agriculture</td>\n",
       "      <td>Professional</td>\n",
       "      <td>The production and distribution of the variou...</td>\n",
       "      <td>547.0</td>\n",
       "      <td>997.0</td>\n",
       "      <td>True</td>\n",
       "      <td>False</td>\n",
       "      <td>False</td>\n",
       "      <td>False</td>\n",
       "      <td>True</td>\n",
       "    </tr>\n",
       "    <tr>\n",
       "      <th>305669</th>\n",
       "      <td>1919</td>\n",
       "      <td>Agriculture</td>\n",
       "      <td>Bacteriology of Milk, Sanitary Milk Production...</td>\n",
       "      <td>117</td>\n",
       "      <td>Agriculture</td>\n",
       "      <td>Professional</td>\n",
       "      <td>NaN</td>\n",
       "      <td>547.0</td>\n",
       "      <td>997.0</td>\n",
       "      <td>True</td>\n",
       "      <td>False</td>\n",
       "      <td>False</td>\n",
       "      <td>False</td>\n",
       "      <td>True</td>\n",
       "    </tr>\n",
       "  </tbody>\n",
       "</table>\n",
       "<p>67113 rows × 14 columns</p>\n",
       "</div>"
      ],
      "text/plain": [
       "        Year          Field  \\\n",
       "1       2011  Public Health   \n",
       "2       2011  Public Health   \n",
       "3       2011  Public Health   \n",
       "5       2011  Public Health   \n",
       "6       2011  Public Health   \n",
       "...      ...            ...   \n",
       "305655  1948    Agriculture   \n",
       "305666  1919    Agriculture   \n",
       "305667  1918    Agriculture   \n",
       "305668  1917    Agriculture   \n",
       "305669  1919    Agriculture   \n",
       "\n",
       "                                                     Name Number  \\\n",
       "1                              Drugs, Health, and Society    103   \n",
       "2       Policy, Planning , and Evaluation of Health Pr...    105   \n",
       "3       Cognitive Science C1 Molecularand Cell Biology...     1B   \n",
       "5       Introduction to Probability and Statistics in ...    142   \n",
       "6       Introduction to Statistical Methods in Computa...    143   \n",
       "...                                                   ...    ...   \n",
       "305655         Special Study for Advanced Undergraduates    I199   \n",
       "305666                       Diseases of Farm Animals (3)    100   \n",
       "305667                             Principles of Dairying    102   \n",
       "305668  Bacteriology of Milk, Sanitary Milk Production...    117   \n",
       "305669  Bacteriology of Milk, Sanitary Milk Production...    117   \n",
       "\n",
       "                   Area       GenArea  \\\n",
       "1       Health Sciences  Professional   \n",
       "2       Health Sciences  Professional   \n",
       "3       Health Sciences  Professional   \n",
       "5       Health Sciences  Professional   \n",
       "6       Health Sciences  Professional   \n",
       "...                 ...           ...   \n",
       "305655      Agriculture  Professional   \n",
       "305666      Agriculture  Professional   \n",
       "305667      Agriculture  Professional   \n",
       "305668      Agriculture  Professional   \n",
       "305669      Agriculture  Professional   \n",
       "\n",
       "                                              Description  Profs1  Profs2  \\\n",
       "1        (2) Two hours of lecture and one hour of disc...     NaN     NaN   \n",
       "2        Three hours of lecture/discussion per week. T...     NaN     NaN   \n",
       "3        The course will survey the field of the human...     NaN     NaN   \n",
       "5        (4) Three hours of lecture and two hours of d...     NaN     NaN   \n",
       "6        (4) Three hours of lecture and one hour of la...     NaN     NaN   \n",
       "...                                                   ...     ...     ...   \n",
       "305655        charge) - Not to be given, 1949-1950. Smith  2716.0   995.0   \n",
       "305666                                                NaN   547.0   997.0   \n",
       "305667   (Ro ADHOii SE) The secretion of milk, nature ...   549.0   997.0   \n",
       "305668   The production and distribution of the variou...   547.0   997.0   \n",
       "305669                                                NaN   547.0   997.0   \n",
       "\n",
       "         Fall  Winter  Spring  Summer  Taught  \n",
       "1       False   False    True   False    True  \n",
       "2        True   False    True   False    True  \n",
       "3        True   False    True   False    True  \n",
       "5        True   False   False   False    True  \n",
       "6       False   False    True   False    True  \n",
       "...       ...     ...     ...     ...     ...  \n",
       "305655   True    True   False   False    True  \n",
       "305666   True    True   False   False    True  \n",
       "305667   True   False   False   False    True  \n",
       "305668   True   False   False   False    True  \n",
       "305669   True   False   False   False    True  \n",
       "\n",
       "[67113 rows x 14 columns]"
      ]
     },
     "execution_count": 4,
     "metadata": {},
     "output_type": "execute_result"
    }
   ],
   "source": [
    "# Humanities, Professional, Social Sciences, Natural Sciences, Engineering, Education. Create a viz\n",
    "\n",
    "# Create a dataframe for each school\n",
    "Humanities = Cali.loc[Cali['GenArea'] == 'Humanities']\n",
    "Professional = Cali.loc[Cali['GenArea'] == 'Professional']\n",
    "Social_Sci = Cali.loc[Cali['GenArea'] == 'Social Sciences']\n",
    "Natural_Sci = Cali.loc[Cali['GenArea'] == 'Natural Sciences']\n",
    "Engineering = Cali.loc[Cali['GenArea'] == 'Engineering']\n",
    "Education = Cali.loc[Cali['GenArea'] == 'Education']\n",
    "\n",
    "Professional"
   ]
  },
  {
   "cell_type": "code",
   "execution_count": 5,
   "metadata": {},
   "outputs": [
    {
     "data": {
      "text/plain": [
       "Biology                     19071\n",
       "Ethnic Studies              15582\n",
       "Agriculture                  9907\n",
       "Education                    9539\n",
       "Political Science            9188\n",
       "                            ...  \n",
       "Development                    45\n",
       "Agricultural Engineering       35\n",
       "Dentistry                      21\n",
       "Demography                     21\n",
       "Veterinary Science             12\n",
       "Name: Area, Length: 90, dtype: int64"
      ]
     },
     "execution_count": 5,
     "metadata": {},
     "output_type": "execute_result"
    }
   ],
   "source": [
    "# How many subAreas?\n",
    "SubAreas = Cali['Area'].value_counts()\n",
    "SubAreas"
   ]
  },
  {
   "cell_type": "markdown",
   "metadata": {},
   "source": [
    "Let's do some Visualizations!"
   ]
  },
  {
   "cell_type": "code",
   "execution_count": 11,
   "metadata": {},
   "outputs": [
    {
     "data": {
      "text/plain": [
       "Ethnic Studies            15582\n",
       "English                    8981\n",
       "Languages Romantic         7899\n",
       "Languages Germanic         6356\n",
       "Languages Asian            5632\n",
       "Music                      5563\n",
       "Classics                   5197\n",
       "Languages Slavic           5094\n",
       "Philosophy                 4781\n",
       "Spanish                    4566\n",
       "Art                        3960\n",
       "Languages Ancient          2664\n",
       "Languages Other            2294\n",
       "Comparative Literature     2281\n",
       "Theater                    2086\n",
       "Langauges Arabic           1067\n",
       "Art History                 944\n",
       "Folklore                    239\n",
       "Film                        233\n",
       "Humanities                  225\n",
       "English Composition          96\n",
       "Religion                     68\n",
       "Name: Area, dtype: int64"
      ]
     },
     "execution_count": 11,
     "metadata": {},
     "output_type": "execute_result"
    }
   ],
   "source": [
    "#add DROPdown menu: https://plotly.com/python/dropdowns/#methods\n",
    "Humanities['Area'].value_counts()\n",
    "# Ethnic Studies, Enlighs, Languages Romantic, Languages Germanic, Languages Asian, Music, Cassics, Languages Slavic, Languages Ancient, Languages Arabic, Languages Other, Spanish"
   ]
  },
  {
   "cell_type": "code",
   "execution_count": 10,
   "metadata": {},
   "outputs": [
    {
     "data": {
      "text/html": [
       "<div>\n",
       "<style scoped>\n",
       "    .dataframe tbody tr th:only-of-type {\n",
       "        vertical-align: middle;\n",
       "    }\n",
       "\n",
       "    .dataframe tbody tr th {\n",
       "        vertical-align: top;\n",
       "    }\n",
       "\n",
       "    .dataframe thead th {\n",
       "        text-align: right;\n",
       "    }\n",
       "</style>\n",
       "<table border=\"1\" class=\"dataframe\">\n",
       "  <thead>\n",
       "    <tr style=\"text-align: right;\">\n",
       "      <th></th>\n",
       "      <th></th>\n",
       "      <th>Field</th>\n",
       "      <th>Name</th>\n",
       "      <th>Number</th>\n",
       "      <th>GenArea</th>\n",
       "      <th>Description</th>\n",
       "      <th>Profs1</th>\n",
       "      <th>Profs2</th>\n",
       "      <th>Fall</th>\n",
       "      <th>Winter</th>\n",
       "      <th>Spring</th>\n",
       "      <th>Summer</th>\n",
       "      <th>Taught</th>\n",
       "    </tr>\n",
       "    <tr>\n",
       "      <th>Year</th>\n",
       "      <th>Area</th>\n",
       "      <th></th>\n",
       "      <th></th>\n",
       "      <th></th>\n",
       "      <th></th>\n",
       "      <th></th>\n",
       "      <th></th>\n",
       "      <th></th>\n",
       "      <th></th>\n",
       "      <th></th>\n",
       "      <th></th>\n",
       "      <th></th>\n",
       "      <th></th>\n",
       "    </tr>\n",
       "  </thead>\n",
       "  <tbody>\n",
       "    <tr>\n",
       "      <th rowspan=\"5\" valign=\"top\">1900</th>\n",
       "      <th>English</th>\n",
       "      <td>43</td>\n",
       "      <td>43</td>\n",
       "      <td>43</td>\n",
       "      <td>43</td>\n",
       "      <td>41</td>\n",
       "      <td>29</td>\n",
       "      <td>2</td>\n",
       "      <td>43</td>\n",
       "      <td>43</td>\n",
       "      <td>43</td>\n",
       "      <td>43</td>\n",
       "      <td>43</td>\n",
       "    </tr>\n",
       "    <tr>\n",
       "      <th>Languages Ancient</th>\n",
       "      <td>60</td>\n",
       "      <td>60</td>\n",
       "      <td>60</td>\n",
       "      <td>60</td>\n",
       "      <td>51</td>\n",
       "      <td>54</td>\n",
       "      <td>6</td>\n",
       "      <td>60</td>\n",
       "      <td>60</td>\n",
       "      <td>60</td>\n",
       "      <td>60</td>\n",
       "      <td>60</td>\n",
       "    </tr>\n",
       "    <tr>\n",
       "      <th>Languages Germanic</th>\n",
       "      <td>18</td>\n",
       "      <td>18</td>\n",
       "      <td>18</td>\n",
       "      <td>18</td>\n",
       "      <td>16</td>\n",
       "      <td>12</td>\n",
       "      <td>2</td>\n",
       "      <td>18</td>\n",
       "      <td>18</td>\n",
       "      <td>18</td>\n",
       "      <td>18</td>\n",
       "      <td>18</td>\n",
       "    </tr>\n",
       "    <tr>\n",
       "      <th>Languages Romantic</th>\n",
       "      <td>36</td>\n",
       "      <td>36</td>\n",
       "      <td>36</td>\n",
       "      <td>36</td>\n",
       "      <td>27</td>\n",
       "      <td>34</td>\n",
       "      <td>7</td>\n",
       "      <td>36</td>\n",
       "      <td>36</td>\n",
       "      <td>36</td>\n",
       "      <td>36</td>\n",
       "      <td>36</td>\n",
       "    </tr>\n",
       "    <tr>\n",
       "      <th>Philosophy</th>\n",
       "      <td>16</td>\n",
       "      <td>16</td>\n",
       "      <td>16</td>\n",
       "      <td>16</td>\n",
       "      <td>15</td>\n",
       "      <td>14</td>\n",
       "      <td>3</td>\n",
       "      <td>16</td>\n",
       "      <td>16</td>\n",
       "      <td>16</td>\n",
       "      <td>16</td>\n",
       "      <td>16</td>\n",
       "    </tr>\n",
       "    <tr>\n",
       "      <th rowspan=\"7\" valign=\"top\">1901</th>\n",
       "      <th>English</th>\n",
       "      <td>51</td>\n",
       "      <td>51</td>\n",
       "      <td>51</td>\n",
       "      <td>51</td>\n",
       "      <td>49</td>\n",
       "      <td>46</td>\n",
       "      <td>6</td>\n",
       "      <td>51</td>\n",
       "      <td>51</td>\n",
       "      <td>51</td>\n",
       "      <td>51</td>\n",
       "      <td>51</td>\n",
       "    </tr>\n",
       "    <tr>\n",
       "      <th>Languages Ancient</th>\n",
       "      <td>78</td>\n",
       "      <td>78</td>\n",
       "      <td>78</td>\n",
       "      <td>78</td>\n",
       "      <td>67</td>\n",
       "      <td>68</td>\n",
       "      <td>5</td>\n",
       "      <td>78</td>\n",
       "      <td>78</td>\n",
       "      <td>78</td>\n",
       "      <td>78</td>\n",
       "      <td>78</td>\n",
       "    </tr>\n",
       "    <tr>\n",
       "      <th>Languages Asian</th>\n",
       "      <td>13</td>\n",
       "      <td>13</td>\n",
       "      <td>13</td>\n",
       "      <td>13</td>\n",
       "      <td>13</td>\n",
       "      <td>8</td>\n",
       "      <td>0</td>\n",
       "      <td>13</td>\n",
       "      <td>13</td>\n",
       "      <td>13</td>\n",
       "      <td>13</td>\n",
       "      <td>13</td>\n",
       "    </tr>\n",
       "    <tr>\n",
       "      <th>Languages Germanic</th>\n",
       "      <td>17</td>\n",
       "      <td>17</td>\n",
       "      <td>17</td>\n",
       "      <td>17</td>\n",
       "      <td>14</td>\n",
       "      <td>15</td>\n",
       "      <td>2</td>\n",
       "      <td>17</td>\n",
       "      <td>17</td>\n",
       "      <td>17</td>\n",
       "      <td>17</td>\n",
       "      <td>17</td>\n",
       "    </tr>\n",
       "    <tr>\n",
       "      <th>Languages Romantic</th>\n",
       "      <td>47</td>\n",
       "      <td>47</td>\n",
       "      <td>47</td>\n",
       "      <td>47</td>\n",
       "      <td>37</td>\n",
       "      <td>43</td>\n",
       "      <td>8</td>\n",
       "      <td>47</td>\n",
       "      <td>47</td>\n",
       "      <td>47</td>\n",
       "      <td>47</td>\n",
       "      <td>47</td>\n",
       "    </tr>\n",
       "    <tr>\n",
       "      <th>Languages Slavic</th>\n",
       "      <td>4</td>\n",
       "      <td>4</td>\n",
       "      <td>4</td>\n",
       "      <td>4</td>\n",
       "      <td>4</td>\n",
       "      <td>4</td>\n",
       "      <td>0</td>\n",
       "      <td>4</td>\n",
       "      <td>4</td>\n",
       "      <td>4</td>\n",
       "      <td>4</td>\n",
       "      <td>4</td>\n",
       "    </tr>\n",
       "    <tr>\n",
       "      <th>Philosophy</th>\n",
       "      <td>17</td>\n",
       "      <td>17</td>\n",
       "      <td>17</td>\n",
       "      <td>17</td>\n",
       "      <td>17</td>\n",
       "      <td>17</td>\n",
       "      <td>5</td>\n",
       "      <td>17</td>\n",
       "      <td>17</td>\n",
       "      <td>17</td>\n",
       "      <td>17</td>\n",
       "      <td>17</td>\n",
       "    </tr>\n",
       "    <tr>\n",
       "      <th rowspan=\"7\" valign=\"top\">1902</th>\n",
       "      <th>English</th>\n",
       "      <td>49</td>\n",
       "      <td>49</td>\n",
       "      <td>49</td>\n",
       "      <td>49</td>\n",
       "      <td>44</td>\n",
       "      <td>45</td>\n",
       "      <td>7</td>\n",
       "      <td>49</td>\n",
       "      <td>49</td>\n",
       "      <td>49</td>\n",
       "      <td>49</td>\n",
       "      <td>49</td>\n",
       "    </tr>\n",
       "    <tr>\n",
       "      <th>Languages Ancient</th>\n",
       "      <td>117</td>\n",
       "      <td>117</td>\n",
       "      <td>117</td>\n",
       "      <td>117</td>\n",
       "      <td>97</td>\n",
       "      <td>71</td>\n",
       "      <td>8</td>\n",
       "      <td>117</td>\n",
       "      <td>117</td>\n",
       "      <td>117</td>\n",
       "      <td>117</td>\n",
       "      <td>117</td>\n",
       "    </tr>\n",
       "    <tr>\n",
       "      <th>Languages Asian</th>\n",
       "      <td>15</td>\n",
       "      <td>15</td>\n",
       "      <td>15</td>\n",
       "      <td>15</td>\n",
       "      <td>15</td>\n",
       "      <td>8</td>\n",
       "      <td>0</td>\n",
       "      <td>15</td>\n",
       "      <td>15</td>\n",
       "      <td>15</td>\n",
       "      <td>15</td>\n",
       "      <td>15</td>\n",
       "    </tr>\n",
       "    <tr>\n",
       "      <th>Languages Germanic</th>\n",
       "      <td>24</td>\n",
       "      <td>24</td>\n",
       "      <td>24</td>\n",
       "      <td>24</td>\n",
       "      <td>16</td>\n",
       "      <td>23</td>\n",
       "      <td>3</td>\n",
       "      <td>24</td>\n",
       "      <td>24</td>\n",
       "      <td>24</td>\n",
       "      <td>24</td>\n",
       "      <td>24</td>\n",
       "    </tr>\n",
       "    <tr>\n",
       "      <th>Languages Romantic</th>\n",
       "      <td>81</td>\n",
       "      <td>81</td>\n",
       "      <td>81</td>\n",
       "      <td>81</td>\n",
       "      <td>66</td>\n",
       "      <td>29</td>\n",
       "      <td>4</td>\n",
       "      <td>81</td>\n",
       "      <td>81</td>\n",
       "      <td>81</td>\n",
       "      <td>81</td>\n",
       "      <td>81</td>\n",
       "    </tr>\n",
       "    <tr>\n",
       "      <th>Languages Slavic</th>\n",
       "      <td>3</td>\n",
       "      <td>3</td>\n",
       "      <td>3</td>\n",
       "      <td>3</td>\n",
       "      <td>3</td>\n",
       "      <td>3</td>\n",
       "      <td>0</td>\n",
       "      <td>3</td>\n",
       "      <td>3</td>\n",
       "      <td>3</td>\n",
       "      <td>3</td>\n",
       "      <td>3</td>\n",
       "    </tr>\n",
       "    <tr>\n",
       "      <th>Philosophy</th>\n",
       "      <td>16</td>\n",
       "      <td>16</td>\n",
       "      <td>16</td>\n",
       "      <td>16</td>\n",
       "      <td>16</td>\n",
       "      <td>16</td>\n",
       "      <td>5</td>\n",
       "      <td>16</td>\n",
       "      <td>16</td>\n",
       "      <td>16</td>\n",
       "      <td>16</td>\n",
       "      <td>16</td>\n",
       "    </tr>\n",
       "    <tr>\n",
       "      <th rowspan=\"6\" valign=\"top\">1903</th>\n",
       "      <th>English</th>\n",
       "      <td>52</td>\n",
       "      <td>52</td>\n",
       "      <td>52</td>\n",
       "      <td>52</td>\n",
       "      <td>48</td>\n",
       "      <td>46</td>\n",
       "      <td>8</td>\n",
       "      <td>52</td>\n",
       "      <td>52</td>\n",
       "      <td>52</td>\n",
       "      <td>52</td>\n",
       "      <td>52</td>\n",
       "    </tr>\n",
       "    <tr>\n",
       "      <th>Languages Ancient</th>\n",
       "      <td>83</td>\n",
       "      <td>83</td>\n",
       "      <td>83</td>\n",
       "      <td>83</td>\n",
       "      <td>77</td>\n",
       "      <td>73</td>\n",
       "      <td>6</td>\n",
       "      <td>83</td>\n",
       "      <td>83</td>\n",
       "      <td>83</td>\n",
       "      <td>83</td>\n",
       "      <td>83</td>\n",
       "    </tr>\n",
       "    <tr>\n",
       "      <th>Languages Asian</th>\n",
       "      <td>14</td>\n",
       "      <td>14</td>\n",
       "      <td>14</td>\n",
       "      <td>14</td>\n",
       "      <td>14</td>\n",
       "      <td>6</td>\n",
       "      <td>0</td>\n",
       "      <td>14</td>\n",
       "      <td>14</td>\n",
       "      <td>14</td>\n",
       "      <td>14</td>\n",
       "      <td>14</td>\n",
       "    </tr>\n",
       "    <tr>\n",
       "      <th>Languages Germanic</th>\n",
       "      <td>25</td>\n",
       "      <td>25</td>\n",
       "      <td>25</td>\n",
       "      <td>25</td>\n",
       "      <td>16</td>\n",
       "      <td>25</td>\n",
       "      <td>3</td>\n",
       "      <td>25</td>\n",
       "      <td>25</td>\n",
       "      <td>25</td>\n",
       "      <td>25</td>\n",
       "      <td>25</td>\n",
       "    </tr>\n",
       "    <tr>\n",
       "      <th>Languages Romantic</th>\n",
       "      <td>35</td>\n",
       "      <td>35</td>\n",
       "      <td>35</td>\n",
       "      <td>35</td>\n",
       "      <td>30</td>\n",
       "      <td>27</td>\n",
       "      <td>4</td>\n",
       "      <td>35</td>\n",
       "      <td>35</td>\n",
       "      <td>35</td>\n",
       "      <td>35</td>\n",
       "      <td>35</td>\n",
       "    </tr>\n",
       "    <tr>\n",
       "      <th>Languages Slavic</th>\n",
       "      <td>2</td>\n",
       "      <td>2</td>\n",
       "      <td>2</td>\n",
       "      <td>2</td>\n",
       "      <td>2</td>\n",
       "      <td>2</td>\n",
       "      <td>0</td>\n",
       "      <td>2</td>\n",
       "      <td>2</td>\n",
       "      <td>2</td>\n",
       "      <td>2</td>\n",
       "      <td>2</td>\n",
       "    </tr>\n",
       "  </tbody>\n",
       "</table>\n",
       "</div>"
      ],
      "text/plain": [
       "                         Field  Name  Number  GenArea  Description  Profs1  \\\n",
       "Year Area                                                                    \n",
       "1900 English                43    43      43       43           41      29   \n",
       "     Languages Ancient      60    60      60       60           51      54   \n",
       "     Languages Germanic     18    18      18       18           16      12   \n",
       "     Languages Romantic     36    36      36       36           27      34   \n",
       "     Philosophy             16    16      16       16           15      14   \n",
       "1901 English                51    51      51       51           49      46   \n",
       "     Languages Ancient      78    78      78       78           67      68   \n",
       "     Languages Asian        13    13      13       13           13       8   \n",
       "     Languages Germanic     17    17      17       17           14      15   \n",
       "     Languages Romantic     47    47      47       47           37      43   \n",
       "     Languages Slavic        4     4       4        4            4       4   \n",
       "     Philosophy             17    17      17       17           17      17   \n",
       "1902 English                49    49      49       49           44      45   \n",
       "     Languages Ancient     117   117     117      117           97      71   \n",
       "     Languages Asian        15    15      15       15           15       8   \n",
       "     Languages Germanic     24    24      24       24           16      23   \n",
       "     Languages Romantic     81    81      81       81           66      29   \n",
       "     Languages Slavic        3     3       3        3            3       3   \n",
       "     Philosophy             16    16      16       16           16      16   \n",
       "1903 English                52    52      52       52           48      46   \n",
       "     Languages Ancient      83    83      83       83           77      73   \n",
       "     Languages Asian        14    14      14       14           14       6   \n",
       "     Languages Germanic     25    25      25       25           16      25   \n",
       "     Languages Romantic     35    35      35       35           30      27   \n",
       "     Languages Slavic        2     2       2        2            2       2   \n",
       "\n",
       "                         Profs2  Fall  Winter  Spring  Summer  Taught  \n",
       "Year Area                                                              \n",
       "1900 English                  2    43      43      43      43      43  \n",
       "     Languages Ancient        6    60      60      60      60      60  \n",
       "     Languages Germanic       2    18      18      18      18      18  \n",
       "     Languages Romantic       7    36      36      36      36      36  \n",
       "     Philosophy               3    16      16      16      16      16  \n",
       "1901 English                  6    51      51      51      51      51  \n",
       "     Languages Ancient        5    78      78      78      78      78  \n",
       "     Languages Asian          0    13      13      13      13      13  \n",
       "     Languages Germanic       2    17      17      17      17      17  \n",
       "     Languages Romantic       8    47      47      47      47      47  \n",
       "     Languages Slavic         0     4       4       4       4       4  \n",
       "     Philosophy               5    17      17      17      17      17  \n",
       "1902 English                  7    49      49      49      49      49  \n",
       "     Languages Ancient        8   117     117     117     117     117  \n",
       "     Languages Asian          0    15      15      15      15      15  \n",
       "     Languages Germanic       3    24      24      24      24      24  \n",
       "     Languages Romantic       4    81      81      81      81      81  \n",
       "     Languages Slavic         0     3       3       3       3       3  \n",
       "     Philosophy               5    16      16      16      16      16  \n",
       "1903 English                  8    52      52      52      52      52  \n",
       "     Languages Ancient        6    83      83      83      83      83  \n",
       "     Languages Asian          0    14      14      14      14      14  \n",
       "     Languages Germanic       3    25      25      25      25      25  \n",
       "     Languages Romantic       4    35      35      35      35      35  \n",
       "     Languages Slavic         0     2       2       2       2       2  "
      ]
     },
     "execution_count": 10,
     "metadata": {},
     "output_type": "execute_result"
    }
   ],
   "source": [
    "#Area=Cali.groupby('Area').agg(tot=('Area','sum')).sort_values(by='GenArea',ascending=True)\n",
    "year_summary=Humanities.groupby(['Year', 'Area']).count()\n",
    "                                    \n",
    "year_summary.head(25)"
   ]
  },
  {
   "cell_type": "code",
   "execution_count": 12,
   "metadata": {},
   "outputs": [],
   "source": [
    "Yr_Human = Cali.loc[Cali['GenArea'] == 'Humanities']"
   ]
  },
  {
   "cell_type": "code",
   "execution_count": null,
   "metadata": {},
   "outputs": [],
   "source": [
    "sns.pairplot(Cali, hue='GenArea', height=5.5)"
   ]
  },
  {
   "cell_type": "code",
   "execution_count": 6,
   "metadata": {},
   "outputs": [
    {
     "data": {
      "text/plain": [
       "Text(0.5, 1.0, 'Humanities Majors')"
      ]
     },
     "execution_count": 6,
     "metadata": {},
     "output_type": "execute_result"
    },
    {
     "data": {
      "image/png": "[encoded data removed]",
      "text/plain": [
       "<Figure size 720x504 with 1 Axes>"
      ]
     },
     "metadata": {
      "needs_background": "light"
     },
     "output_type": "display_data"
    }
   ],
   "source": [
    "f, ax = plt.subplots(figsize=(10, 7))\n",
    "sns.countplot(y=\"Area\", data=Humanities, color=\"c\");\n",
    "plt.ylabel('Major')\n",
    "plt.xlabel('Count of Courses within Major')\n",
    "plt.title('Humanities Majors')"
   ]
  },
  {
   "cell_type": "code",
   "execution_count": 7,
   "metadata": {},
   "outputs": [
    {
     "data": {
      "text/plain": [
       "Text(0.5, 1.0, 'Social Science Majors')"
      ]
     },
     "execution_count": 7,
     "metadata": {},
     "output_type": "execute_result"
    },
    {
     "data": {
      "image/png": "[encoded data removed]",
      "text/plain": [
       "<Figure size 720x504 with 1 Axes>"
      ]
     },
     "metadata": {
      "needs_background": "light"
     },
     "output_type": "display_data"
    }
   ],
   "source": [
    "f, ax = plt.subplots(figsize=(10, 7))\n",
    "sns.countplot(y=\"Area\", data=Social_Sci, color=\"#DDA0DD\");\n",
    "plt.ylabel('Major')\n",
    "plt.xlabel('Count of Courses within Major')\n",
    "plt.title('Social Science Majors')"
   ]
  },
  {
   "cell_type": "code",
   "execution_count": 8,
   "metadata": {},
   "outputs": [
    {
     "data": {
      "text/plain": [
       "Text(0.5, 1.0, 'Engineering Majors')"
      ]
     },
     "execution_count": 8,
     "metadata": {},
     "output_type": "execute_result"
    },
    {
     "data": {
      "image/png": "[encoded data removed]",
      "text/plain": [
       "<Figure size 720x504 with 1 Axes>"
      ]
     },
     "metadata": {
      "needs_background": "light"
     },
     "output_type": "display_data"
    }
   ],
   "source": [
    "f, ax = plt.subplots(figsize=(10, 7))\n",
    "sns.countplot(y=\"Area\", data=Engineering, color=\"#008080\");\n",
    "plt.ylabel('Major')\n",
    "plt.xlabel('Count of Courses within Major')\n",
    "plt.title('Engineering Majors')"
   ]
  },
  {
   "cell_type": "code",
   "execution_count": 9,
   "metadata": {},
   "outputs": [
    {
     "data": {
      "text/plain": [
       "Text(0.5, 1.0, 'Natural Science Majors')"
      ]
     },
     "execution_count": 9,
     "metadata": {},
     "output_type": "execute_result"
    },
    {
     "data": {
      "image/png": "[encoded data removed]",
      "text/plain": [
       "<Figure size 720x504 with 1 Axes>"
      ]
     },
     "metadata": {
      "needs_background": "light"
     },
     "output_type": "display_data"
    }
   ],
   "source": [
    "f, ax = plt.subplots(figsize=(10, 7))\n",
    "sns.countplot(y=\"Area\", data=Natural_Sci, color=\"#A0522D\");\n",
    "plt.ylabel('Major')\n",
    "plt.xlabel('Count of Courses within Major')\n",
    "plt.title('Natural Science Majors')"
   ]
  },
  {
   "cell_type": "code",
   "execution_count": 10,
   "metadata": {},
   "outputs": [
    {
     "data": {
      "text/plain": [
       "Text(0.5, 1.0, 'Professional Majors')"
      ]
     },
     "execution_count": 10,
     "metadata": {},
     "output_type": "execute_result"
    },
    {
     "data": {
      "image/png": "[encoded data removed]",
      "text/plain": [
       "<Figure size 720x504 with 1 Axes>"
      ]
     },
     "metadata": {
      "needs_background": "light"
     },
     "output_type": "display_data"
    }
   ],
   "source": [
    "f, ax = plt.subplots(figsize=(10, 7))\n",
    "sns.countplot(y=\"Area\", data=Professional, color=\"#FFC0CB\");\n",
    "plt.ylabel('Major')\n",
    "plt.xlabel('Count of Courses within Major')\n",
    "plt.title('Professional Majors')"
   ]
  },
  {
   "cell_type": "code",
   "execution_count": 11,
   "metadata": {},
   "outputs": [
    {
     "data": {
      "text/plain": [
       "array([1967, 2011, 1971, 1977, 1978, 1992, 1988, 1993, 1994, 1995, 1974,\n",
       "       1999, 1975, 1979, 2001, 1980, 1981, 2003, 1983, 1986, 2005, 1987,\n",
       "       2007, 2009, 1989, 1990, 1991, 1976, 1997, 1984, 1985, 1917, 1918,\n",
       "       1920, 1924, 1925, 1926, 1927, 1931, 1932, 1936, 1939, 1940, 1941,\n",
       "       1944, 1945, 1946, 1953, 1954, 1955, 1956, 1957, 1958, 1961, 1963,\n",
       "       1964, 1965, 1966, 1968, 1969, 1928, 1951, 1952, 1970, 1962, 1973,\n",
       "       1911, 1947, 1912, 1914, 1950, 1915, 1916, 1919, 1921, 1922, 1929,\n",
       "       1930, 1933, 1934, 1935, 1938, 1937, 1900, 1901, 1902, 1904, 1906,\n",
       "       1908, 1909, 1943, 1910, 1913, 1942, 1948, 1923, 1903, 1949])"
      ]
     },
     "execution_count": 11,
     "metadata": {},
     "output_type": "execute_result"
    }
   ],
   "source": [
    "# What are the range of years?\n",
    "Cali['Year'].unique()"
   ]
  },
  {
   "cell_type": "code",
   "execution_count": 12,
   "metadata": {},
   "outputs": [
    {
     "data": {
      "text/html": [
       "<div>\n",
       "<style scoped>\n",
       "    .dataframe tbody tr th:only-of-type {\n",
       "        vertical-align: middle;\n",
       "    }\n",
       "\n",
       "    .dataframe tbody tr th {\n",
       "        vertical-align: top;\n",
       "    }\n",
       "\n",
       "    .dataframe thead th {\n",
       "        text-align: right;\n",
       "    }\n",
       "</style>\n",
       "<table border=\"1\" class=\"dataframe\">\n",
       "  <thead>\n",
       "    <tr style=\"text-align: right;\">\n",
       "      <th></th>\n",
       "      <th>Year</th>\n",
       "      <th>GenArea</th>\n",
       "      <th>count</th>\n",
       "    </tr>\n",
       "  </thead>\n",
       "  <tbody>\n",
       "    <tr>\n",
       "      <th>0</th>\n",
       "      <td>1900</td>\n",
       "      <td>Education</td>\n",
       "      <td>29</td>\n",
       "    </tr>\n",
       "    <tr>\n",
       "      <th>1</th>\n",
       "      <td>1900</td>\n",
       "      <td>Engineering</td>\n",
       "      <td>71</td>\n",
       "    </tr>\n",
       "    <tr>\n",
       "      <th>2</th>\n",
       "      <td>1900</td>\n",
       "      <td>Humanities</td>\n",
       "      <td>173</td>\n",
       "    </tr>\n",
       "    <tr>\n",
       "      <th>3</th>\n",
       "      <td>1900</td>\n",
       "      <td>Natural Sciences</td>\n",
       "      <td>143</td>\n",
       "    </tr>\n",
       "    <tr>\n",
       "      <th>4</th>\n",
       "      <td>1900</td>\n",
       "      <td>Professional</td>\n",
       "      <td>58</td>\n",
       "    </tr>\n",
       "    <tr>\n",
       "      <th>...</th>\n",
       "      <td>...</td>\n",
       "      <td>...</td>\n",
       "      <td>...</td>\n",
       "    </tr>\n",
       "    <tr>\n",
       "      <th>583</th>\n",
       "      <td>2011</td>\n",
       "      <td>Engineering</td>\n",
       "      <td>1370</td>\n",
       "    </tr>\n",
       "    <tr>\n",
       "      <th>584</th>\n",
       "      <td>2011</td>\n",
       "      <td>Humanities</td>\n",
       "      <td>1875</td>\n",
       "    </tr>\n",
       "    <tr>\n",
       "      <th>585</th>\n",
       "      <td>2011</td>\n",
       "      <td>Natural Sciences</td>\n",
       "      <td>696</td>\n",
       "    </tr>\n",
       "    <tr>\n",
       "      <th>586</th>\n",
       "      <td>2011</td>\n",
       "      <td>Professional</td>\n",
       "      <td>1888</td>\n",
       "    </tr>\n",
       "    <tr>\n",
       "      <th>587</th>\n",
       "      <td>2011</td>\n",
       "      <td>Social Sciences</td>\n",
       "      <td>1257</td>\n",
       "    </tr>\n",
       "  </tbody>\n",
       "</table>\n",
       "<p>588 rows × 3 columns</p>\n",
       "</div>"
      ],
      "text/plain": [
       "     Year           GenArea  count\n",
       "0    1900         Education     29\n",
       "1    1900       Engineering     71\n",
       "2    1900        Humanities    173\n",
       "3    1900  Natural Sciences    143\n",
       "4    1900      Professional     58\n",
       "..    ...               ...    ...\n",
       "583  2011       Engineering   1370\n",
       "584  2011        Humanities   1875\n",
       "585  2011  Natural Sciences    696\n",
       "586  2011      Professional   1888\n",
       "587  2011   Social Sciences   1257\n",
       "\n",
       "[588 rows x 3 columns]"
      ]
     },
     "execution_count": 12,
     "metadata": {},
     "output_type": "execute_result"
    }
   ],
   "source": [
    "# Find numbers of GenArea per year\n",
    "By_Yr_GenArea = pd. DataFrame({'count' : Cali.groupby( [ \"Year\", \"GenArea\"] ).size()}).reset_index()\n",
    "By_Yr_GenArea"
   ]
  },
  {
   "cell_type": "code",
   "execution_count": 13,
   "metadata": {},
   "outputs": [
    {
     "data": {
      "text/plain": [
       "Text(39.83647569444443, 0.5, 'Majors within GenArea')"
      ]
     },
     "execution_count": 13,
     "metadata": {},
     "output_type": "execute_result"
    },
    {
     "data": {
      "text/plain": [
       "<Figure size 1800x2160 with 0 Axes>"
      ]
     },
     "metadata": {},
     "output_type": "display_data"
    },
    {
     "data": {
      "image/png": "[encoded data removed]",
      "text/plain": [
       "<Figure size 480.125x360 with 1 Axes>"
      ]
     },
     "metadata": {
      "needs_background": "light"
     },
     "output_type": "display_data"
    }
   ],
   "source": [
    "# https://seaborn.pydata.org/tutorial/relational.html\n",
    "# Original Q: How have course offered changed over the century? Original viz was a complicated pie chart: https://data.world/makeovermonday/2020w12\n",
    "import numpy as np\n",
    "import matplotlib.pyplot as plt\n",
    "import seaborn as sns\n",
    "%matplotlib inline\n",
    "\n",
    "plt.figure(figsize=(25,30))\n",
    "sns.relplot(x=\"Year\", y=\"count\", hue=\"GenArea\", kind=\"line\", data=By_Yr_GenArea);\n",
    "plt.xlabel('Year')\n",
    "plt.ylabel('Majors within GenArea')\n",
    "\n",
    "# Interesting: Education never gained much traction. "
   ]
  },
  {
   "cell_type": "markdown",
   "metadata": {},
   "source": [
    "Let's take a closer look at classes\n",
    "Order: GenArea -> Area -> Field -> Name & Number\n",
    "Next Order: Seasons and Taught"
   ]
  },
  {
   "cell_type": "code",
   "execution_count": 14,
   "metadata": {},
   "outputs": [
    {
     "data": {
      "text/html": [
       "<div>\n",
       "<style scoped>\n",
       "    .dataframe tbody tr th:only-of-type {\n",
       "        vertical-align: middle;\n",
       "    }\n",
       "\n",
       "    .dataframe tbody tr th {\n",
       "        vertical-align: top;\n",
       "    }\n",
       "\n",
       "    .dataframe thead th {\n",
       "        text-align: right;\n",
       "    }\n",
       "</style>\n",
       "<table border=\"1\" class=\"dataframe\">\n",
       "  <thead>\n",
       "    <tr style=\"text-align: right;\">\n",
       "      <th></th>\n",
       "      <th>Area</th>\n",
       "      <th>Field</th>\n",
       "      <th>Field Count</th>\n",
       "    </tr>\n",
       "  </thead>\n",
       "  <tbody>\n",
       "    <tr>\n",
       "      <th>0</th>\n",
       "      <td>Aeronautical Engineering</td>\n",
       "      <td>Aerospace Studies</td>\n",
       "      <td>46</td>\n",
       "    </tr>\n",
       "    <tr>\n",
       "      <th>1</th>\n",
       "      <td>Agricultural Engineering</td>\n",
       "      <td>Agricultural Engineering</td>\n",
       "      <td>35</td>\n",
       "    </tr>\n",
       "    <tr>\n",
       "      <th>2</th>\n",
       "      <td>Agriculture</td>\n",
       "      <td>Agricultural Chemistry</td>\n",
       "      <td>83</td>\n",
       "    </tr>\n",
       "    <tr>\n",
       "      <th>3</th>\n",
       "      <td>Agriculture</td>\n",
       "      <td>Agricultural Economics</td>\n",
       "      <td>628</td>\n",
       "    </tr>\n",
       "    <tr>\n",
       "      <th>4</th>\n",
       "      <td>Agriculture</td>\n",
       "      <td>Agricultural and Environmental Chemistry</td>\n",
       "      <td>50</td>\n",
       "    </tr>\n",
       "    <tr>\n",
       "      <th>...</th>\n",
       "      <td>...</td>\n",
       "      <td>...</td>\n",
       "      <td>...</td>\n",
       "    </tr>\n",
       "    <tr>\n",
       "      <th>301</th>\n",
       "      <td>Urban Planning</td>\n",
       "      <td>Planning</td>\n",
       "      <td>2090</td>\n",
       "    </tr>\n",
       "    <tr>\n",
       "      <th>302</th>\n",
       "      <td>Urban Planning</td>\n",
       "      <td>Urban Design</td>\n",
       "      <td>15</td>\n",
       "    </tr>\n",
       "    <tr>\n",
       "      <th>303</th>\n",
       "      <td>Veterinary Science</td>\n",
       "      <td>Veterinary Science</td>\n",
       "      <td>12</td>\n",
       "    </tr>\n",
       "    <tr>\n",
       "      <th>304</th>\n",
       "      <td>Visual Design</td>\n",
       "      <td>Design</td>\n",
       "      <td>445</td>\n",
       "    </tr>\n",
       "    <tr>\n",
       "      <th>305</th>\n",
       "      <td>Visual Design</td>\n",
       "      <td>Program in Visual Design</td>\n",
       "      <td>26</td>\n",
       "    </tr>\n",
       "  </tbody>\n",
       "</table>\n",
       "<p>306 rows × 3 columns</p>\n",
       "</div>"
      ],
      "text/plain": [
       "                         Area                                     Field  \\\n",
       "0    Aeronautical Engineering                         Aerospace Studies   \n",
       "1    Agricultural Engineering                  Agricultural Engineering   \n",
       "2                 Agriculture                    Agricultural Chemistry   \n",
       "3                 Agriculture                    Agricultural Economics   \n",
       "4                 Agriculture  Agricultural and Environmental Chemistry   \n",
       "..                        ...                                       ...   \n",
       "301            Urban Planning                                  Planning   \n",
       "302            Urban Planning                              Urban Design   \n",
       "303        Veterinary Science                        Veterinary Science   \n",
       "304             Visual Design                                    Design   \n",
       "305             Visual Design                  Program in Visual Design   \n",
       "\n",
       "     Field Count  \n",
       "0             46  \n",
       "1             35  \n",
       "2             83  \n",
       "3            628  \n",
       "4             50  \n",
       "..           ...  \n",
       "301         2090  \n",
       "302           15  \n",
       "303           12  \n",
       "304          445  \n",
       "305           26  \n",
       "\n",
       "[306 rows x 3 columns]"
      ]
     },
     "execution_count": 14,
     "metadata": {},
     "output_type": "execute_result"
    }
   ],
   "source": [
    "# How many fields are there? Fields and Area are similar, right?\n",
    "Cali['Field'].value_counts()\n",
    "Field_Ct = pd. DataFrame({'Field Count' : Cali.groupby( ['Area', \"Field\"] ).size()}).reset_index()\n",
    "Field_Ct\n",
    "# 305 Specialized fields within Areas"
   ]
  },
  {
   "cell_type": "code",
   "execution_count": 46,
   "metadata": {},
   "outputs": [
    {
     "data": {
      "text/html": [
       "<div>\n",
       "<style scoped>\n",
       "    .dataframe tbody tr th:only-of-type {\n",
       "        vertical-align: middle;\n",
       "    }\n",
       "\n",
       "    .dataframe tbody tr th {\n",
       "        vertical-align: top;\n",
       "    }\n",
       "\n",
       "    .dataframe thead th {\n",
       "        text-align: right;\n",
       "    }\n",
       "</style>\n",
       "<table border=\"1\" class=\"dataframe\">\n",
       "  <thead>\n",
       "    <tr style=\"text-align: right;\">\n",
       "      <th></th>\n",
       "      <th>Year</th>\n",
       "      <th>Field</th>\n",
       "      <th>Name</th>\n",
       "      <th>Number</th>\n",
       "      <th>Area</th>\n",
       "      <th>GenArea</th>\n",
       "      <th>Description</th>\n",
       "      <th>Profs1</th>\n",
       "      <th>Profs2</th>\n",
       "      <th>Fall</th>\n",
       "      <th>Winter</th>\n",
       "      <th>Spring</th>\n",
       "      <th>Summer</th>\n",
       "      <th>Taught</th>\n",
       "    </tr>\n",
       "  </thead>\n",
       "  <tbody>\n",
       "    <tr>\n",
       "      <th>22</th>\n",
       "      <td>1992</td>\n",
       "      <td>African American Studies</td>\n",
       "      <td>Africa: History and Culture</td>\n",
       "      <td>4A</td>\n",
       "      <td>Ethnic Studies</td>\n",
       "      <td>Humanities</td>\n",
       "      <td>(4) Three hours of lecture plus one hour of d...</td>\n",
       "      <td>NaN</td>\n",
       "      <td>NaN</td>\n",
       "      <td>True</td>\n",
       "      <td>False</td>\n",
       "      <td>False</td>\n",
       "      <td>False</td>\n",
       "      <td>True</td>\n",
       "    </tr>\n",
       "    <tr>\n",
       "      <th>23</th>\n",
       "      <td>1992</td>\n",
       "      <td>African American Studies</td>\n",
       "      <td>Africa: History and Culture</td>\n",
       "      <td>4B</td>\n",
       "      <td>Ethnic Studies</td>\n",
       "      <td>Humanities</td>\n",
       "      <td>(4) Three hours of lecture plus one hour of d...</td>\n",
       "      <td>NaN</td>\n",
       "      <td>NaN</td>\n",
       "      <td>False</td>\n",
       "      <td>False</td>\n",
       "      <td>True</td>\n",
       "      <td>False</td>\n",
       "      <td>True</td>\n",
       "    </tr>\n",
       "    <tr>\n",
       "      <th>26</th>\n",
       "      <td>1992</td>\n",
       "      <td>African American Studies</td>\n",
       "      <td>Directed Group Studies for Freshmen and Sophom...</td>\n",
       "      <td>98</td>\n",
       "      <td>Ethnic Studies</td>\n",
       "      <td>Humanities</td>\n",
       "      <td>(1-4) Course may be repeated for credit. Must...</td>\n",
       "      <td>NaN</td>\n",
       "      <td>NaN</td>\n",
       "      <td>True</td>\n",
       "      <td>False</td>\n",
       "      <td>True</td>\n",
       "      <td>False</td>\n",
       "      <td>True</td>\n",
       "    </tr>\n",
       "    <tr>\n",
       "      <th>27</th>\n",
       "      <td>1992</td>\n",
       "      <td>African American Studies</td>\n",
       "      <td>Directed Group Studies for Freshmen and Sophom...</td>\n",
       "      <td>99</td>\n",
       "      <td>Ethnic Studies</td>\n",
       "      <td>Humanities</td>\n",
       "      <td>Must,be taken on a passed/not passed basis. S...</td>\n",
       "      <td>NaN</td>\n",
       "      <td>NaN</td>\n",
       "      <td>True</td>\n",
       "      <td>False</td>\n",
       "      <td>True</td>\n",
       "      <td>False</td>\n",
       "      <td>True</td>\n",
       "    </tr>\n",
       "    <tr>\n",
       "      <th>30</th>\n",
       "      <td>1992</td>\n",
       "      <td>African American Studies</td>\n",
       "      <td>African- American Economic History</td>\n",
       "      <td>110A</td>\n",
       "      <td>Ethnic Studies</td>\n",
       "      <td>Humanities</td>\n",
       "      <td>(3) Three hours of lecture per week. Pr Empha...</td>\n",
       "      <td>NaN</td>\n",
       "      <td>NaN</td>\n",
       "      <td>True</td>\n",
       "      <td>False</td>\n",
       "      <td>False</td>\n",
       "      <td>False</td>\n",
       "      <td>True</td>\n",
       "    </tr>\n",
       "    <tr>\n",
       "      <th>...</th>\n",
       "      <td>...</td>\n",
       "      <td>...</td>\n",
       "      <td>...</td>\n",
       "      <td>...</td>\n",
       "      <td>...</td>\n",
       "      <td>...</td>\n",
       "      <td>...</td>\n",
       "      <td>...</td>\n",
       "      <td>...</td>\n",
       "      <td>...</td>\n",
       "      <td>...</td>\n",
       "      <td>...</td>\n",
       "      <td>...</td>\n",
       "      <td>...</td>\n",
       "    </tr>\n",
       "    <tr>\n",
       "      <th>287090</th>\n",
       "      <td>2005</td>\n",
       "      <td>Ethnic Studies</td>\n",
       "      <td>Supervised Independent Study and Research</td>\n",
       "      <td>199</td>\n",
       "      <td>Ethnic Studies</td>\n",
       "      <td>Humanities</td>\n",
       "      <td>(1-4) Course may be repeated for credit. Enro...</td>\n",
       "      <td>18940.0</td>\n",
       "      <td>18060.0</td>\n",
       "      <td>True</td>\n",
       "      <td>True</td>\n",
       "      <td>True</td>\n",
       "      <td>False</td>\n",
       "      <td>True</td>\n",
       "    </tr>\n",
       "    <tr>\n",
       "      <th>287326</th>\n",
       "      <td>2011</td>\n",
       "      <td>Ethnic Studies</td>\n",
       "      <td>Contemporary military</td>\n",
       "      <td>135</td>\n",
       "      <td>Ethnic Studies</td>\n",
       "      <td>Humanities</td>\n",
       "      <td>(4) Three hours of lecture and zero to one ho...</td>\n",
       "      <td>18940.0</td>\n",
       "      <td>18577.0</td>\n",
       "      <td>True</td>\n",
       "      <td>False</td>\n",
       "      <td>True</td>\n",
       "      <td>False</td>\n",
       "      <td>True</td>\n",
       "    </tr>\n",
       "    <tr>\n",
       "      <th>287972</th>\n",
       "      <td>2011</td>\n",
       "      <td>Ethnic Studies</td>\n",
       "      <td>Supervised Independent Study and Research</td>\n",
       "      <td>199</td>\n",
       "      <td>Ethnic Studies</td>\n",
       "      <td>Humanities</td>\n",
       "      <td>(1-4) Course may be repeated for credit. Enro...</td>\n",
       "      <td>14465.0</td>\n",
       "      <td>19386.0</td>\n",
       "      <td>True</td>\n",
       "      <td>True</td>\n",
       "      <td>True</td>\n",
       "      <td>False</td>\n",
       "      <td>True</td>\n",
       "    </tr>\n",
       "    <tr>\n",
       "      <th>287973</th>\n",
       "      <td>2007</td>\n",
       "      <td>Ethnic Studies</td>\n",
       "      <td>Supervised Independent Study and Research</td>\n",
       "      <td>199</td>\n",
       "      <td>Ethnic Studies</td>\n",
       "      <td>Humanities</td>\n",
       "      <td>(1-4) Course may be repeated for credit. Enro...</td>\n",
       "      <td>11499.0</td>\n",
       "      <td>19386.0</td>\n",
       "      <td>True</td>\n",
       "      <td>True</td>\n",
       "      <td>True</td>\n",
       "      <td>False</td>\n",
       "      <td>True</td>\n",
       "    </tr>\n",
       "    <tr>\n",
       "      <th>287974</th>\n",
       "      <td>2009</td>\n",
       "      <td>Ethnic Studies</td>\n",
       "      <td>Supervised Independent Study and Research</td>\n",
       "      <td>199</td>\n",
       "      <td>Ethnic Studies</td>\n",
       "      <td>Humanities</td>\n",
       "      <td>(1-4) Course may be repeated for credit. Enro...</td>\n",
       "      <td>14371.0</td>\n",
       "      <td>19386.0</td>\n",
       "      <td>True</td>\n",
       "      <td>True</td>\n",
       "      <td>True</td>\n",
       "      <td>False</td>\n",
       "      <td>True</td>\n",
       "    </tr>\n",
       "  </tbody>\n",
       "</table>\n",
       "<p>15582 rows × 14 columns</p>\n",
       "</div>"
      ],
      "text/plain": [
       "        Year                     Field  \\\n",
       "22      1992  African American Studies   \n",
       "23      1992  African American Studies   \n",
       "26      1992  African American Studies   \n",
       "27      1992  African American Studies   \n",
       "30      1992  African American Studies   \n",
       "...      ...                       ...   \n",
       "287090  2005            Ethnic Studies   \n",
       "287326  2011            Ethnic Studies   \n",
       "287972  2011            Ethnic Studies   \n",
       "287973  2007            Ethnic Studies   \n",
       "287974  2009            Ethnic Studies   \n",
       "\n",
       "                                                     Name Number  \\\n",
       "22                            Africa: History and Culture     4A   \n",
       "23                            Africa: History and Culture     4B   \n",
       "26      Directed Group Studies for Freshmen and Sophom...     98   \n",
       "27      Directed Group Studies for Freshmen and Sophom...     99   \n",
       "30                    African- American Economic History    110A   \n",
       "...                                                   ...    ...   \n",
       "287090          Supervised Independent Study and Research    199   \n",
       "287326                              Contemporary military    135   \n",
       "287972          Supervised Independent Study and Research    199   \n",
       "287973          Supervised Independent Study and Research    199   \n",
       "287974          Supervised Independent Study and Research    199   \n",
       "\n",
       "                  Area     GenArea  \\\n",
       "22      Ethnic Studies  Humanities   \n",
       "23      Ethnic Studies  Humanities   \n",
       "26      Ethnic Studies  Humanities   \n",
       "27      Ethnic Studies  Humanities   \n",
       "30      Ethnic Studies  Humanities   \n",
       "...                ...         ...   \n",
       "287090  Ethnic Studies  Humanities   \n",
       "287326  Ethnic Studies  Humanities   \n",
       "287972  Ethnic Studies  Humanities   \n",
       "287973  Ethnic Studies  Humanities   \n",
       "287974  Ethnic Studies  Humanities   \n",
       "\n",
       "                                              Description   Profs1   Profs2  \\\n",
       "22       (4) Three hours of lecture plus one hour of d...      NaN      NaN   \n",
       "23       (4) Three hours of lecture plus one hour of d...      NaN      NaN   \n",
       "26       (1-4) Course may be repeated for credit. Must...      NaN      NaN   \n",
       "27       Must,be taken on a passed/not passed basis. S...      NaN      NaN   \n",
       "30       (3) Three hours of lecture per week. Pr Empha...      NaN      NaN   \n",
       "...                                                   ...      ...      ...   \n",
       "287090   (1-4) Course may be repeated for credit. Enro...  18940.0  18060.0   \n",
       "287326   (4) Three hours of lecture and zero to one ho...  18940.0  18577.0   \n",
       "287972   (1-4) Course may be repeated for credit. Enro...  14465.0  19386.0   \n",
       "287973   (1-4) Course may be repeated for credit. Enro...  11499.0  19386.0   \n",
       "287974   (1-4) Course may be repeated for credit. Enro...  14371.0  19386.0   \n",
       "\n",
       "         Fall  Winter  Spring  Summer  Taught  \n",
       "22       True   False   False   False    True  \n",
       "23      False   False    True   False    True  \n",
       "26       True   False    True   False    True  \n",
       "27       True   False    True   False    True  \n",
       "30       True   False   False   False    True  \n",
       "...       ...     ...     ...     ...     ...  \n",
       "287090   True    True    True   False    True  \n",
       "287326   True   False    True   False    True  \n",
       "287972   True    True    True   False    True  \n",
       "287973   True    True    True   False    True  \n",
       "287974   True    True    True   False    True  \n",
       "\n",
       "[15582 rows x 14 columns]"
      ]
     },
     "execution_count": 46,
     "metadata": {},
     "output_type": "execute_result"
    }
   ],
   "source": [
    "Cali[Cali['Area'] == 'Ethnic Studies']"
   ]
  },
  {
   "cell_type": "code",
   "execution_count": 64,
   "metadata": {},
   "outputs": [
    {
     "data": {
      "application/vnd.jupyter.widget-view+json": {
       "model_id": "16aa6d04b63b48219e9154c182d08b4f",
       "version_major": 2,
       "version_minor": 0
      },
      "text/plain": [
       "interactive(children=(Dropdown(description='School of :   ', index=2, options=('Engineering', 'Professional', …"
      ]
     },
     "metadata": {},
     "output_type": "display_data"
    },
    {
     "data": {
      "application/vnd.jupyter.widget-view+json": {
       "model_id": "670a9137f8cd4e8e9500976652c46b7a",
       "version_major": 2,
       "version_minor": 0
      },
      "text/plain": [
       "interactive(children=(Dropdown(description='Major :   ', index=2, options=('Aeronautical Engineering', 'Health…"
      ]
     },
     "metadata": {},
     "output_type": "display_data"
    },
    {
     "data": {
      "application/vnd.jupyter.widget-view+json": {
       "model_id": "f54e27e8fc5840e1ad3d1b70faf972e3",
       "version_major": 2,
       "version_minor": 0
      },
      "text/plain": [
       "interactive(children=(Dropdown(description='Fields within Selected Major: ', index=2, options=('Aerospace Stud…"
      ]
     },
     "metadata": {},
     "output_type": "display_data"
    },
    {
     "data": {
      "application/vnd.jupyter.widget-view+json": {
       "model_id": "d8a91b163a11486ca9b17b62aa355a7e",
       "version_major": 2,
       "version_minor": 0
      },
      "text/plain": [
       "IntRangeSlider(value=(1900, 2018), continuous_update=False, description='Year:', max=2018, min=1900)"
      ]
     },
     "metadata": {},
     "output_type": "display_data"
    }
   ],
   "source": [
    "# Lets try widgets! Especially if it does not break the kernel\n",
    "import datetime\n",
    "import numpy as np\n",
    "import pandas as pd\n",
    "\n",
    "import plotly.graph_objects as go\n",
    "import ipywidgets as widgets\n",
    "from ipywidgets import interact, interactive\n",
    "\n",
    "month = widgets.IntSlider(\n",
    "    value=1.0,\n",
    "    min=1.0,\n",
    "    max=12.0,\n",
    "    step=1.0,\n",
    "    description='Month:',\n",
    "    continuous_update=False\n",
    ")\n",
    "\n",
    "use_date = widgets.Checkbox(\n",
    "    description='Date: ',\n",
    "    value=True,\n",
    ")\n",
    "container = widgets.HBox(child=[use_date, month])\n",
    "\n",
    "def f(x):\n",
    "    print(x)\n",
    "    \n",
    "Gen_Area = interact(f, x=widgets.Dropdown(\n",
    "    description='School of :   ',\n",
    "    value='Humanities',\n",
    "    options=Cali['GenArea'].unique().tolist()\n",
    ")),\n",
    "\n",
    "Area = interact(f, x=widgets.Dropdown(\n",
    "    description='Major :   ',\n",
    "    value='Ethnic Studies',\n",
    "    options=Cali['Area'].unique().tolist()\n",
    ")),\n",
    "\n",
    "Field = interact(f, x=widgets.Dropdown(\n",
    "description='Fields within Selected Major: ',\n",
    "            value='African American Studies',\n",
    "options=Cali['Field'].unique().tolist()\n",
    "));\n",
    "\n",
    "#Year Slider\n",
    "Year_Choice = widgets.IntRangeSlider(\n",
    "    value=[1900,2018],\n",
    "    min=1900,\n",
    "    max=2018,\n",
    "    step=1,\n",
    "        description='Year:',\n",
    "    disabled=False,\n",
    "    continuous_update=False,\n",
    "    orientation='horizontal',\n",
    "    readout=True,\n",
    "    readout_format='d'\n",
    ")\n",
    "display(Year_Choice)\n",
    "###_______________________Below did not work as expected\n",
    "\n",
    "def validate():\n",
    "    if Gen_Area.value in Cakli['GenArea'].unique() and Area.value in Cali['Area'].unique():\n",
    "        return True\n",
    "    else:\n",
    "        return False\n",
    "\n",
    "\n",
    "def response(change):\n",
    "    if validate():\n",
    "        if use_date.value:\n",
    "            filter_list = [i and j and k for i, j, k in\n",
    "                           zip(Cali['Year'] == Year_Choice.value, Cali['Area'] == Area.value,\n",
    "                               Cali['GenArea'] == Gen_Area.value)]\n",
    "            temp_df = Cali[filter_list]\n",
    "\n",
    "        else:\n",
    "            filter_list = [i and j for i, j in\n",
    "                           zip(Cali['Field'] == 'African American Studies', Cali['Area'] == Area.value)]\n",
    "            temp_df = Cali[filter_list]\n",
    "        x1 = temp_df['arr_delay']\n",
    "        x2 = temp_df['dep_delay']\n",
    "        with g.batch_update():\n",
    "            g.data[0].x = x1\n",
    "            g.data[1].x = x2\n",
    "            g.layout.barmode = 'overlay'\n",
    "            g.layout.xaxis.title = 'Delay in Minutes'\n",
    "            g.layout.yaxis.title = 'Number of Delays'\n",
    "\n",
    "\n"
   ]
  },
  {
   "cell_type": "code",
   "execution_count": 26,
   "metadata": {},
   "outputs": [],
   "source": [
    "# Continue on: https://plotly.com/python/figurewidget-app/#reference\n",
    "# To display the majors by GenArea, you'll need to make it a separate Dataframe, like how you graphed GenArea over years"
   ]
  },
  {
   "cell_type": "code",
   "execution_count": 47,
   "metadata": {
    "scrolled": true
   },
   "outputs": [
    {
     "data": {
      "application/vnd.jupyter.widget-view+json": {
       "model_id": "b86c72a47e4c4a3db25694ca337e6053",
       "version_major": 2,
       "version_minor": 0
      },
      "text/plain": [
       "Tab(children=(Text(value='', description='Education'), Text(value='', description='Engineering'), Text(value='…"
      ]
     },
     "metadata": {},
     "output_type": "display_data"
    }
   ],
   "source": [
    "# Put GenArea into tab??\n",
    "tab_contents = ['Education', 'Engineering', 'Humanities', 'Natural Sciences', 'Professional', 'Social Sciences']\n",
    "children = [widgets.Text(description=name) for name in tab_contents]\n",
    "tab = widgets.Tab()\n",
    "tab.children = children\n",
    "tab.titles = [str(i) for i in range(len(children))]\n",
    "tab"
   ]
  },
  {
   "cell_type": "code",
   "execution_count": 18,
   "metadata": {},
   "outputs": [
    {
     "data": {
      "application/vnd.jupyter.widget-view+json": {
       "model_id": "b9d93ca4c3ea4833bcd9333ede465a76",
       "version_major": 2,
       "version_minor": 0
      },
      "text/plain": [
       "HBox(children=(Label(value='The $m$ in $E=mc^2$:'), FloatSlider(value=0.0)))"
      ]
     },
     "metadata": {},
     "output_type": "display_data"
    }
   ],
   "source": [
    "# Create widget label\n",
    "widgets.HBox([widgets.Label(value=\"The $m$ in $E=mc^2$:\"), widgets.FloatSlider()])"
   ]
  },
  {
   "cell_type": "code",
   "execution_count": 82,
   "metadata": {},
   "outputs": [
    {
     "data": {
      "application/vnd.jupyter.widget-view+json": {
       "model_id": "9e8abe74d5c54849a9366a363dd31530",
       "version_major": 2,
       "version_minor": 0
      },
      "text/plain": [
       "Accordion(children=(IntSlider(value=0), Text(value='')))"
      ]
     },
     "metadata": {},
     "output_type": "display_data"
    }
   ],
   "source": [
    "# plotly widgets: https://plotly.com/python/figurewidget-app/#reference\n",
    "# Docs for widgets: https://ipywidgets.readthedocs.io/en/latest/examples/Widget%20List.html\n",
    "\n",
    "accordion = widgets.Accordion(children=[widgets.IntSlider(), widgets.Text()], titles=('Slider', 'Text'))\n",
    "accordion"
   ]
  },
  {
   "cell_type": "code",
   "execution_count": 22,
   "metadata": {},
   "outputs": [
    {
     "data": {
      "text/html": [
       "<div>\n",
       "<style scoped>\n",
       "    .dataframe tbody tr th:only-of-type {\n",
       "        vertical-align: middle;\n",
       "    }\n",
       "\n",
       "    .dataframe tbody tr th {\n",
       "        vertical-align: top;\n",
       "    }\n",
       "\n",
       "    .dataframe thead th {\n",
       "        text-align: right;\n",
       "    }\n",
       "</style>\n",
       "<table border=\"1\" class=\"dataframe\">\n",
       "  <thead>\n",
       "    <tr style=\"text-align: right;\">\n",
       "      <th></th>\n",
       "      <th>Area</th>\n",
       "      <th>count</th>\n",
       "    </tr>\n",
       "  </thead>\n",
       "  <tbody>\n",
       "    <tr>\n",
       "      <th>0</th>\n",
       "      <td>Art</td>\n",
       "      <td>3960</td>\n",
       "    </tr>\n",
       "    <tr>\n",
       "      <th>1</th>\n",
       "      <td>Art History</td>\n",
       "      <td>944</td>\n",
       "    </tr>\n",
       "    <tr>\n",
       "      <th>2</th>\n",
       "      <td>Classics</td>\n",
       "      <td>5197</td>\n",
       "    </tr>\n",
       "    <tr>\n",
       "      <th>3</th>\n",
       "      <td>Comparative Literature</td>\n",
       "      <td>2281</td>\n",
       "    </tr>\n",
       "    <tr>\n",
       "      <th>4</th>\n",
       "      <td>English</td>\n",
       "      <td>8981</td>\n",
       "    </tr>\n",
       "    <tr>\n",
       "      <th>5</th>\n",
       "      <td>English Composition</td>\n",
       "      <td>96</td>\n",
       "    </tr>\n",
       "    <tr>\n",
       "      <th>6</th>\n",
       "      <td>Ethnic Studies</td>\n",
       "      <td>15582</td>\n",
       "    </tr>\n",
       "    <tr>\n",
       "      <th>7</th>\n",
       "      <td>Film</td>\n",
       "      <td>233</td>\n",
       "    </tr>\n",
       "    <tr>\n",
       "      <th>8</th>\n",
       "      <td>Folklore</td>\n",
       "      <td>239</td>\n",
       "    </tr>\n",
       "    <tr>\n",
       "      <th>9</th>\n",
       "      <td>Humanities</td>\n",
       "      <td>225</td>\n",
       "    </tr>\n",
       "    <tr>\n",
       "      <th>10</th>\n",
       "      <td>Langauges Arabic</td>\n",
       "      <td>1067</td>\n",
       "    </tr>\n",
       "    <tr>\n",
       "      <th>11</th>\n",
       "      <td>Languages Ancient</td>\n",
       "      <td>2664</td>\n",
       "    </tr>\n",
       "    <tr>\n",
       "      <th>12</th>\n",
       "      <td>Languages Asian</td>\n",
       "      <td>5632</td>\n",
       "    </tr>\n",
       "    <tr>\n",
       "      <th>13</th>\n",
       "      <td>Languages Germanic</td>\n",
       "      <td>6356</td>\n",
       "    </tr>\n",
       "    <tr>\n",
       "      <th>14</th>\n",
       "      <td>Languages Other</td>\n",
       "      <td>2294</td>\n",
       "    </tr>\n",
       "    <tr>\n",
       "      <th>15</th>\n",
       "      <td>Languages Romantic</td>\n",
       "      <td>7899</td>\n",
       "    </tr>\n",
       "    <tr>\n",
       "      <th>16</th>\n",
       "      <td>Languages Slavic</td>\n",
       "      <td>5094</td>\n",
       "    </tr>\n",
       "    <tr>\n",
       "      <th>17</th>\n",
       "      <td>Music</td>\n",
       "      <td>5563</td>\n",
       "    </tr>\n",
       "    <tr>\n",
       "      <th>18</th>\n",
       "      <td>Philosophy</td>\n",
       "      <td>4781</td>\n",
       "    </tr>\n",
       "    <tr>\n",
       "      <th>19</th>\n",
       "      <td>Religion</td>\n",
       "      <td>68</td>\n",
       "    </tr>\n",
       "    <tr>\n",
       "      <th>20</th>\n",
       "      <td>Spanish</td>\n",
       "      <td>4566</td>\n",
       "    </tr>\n",
       "    <tr>\n",
       "      <th>21</th>\n",
       "      <td>Theater</td>\n",
       "      <td>2086</td>\n",
       "    </tr>\n",
       "  </tbody>\n",
       "</table>\n",
       "</div>"
      ],
      "text/plain": [
       "                      Area  count\n",
       "0                      Art   3960\n",
       "1              Art History    944\n",
       "2                 Classics   5197\n",
       "3   Comparative Literature   2281\n",
       "4                  English   8981\n",
       "5      English Composition     96\n",
       "6           Ethnic Studies  15582\n",
       "7                     Film    233\n",
       "8                 Folklore    239\n",
       "9               Humanities    225\n",
       "10        Langauges Arabic   1067\n",
       "11       Languages Ancient   2664\n",
       "12         Languages Asian   5632\n",
       "13      Languages Germanic   6356\n",
       "14         Languages Other   2294\n",
       "15      Languages Romantic   7899\n",
       "16        Languages Slavic   5094\n",
       "17                   Music   5563\n",
       "18              Philosophy   4781\n",
       "19                Religion     68\n",
       "20                 Spanish   4566\n",
       "21                 Theater   2086"
      ]
     },
     "execution_count": 22,
     "metadata": {},
     "output_type": "execute_result"
    }
   ],
   "source": [
    "# Create a 'major breakdown' by school\n",
    "Prof_Majors = pd.DataFrame({'count': Professional.groupby([\"Area\"]).size()}).reset_index()\n",
    "Soc_Sci_Majors = pd.DataFrame({'count': Social_Sci.groupby(\"Area\").size()}).reset_index()\n",
    "Nat_Sci_Majors = pd.DataFrame({'count': Natural_Sci.groupby(\"Area\").size()}).reset_index()\n",
    "Eng_Majors = pd.DataFrame({'count': Engineering.groupby(\"Area\").size()}).reset_index()\n",
    "Edu_Majors = pd.DataFrame({'count': Education.groupby(\"Area\").size()}).reset_index()\n",
    "Hum_Majors = pd.DataFrame({'count' : Humanities.groupby( [\"Area\"] ).size()}).reset_index()\n",
    "Hum_Majors"
   ]
  },
  {
   "cell_type": "code",
   "execution_count": 16,
   "metadata": {},
   "outputs": [
    {
     "data": {
      "text/html": [
       "<div>\n",
       "<style scoped>\n",
       "    .dataframe tbody tr th:only-of-type {\n",
       "        vertical-align: middle;\n",
       "    }\n",
       "\n",
       "    .dataframe tbody tr th {\n",
       "        vertical-align: top;\n",
       "    }\n",
       "\n",
       "    .dataframe thead th {\n",
       "        text-align: right;\n",
       "    }\n",
       "</style>\n",
       "<table border=\"1\" class=\"dataframe\">\n",
       "  <thead>\n",
       "    <tr style=\"text-align: right;\">\n",
       "      <th></th>\n",
       "      <th>Field</th>\n",
       "      <th>count</th>\n",
       "    </tr>\n",
       "  </thead>\n",
       "  <tbody>\n",
       "    <tr>\n",
       "      <th>0</th>\n",
       "      <td>African American Studies</td>\n",
       "      <td>769</td>\n",
       "    </tr>\n",
       "    <tr>\n",
       "      <th>1</th>\n",
       "      <td>AfroAmerican Studies</td>\n",
       "      <td>811</td>\n",
       "    </tr>\n",
       "    <tr>\n",
       "      <th>2</th>\n",
       "      <td>American Studies</td>\n",
       "      <td>134</td>\n",
       "    </tr>\n",
       "    <tr>\n",
       "      <th>3</th>\n",
       "      <td>Arabic</td>\n",
       "      <td>111</td>\n",
       "    </tr>\n",
       "    <tr>\n",
       "      <th>4</th>\n",
       "      <td>Art</td>\n",
       "      <td>1756</td>\n",
       "    </tr>\n",
       "    <tr>\n",
       "      <th>5</th>\n",
       "      <td>Asian American Studies</td>\n",
       "      <td>815</td>\n",
       "    </tr>\n",
       "    <tr>\n",
       "      <th>6</th>\n",
       "      <td>Asian American Studies Program</td>\n",
       "      <td>29</td>\n",
       "    </tr>\n",
       "    <tr>\n",
       "      <th>7</th>\n",
       "      <td>Asian American and Asian Diaspora Studies</td>\n",
       "      <td>41</td>\n",
       "    </tr>\n",
       "    <tr>\n",
       "      <th>8</th>\n",
       "      <td>Asian Studies</td>\n",
       "      <td>214</td>\n",
       "    </tr>\n",
       "    <tr>\n",
       "      <th>9</th>\n",
       "      <td>Buddhist Studies</td>\n",
       "      <td>882</td>\n",
       "    </tr>\n",
       "    <tr>\n",
       "      <th>10</th>\n",
       "      <td>Celtic</td>\n",
       "      <td>44</td>\n",
       "    </tr>\n",
       "    <tr>\n",
       "      <th>11</th>\n",
       "      <td>Celtic Studies</td>\n",
       "      <td>352</td>\n",
       "    </tr>\n",
       "    <tr>\n",
       "      <th>12</th>\n",
       "      <td>Chicano Studies</td>\n",
       "      <td>711</td>\n",
       "    </tr>\n",
       "    <tr>\n",
       "      <th>13</th>\n",
       "      <td>Classics</td>\n",
       "      <td>5197</td>\n",
       "    </tr>\n",
       "    <tr>\n",
       "      <th>14</th>\n",
       "      <td>Comparative Literature</td>\n",
       "      <td>1883</td>\n",
       "    </tr>\n",
       "    <tr>\n",
       "      <th>15</th>\n",
       "      <td>Composition</td>\n",
       "      <td>96</td>\n",
       "    </tr>\n",
       "    <tr>\n",
       "      <th>16</th>\n",
       "      <td>Critical Theory</td>\n",
       "      <td>398</td>\n",
       "    </tr>\n",
       "    <tr>\n",
       "      <th>17</th>\n",
       "      <td>Dance</td>\n",
       "      <td>44</td>\n",
       "    </tr>\n",
       "    <tr>\n",
       "      <th>18</th>\n",
       "      <td>Decorative Art</td>\n",
       "      <td>581</td>\n",
       "    </tr>\n",
       "    <tr>\n",
       "      <th>19</th>\n",
       "      <td>Drama</td>\n",
       "      <td>9</td>\n",
       "    </tr>\n",
       "    <tr>\n",
       "      <th>20</th>\n",
       "      <td>Dramatic Art</td>\n",
       "      <td>1968</td>\n",
       "    </tr>\n",
       "    <tr>\n",
       "      <th>21</th>\n",
       "      <td>Dramatic Art and Dance</td>\n",
       "      <td>65</td>\n",
       "    </tr>\n",
       "    <tr>\n",
       "      <th>22</th>\n",
       "      <td>Drawing and Art</td>\n",
       "      <td>232</td>\n",
       "    </tr>\n",
       "    <tr>\n",
       "      <th>23</th>\n",
       "      <td>Dutch Studies</td>\n",
       "      <td>200</td>\n",
       "    </tr>\n",
       "    <tr>\n",
       "      <th>24</th>\n",
       "      <td>East Asian Languages</td>\n",
       "      <td>832</td>\n",
       "    </tr>\n",
       "  </tbody>\n",
       "</table>\n",
       "</div>"
      ],
      "text/plain": [
       "                                        Field  count\n",
       "0                    African American Studies    769\n",
       "1                        AfroAmerican Studies    811\n",
       "2                            American Studies    134\n",
       "3                                      Arabic    111\n",
       "4                                         Art   1756\n",
       "5                      Asian American Studies    815\n",
       "6              Asian American Studies Program     29\n",
       "7   Asian American and Asian Diaspora Studies     41\n",
       "8                               Asian Studies    214\n",
       "9                            Buddhist Studies    882\n",
       "10                                     Celtic     44\n",
       "11                             Celtic Studies    352\n",
       "12                            Chicano Studies    711\n",
       "13                                   Classics   5197\n",
       "14                     Comparative Literature   1883\n",
       "15                                Composition     96\n",
       "16                            Critical Theory    398\n",
       "17                                      Dance     44\n",
       "18                             Decorative Art    581\n",
       "19                                      Drama      9\n",
       "20                               Dramatic Art   1968\n",
       "21                     Dramatic Art and Dance     65\n",
       "22                            Drawing and Art    232\n",
       "23                              Dutch Studies    200\n",
       "24                       East Asian Languages    832"
      ]
     },
     "execution_count": 16,
     "metadata": {},
     "output_type": "execute_result"
    }
   ],
   "source": [
    "# Display Idea: By_Yr_GenArea then breakdown of majors within Schools then further breakdown by Field and eventually a graphic of taught and which semester\n",
    "Hum_Fields = pd.DataFrame({'count' : Humanities.groupby( [\"Field\"] ).size()}).reset_index()\n",
    "Hum_Fields.head(25)\n",
    "# Condense fields that are essentially the same thing? Looks like humanities has the most, Eng, Soc Sci, Prof, Natural Sci have 25 or less. Edu has 6"
   ]
  },
  {
   "cell_type": "code",
   "execution_count": 56,
   "metadata": {},
   "outputs": [
    {
     "data": {
      "text/html": [
       "<div>\n",
       "<style scoped>\n",
       "    .dataframe tbody tr th:only-of-type {\n",
       "        vertical-align: middle;\n",
       "    }\n",
       "\n",
       "    .dataframe tbody tr th {\n",
       "        vertical-align: top;\n",
       "    }\n",
       "\n",
       "    .dataframe thead th {\n",
       "        text-align: right;\n",
       "    }\n",
       "</style>\n",
       "<table border=\"1\" class=\"dataframe\">\n",
       "  <thead>\n",
       "    <tr style=\"text-align: right;\">\n",
       "      <th></th>\n",
       "      <th>Field</th>\n",
       "      <th>count</th>\n",
       "    </tr>\n",
       "  </thead>\n",
       "  <tbody>\n",
       "    <tr>\n",
       "      <th>0</th>\n",
       "      <td>Education</td>\n",
       "      <td>9215</td>\n",
       "    </tr>\n",
       "    <tr>\n",
       "      <th>1</th>\n",
       "      <td>Human Biodynamics</td>\n",
       "      <td>77</td>\n",
       "    </tr>\n",
       "    <tr>\n",
       "      <th>2</th>\n",
       "      <td>Mathematics Education</td>\n",
       "      <td>189</td>\n",
       "    </tr>\n",
       "    <tr>\n",
       "      <th>3</th>\n",
       "      <td>Physical Culture</td>\n",
       "      <td>115</td>\n",
       "    </tr>\n",
       "    <tr>\n",
       "      <th>4</th>\n",
       "      <td>Physical Education</td>\n",
       "      <td>2190</td>\n",
       "    </tr>\n",
       "    <tr>\n",
       "      <th>5</th>\n",
       "      <td>Physical Education for Women</td>\n",
       "      <td>1062</td>\n",
       "    </tr>\n",
       "    <tr>\n",
       "      <th>6</th>\n",
       "      <td>Science and Mathematics Education</td>\n",
       "      <td>135</td>\n",
       "    </tr>\n",
       "  </tbody>\n",
       "</table>\n",
       "</div>"
      ],
      "text/plain": [
       "                               Field  count\n",
       "0                          Education   9215\n",
       "1                  Human Biodynamics     77\n",
       "2              Mathematics Education    189\n",
       "3                   Physical Culture    115\n",
       "4                 Physical Education   2190\n",
       "5       Physical Education for Women   1062\n",
       "6  Science and Mathematics Education    135"
      ]
     },
     "execution_count": 56,
     "metadata": {},
     "output_type": "execute_result"
    }
   ],
   "source": [
    "Edu_Fields = pd.DataFrame({'count' : Education.groupby( [\"Field\"] ).size()}).reset_index()\n",
    "Eng_Fields = pd.DataFrame({'count' : Engineering.groupby( [\"Field\"] ).size()}).reset_index()\n",
    "Prof_Fields = pd.DataFrame({'count' : Professional.groupby( [\"Field\"] ).size()}).reset_index\n",
    "Nat_Fields = pd.DataFrame({'count' : Natural_Sci.groupby( [\"Field\"] ).size()}).reset_index()\n",
    "Soc_Fields = pd.DataFrame({'count' : Social_Sci.groupby( [\"Field\"] ).size()}).reset_index()\n",
    "Edu_Fields.head(25)"
   ]
  },
  {
   "cell_type": "code",
   "execution_count": 25,
   "metadata": {},
   "outputs": [
    {
     "data": {
      "text/html": [
       "<div>\n",
       "<style scoped>\n",
       "    .dataframe tbody tr th:only-of-type {\n",
       "        vertical-align: middle;\n",
       "    }\n",
       "\n",
       "    .dataframe tbody tr th {\n",
       "        vertical-align: top;\n",
       "    }\n",
       "\n",
       "    .dataframe thead th {\n",
       "        text-align: right;\n",
       "    }\n",
       "</style>\n",
       "<table border=\"1\" class=\"dataframe\">\n",
       "  <thead>\n",
       "    <tr style=\"text-align: right;\">\n",
       "      <th></th>\n",
       "      <th>Year</th>\n",
       "      <th>Field</th>\n",
       "      <th>Name</th>\n",
       "      <th>Number</th>\n",
       "      <th>Area</th>\n",
       "      <th>GenArea</th>\n",
       "      <th>Description</th>\n",
       "      <th>Profs1</th>\n",
       "      <th>Profs2</th>\n",
       "      <th>Fall</th>\n",
       "      <th>Winter</th>\n",
       "      <th>Spring</th>\n",
       "      <th>Summer</th>\n",
       "      <th>Taught</th>\n",
       "    </tr>\n",
       "  </thead>\n",
       "  <tbody>\n",
       "    <tr>\n",
       "      <th>0</th>\n",
       "      <td>1967</td>\n",
       "      <td>Aerospace Studies</td>\n",
       "      <td>Officer Basic Military Training</td>\n",
       "      <td>22</td>\n",
       "      <td>Aeronautical Engineering</td>\n",
       "      <td>Engineering</td>\n",
       "      <td>(6) Study of world military systems and basic...</td>\n",
       "      <td>NaN</td>\n",
       "      <td>NaN</td>\n",
       "      <td>False</td>\n",
       "      <td>False</td>\n",
       "      <td>False</td>\n",
       "      <td>False</td>\n",
       "      <td>False</td>\n",
       "    </tr>\n",
       "    <tr>\n",
       "      <th>1</th>\n",
       "      <td>2011</td>\n",
       "      <td>Public Health</td>\n",
       "      <td>Drugs, Health, and Society</td>\n",
       "      <td>103</td>\n",
       "      <td>Health Sciences</td>\n",
       "      <td>Professional</td>\n",
       "      <td>(2) Two hours of lecture and one hour of disc...</td>\n",
       "      <td>NaN</td>\n",
       "      <td>NaN</td>\n",
       "      <td>False</td>\n",
       "      <td>False</td>\n",
       "      <td>True</td>\n",
       "      <td>False</td>\n",
       "      <td>True</td>\n",
       "    </tr>\n",
       "    <tr>\n",
       "      <th>2</th>\n",
       "      <td>2011</td>\n",
       "      <td>Public Health</td>\n",
       "      <td>Policy, Planning , and Evaluation of Health Pr...</td>\n",
       "      <td>105</td>\n",
       "      <td>Health Sciences</td>\n",
       "      <td>Professional</td>\n",
       "      <td>Three hours of lecture/discussion per week. T...</td>\n",
       "      <td>NaN</td>\n",
       "      <td>NaN</td>\n",
       "      <td>True</td>\n",
       "      <td>False</td>\n",
       "      <td>True</td>\n",
       "      <td>False</td>\n",
       "      <td>True</td>\n",
       "    </tr>\n",
       "    <tr>\n",
       "      <th>3</th>\n",
       "      <td>2011</td>\n",
       "      <td>Public Health</td>\n",
       "      <td>Cognitive Science C1 Molecularand Cell Biology...</td>\n",
       "      <td>1B</td>\n",
       "      <td>Health Sciences</td>\n",
       "      <td>Professional</td>\n",
       "      <td>The course will survey the field of the human...</td>\n",
       "      <td>NaN</td>\n",
       "      <td>NaN</td>\n",
       "      <td>True</td>\n",
       "      <td>False</td>\n",
       "      <td>True</td>\n",
       "      <td>False</td>\n",
       "      <td>True</td>\n",
       "    </tr>\n",
       "    <tr>\n",
       "      <th>4</th>\n",
       "      <td>1971</td>\n",
       "      <td>Aerospace Studies</td>\n",
       "      <td>Officer Advanced Military Training</td>\n",
       "      <td>432</td>\n",
       "      <td>Aeronautical Engineering</td>\n",
       "      <td>Engineering</td>\n",
       "      <td>(3) Four weeks advanced officer training cond...</td>\n",
       "      <td>NaN</td>\n",
       "      <td>NaN</td>\n",
       "      <td>False</td>\n",
       "      <td>False</td>\n",
       "      <td>False</td>\n",
       "      <td>False</td>\n",
       "      <td>False</td>\n",
       "    </tr>\n",
       "    <tr>\n",
       "      <th>5</th>\n",
       "      <td>2011</td>\n",
       "      <td>Public Health</td>\n",
       "      <td>Introduction to Probability and Statistics in ...</td>\n",
       "      <td>142</td>\n",
       "      <td>Health Sciences</td>\n",
       "      <td>Professional</td>\n",
       "      <td>(4) Three hours of lecture and two hours of d...</td>\n",
       "      <td>NaN</td>\n",
       "      <td>NaN</td>\n",
       "      <td>True</td>\n",
       "      <td>False</td>\n",
       "      <td>False</td>\n",
       "      <td>False</td>\n",
       "      <td>True</td>\n",
       "    </tr>\n",
       "    <tr>\n",
       "      <th>6</th>\n",
       "      <td>2011</td>\n",
       "      <td>Public Health</td>\n",
       "      <td>Introduction to Statistical Methods in Computa...</td>\n",
       "      <td>143</td>\n",
       "      <td>Health Sciences</td>\n",
       "      <td>Professional</td>\n",
       "      <td>(4) Three hours of lecture and one hour of la...</td>\n",
       "      <td>NaN</td>\n",
       "      <td>NaN</td>\n",
       "      <td>False</td>\n",
       "      <td>False</td>\n",
       "      <td>True</td>\n",
       "      <td>False</td>\n",
       "      <td>True</td>\n",
       "    </tr>\n",
       "    <tr>\n",
       "      <th>7</th>\n",
       "      <td>2011</td>\n",
       "      <td>Public Health</td>\n",
       "      <td>Introduction to Statistical Methods in Computa...</td>\n",
       "      <td>0143</td>\n",
       "      <td>Health Sciences</td>\n",
       "      <td>Professional</td>\n",
       "      <td>(4) Three hours 0 lecture and one hour of lab...</td>\n",
       "      <td>NaN</td>\n",
       "      <td>NaN</td>\n",
       "      <td>False</td>\n",
       "      <td>False</td>\n",
       "      <td>True</td>\n",
       "      <td>False</td>\n",
       "      <td>True</td>\n",
       "    </tr>\n",
       "    <tr>\n",
       "      <th>8</th>\n",
       "      <td>2011</td>\n",
       "      <td>Public Health</td>\n",
       "      <td>Statistical Analysis of Continuous Outcom- Data</td>\n",
       "      <td>145</td>\n",
       "      <td>Health Sciences</td>\n",
       "      <td>Professional</td>\n",
       "      <td>(4) Three hours of lecture and two hours of l...</td>\n",
       "      <td>NaN</td>\n",
       "      <td>NaN</td>\n",
       "      <td>False</td>\n",
       "      <td>False</td>\n",
       "      <td>True</td>\n",
       "      <td>False</td>\n",
       "      <td>True</td>\n",
       "    </tr>\n",
       "    <tr>\n",
       "      <th>9</th>\n",
       "      <td>2011</td>\n",
       "      <td>Public Health</td>\n",
       "      <td>Introduction to Environmental Health Sciences</td>\n",
       "      <td>1503</td>\n",
       "      <td>Health Sciences</td>\n",
       "      <td>Professional</td>\n",
       "      <td>(3) Three hours of lecture and one hour of di...</td>\n",
       "      <td>NaN</td>\n",
       "      <td>NaN</td>\n",
       "      <td>True</td>\n",
       "      <td>False</td>\n",
       "      <td>True</td>\n",
       "      <td>False</td>\n",
       "      <td>True</td>\n",
       "    </tr>\n",
       "  </tbody>\n",
       "</table>\n",
       "</div>"
      ],
      "text/plain": [
       "   Year              Field                                               Name  \\\n",
       "0  1967  Aerospace Studies                   Officer Basic Military Training    \n",
       "1  2011      Public Health                         Drugs, Health, and Society   \n",
       "2  2011      Public Health  Policy, Planning , and Evaluation of Health Pr...   \n",
       "3  2011      Public Health  Cognitive Science C1 Molecularand Cell Biology...   \n",
       "4  1971  Aerospace Studies                Officer Advanced Military Training    \n",
       "5  2011      Public Health  Introduction to Probability and Statistics in ...   \n",
       "6  2011      Public Health  Introduction to Statistical Methods in Computa...   \n",
       "7  2011      Public Health  Introduction to Statistical Methods in Computa...   \n",
       "8  2011      Public Health    Statistical Analysis of Continuous Outcom- Data   \n",
       "9  2011      Public Health     Introduction to Environmental Health Sciences    \n",
       "\n",
       "  Number                      Area       GenArea  \\\n",
       "0     22  Aeronautical Engineering   Engineering   \n",
       "1    103           Health Sciences  Professional   \n",
       "2    105           Health Sciences  Professional   \n",
       "3     1B           Health Sciences  Professional   \n",
       "4    432  Aeronautical Engineering   Engineering   \n",
       "5    142           Health Sciences  Professional   \n",
       "6    143           Health Sciences  Professional   \n",
       "7   0143           Health Sciences  Professional   \n",
       "8    145           Health Sciences  Professional   \n",
       "9   1503           Health Sciences  Professional   \n",
       "\n",
       "                                         Description  Profs1  Profs2   Fall  \\\n",
       "0   (6) Study of world military systems and basic...     NaN     NaN  False   \n",
       "1   (2) Two hours of lecture and one hour of disc...     NaN     NaN  False   \n",
       "2   Three hours of lecture/discussion per week. T...     NaN     NaN   True   \n",
       "3   The course will survey the field of the human...     NaN     NaN   True   \n",
       "4   (3) Four weeks advanced officer training cond...     NaN     NaN  False   \n",
       "5   (4) Three hours of lecture and two hours of d...     NaN     NaN   True   \n",
       "6   (4) Three hours of lecture and one hour of la...     NaN     NaN  False   \n",
       "7   (4) Three hours 0 lecture and one hour of lab...     NaN     NaN  False   \n",
       "8   (4) Three hours of lecture and two hours of l...     NaN     NaN  False   \n",
       "9   (3) Three hours of lecture and one hour of di...     NaN     NaN   True   \n",
       "\n",
       "   Winter  Spring  Summer  Taught  \n",
       "0   False   False   False   False  \n",
       "1   False    True   False    True  \n",
       "2   False    True   False    True  \n",
       "3   False    True   False    True  \n",
       "4   False   False   False   False  \n",
       "5   False   False   False    True  \n",
       "6   False    True   False    True  \n",
       "7   False    True   False    True  \n",
       "8   False    True   False    True  \n",
       "9   False    True   False    True  "
      ]
     },
     "execution_count": 25,
     "metadata": {},
     "output_type": "execute_result"
    }
   ],
   "source": [
    "Cali.head(10)\n",
    "# Accordion stacked would be good if I selected field and then can see the classes ['Name'] that falls under it"
   ]
  },
  {
   "cell_type": "code",
   "execution_count": 70,
   "metadata": {},
   "outputs": [
    {
     "data": {
      "text/plain": [
       "<bound method NDFrame.tail of      Year           GenArea  count\n",
       "0    1900         Education     29\n",
       "1    1900       Engineering     71\n",
       "2    1900        Humanities    173\n",
       "3    1900  Natural Sciences    143\n",
       "4    1900      Professional     58\n",
       "..    ...               ...    ...\n",
       "583  2011       Engineering   1370\n",
       "584  2011        Humanities   1875\n",
       "585  2011  Natural Sciences    696\n",
       "586  2011      Professional   1888\n",
       "587  2011   Social Sciences   1257\n",
       "\n",
       "[588 rows x 3 columns]>"
      ]
     },
     "execution_count": 70,
     "metadata": {},
     "output_type": "execute_result"
    }
   ],
   "source": [
    "By_Yr_GenArea.tail"
   ]
  },
  {
   "cell_type": "code",
   "execution_count": 81,
   "metadata": {},
   "outputs": [
    {
     "data": {
      "application/vnd.plotly.v1+json": {
       "config": {
        "plotlyServerURL": "https://plot.ly"
       },
       "data": [
        {
         "hovertemplate": "GenArea=Education<br>Year=%{x}<br>count=%{y}<extra></extra>",
         "legendgroup": "Education",
         "line": {
          "color": "#636efa",
          "dash": "solid"
         },
         "mode": "lines",
         "name": "Education",
         "orientation": "v",
         "showlegend": true,
         "type": "scatter",
         "x": [
          1900,
          1901,
          1902,
          1903,
          1904,
          1906,
          1908,
          1909,
          1910,
          1911,
          1912,
          1913,
          1914,
          1915,
          1916,
          1917,
          1918,
          1919,
          1920,
          1921,
          1922,
          1923,
          1924,
          1925,
          1926,
          1927,
          1928,
          1929,
          1930,
          1931,
          1932,
          1933,
          1934,
          1935,
          1936,
          1937,
          1938,
          1939,
          1940,
          1941,
          1942,
          1943,
          1944,
          1945,
          1946,
          1947,
          1948,
          1949,
          1950,
          1951,
          1952,
          1953,
          1954,
          1955,
          1956,
          1957,
          1958,
          1961,
          1962,
          1963,
          1964,
          1965,
          1966,
          1967,
          1968,
          1969,
          1970,
          1971,
          1973,
          1974,
          1975,
          1976,
          1977,
          1978,
          1979,
          1980,
          1981,
          1983,
          1984,
          1985,
          1986,
          1987,
          1988,
          1989,
          1990,
          1991,
          1992,
          1993,
          1994,
          1995,
          1997,
          1999,
          2001,
          2003,
          2005,
          2007,
          2009,
          2011
         ],
         "xaxis": "x",
         "y": [
          29,
          34,
          32,
          36,
          22,
          23,
          34,
          24,
          33,
          31,
          35,
          15,
          43,
          76,
          30,
          72,
          80,
          90,
          97,
          87,
          103,
          74,
          103,
          99,
          48,
          58,
          96,
          49,
          99,
          110,
          54,
          79,
          100,
          174,
          178,
          185,
          111,
          113,
          110,
          115,
          120,
          95,
          83,
          100,
          155,
          133,
          158,
          141,
          147,
          147,
          150,
          151,
          155,
          161,
          158,
          158,
          140,
          120,
          122,
          127,
          163,
          175,
          183,
          189,
          37,
          224,
          237,
          243,
          212,
          220,
          215,
          49,
          264,
          245,
          41,
          48,
          83,
          60,
          58,
          62,
          253,
          248,
          258,
          273,
          275,
          288,
          305,
          285,
          304,
          232,
          235,
          252,
          261,
          271,
          215,
          51,
          48,
          219
         ],
         "yaxis": "y"
        },
        {
         "hovertemplate": "GenArea=Engineering<br>Year=%{x}<br>count=%{y}<extra></extra>",
         "legendgroup": "Engineering",
         "line": {
          "color": "#EF553B",
          "dash": "solid"
         },
         "mode": "lines",
         "name": "Engineering",
         "orientation": "v",
         "showlegend": true,
         "type": "scatter",
         "x": [
          1900,
          1901,
          1902,
          1903,
          1904,
          1906,
          1908,
          1909,
          1910,
          1911,
          1912,
          1913,
          1914,
          1915,
          1916,
          1917,
          1918,
          1919,
          1920,
          1921,
          1922,
          1923,
          1924,
          1925,
          1926,
          1927,
          1928,
          1929,
          1930,
          1931,
          1932,
          1933,
          1934,
          1935,
          1936,
          1937,
          1938,
          1939,
          1940,
          1941,
          1942,
          1943,
          1944,
          1945,
          1946,
          1947,
          1948,
          1949,
          1950,
          1951,
          1952,
          1953,
          1954,
          1955,
          1956,
          1957,
          1958,
          1961,
          1962,
          1963,
          1964,
          1965,
          1966,
          1967,
          1968,
          1969,
          1970,
          1971,
          1973,
          1974,
          1975,
          1976,
          1977,
          1978,
          1979,
          1980,
          1981,
          1983,
          1984,
          1985,
          1986,
          1987,
          1988,
          1989,
          1990,
          1991,
          1992,
          1993,
          1994,
          1995,
          1997,
          1999,
          2001,
          2003,
          2005,
          2007,
          2009,
          2011
         ],
         "xaxis": "x",
         "y": [
          71,
          74,
          73,
          71,
          80,
          65,
          88,
          84,
          84,
          104,
          114,
          76,
          54,
          142,
          84,
          113,
          143,
          119,
          133,
          95,
          134,
          123,
          117,
          122,
          58,
          127,
          115,
          114,
          113,
          101,
          57,
          118,
          95,
          119,
          103,
          84,
          89,
          92,
          94,
          98,
          161,
          112,
          126,
          139,
          331,
          418,
          433,
          268,
          517,
          286,
          341,
          568,
          284,
          551,
          465,
          436,
          316,
          403,
          251,
          450,
          184,
          906,
          709,
          579,
          370,
          788,
          1182,
          776,
          775,
          682,
          660,
          895,
          580,
          769,
          764,
          784,
          496,
          896,
          644,
          632,
          638,
          609,
          602,
          499,
          586,
          579,
          598,
          622,
          696,
          672,
          550,
          860,
          765,
          887,
          904,
          1164,
          1069,
          1370
         ],
         "yaxis": "y"
        },
        {
         "hovertemplate": "GenArea=Humanities<br>Year=%{x}<br>count=%{y}<extra></extra>",
         "legendgroup": "Humanities",
         "line": {
          "color": "#00cc96",
          "dash": "solid"
         },
         "mode": "lines",
         "name": "Humanities",
         "orientation": "v",
         "showlegend": true,
         "type": "scatter",
         "x": [
          1900,
          1901,
          1902,
          1903,
          1904,
          1906,
          1908,
          1909,
          1910,
          1911,
          1912,
          1913,
          1914,
          1915,
          1916,
          1917,
          1918,
          1919,
          1920,
          1921,
          1922,
          1923,
          1924,
          1925,
          1926,
          1927,
          1928,
          1929,
          1930,
          1931,
          1932,
          1933,
          1934,
          1935,
          1936,
          1937,
          1938,
          1939,
          1940,
          1941,
          1942,
          1943,
          1944,
          1945,
          1946,
          1947,
          1948,
          1949,
          1950,
          1951,
          1952,
          1953,
          1954,
          1955,
          1956,
          1957,
          1958,
          1961,
          1962,
          1963,
          1964,
          1965,
          1966,
          1967,
          1968,
          1969,
          1970,
          1971,
          1973,
          1974,
          1975,
          1976,
          1977,
          1978,
          1979,
          1980,
          1981,
          1983,
          1984,
          1985,
          1986,
          1987,
          1988,
          1989,
          1990,
          1991,
          1992,
          1993,
          1994,
          1995,
          1997,
          1999,
          2001,
          2003,
          2005,
          2007,
          2009,
          2011
         ],
         "xaxis": "x",
         "y": [
          173,
          227,
          305,
          229,
          219,
          290,
          285,
          152,
          201,
          279,
          264,
          253,
          310,
          325,
          175,
          306,
          329,
          344,
          402,
          332,
          348,
          324,
          264,
          269,
          239,
          220,
          216,
          223,
          231,
          252,
          234,
          336,
          361,
          354,
          363,
          340,
          319,
          313,
          329,
          442,
          449,
          401,
          312,
          379,
          553,
          753,
          637,
          706,
          746,
          723,
          754,
          774,
          803,
          788,
          753,
          814,
          790,
          707,
          647,
          1014,
          944,
          1046,
          847,
          860,
          872,
          1101,
          1029,
          890,
          1066,
          1100,
          1414,
          1488,
          1443,
          1526,
          1342,
          1402,
          1311,
          1872,
          1716,
          1905,
          1756,
          1893,
          2173,
          1778,
          2047,
          2217,
          2200,
          2219,
          2214,
          2226,
          1849,
          1738,
          1614,
          2127,
          2124,
          1835,
          1869,
          1875
         ],
         "yaxis": "y"
        },
        {
         "hovertemplate": "GenArea=Natural Sciences<br>Year=%{x}<br>count=%{y}<extra></extra>",
         "legendgroup": "Natural Sciences",
         "line": {
          "color": "#ab63fa",
          "dash": "solid"
         },
         "mode": "lines",
         "name": "Natural Sciences",
         "orientation": "v",
         "showlegend": true,
         "type": "scatter",
         "x": [
          1900,
          1901,
          1902,
          1903,
          1904,
          1906,
          1908,
          1909,
          1910,
          1911,
          1912,
          1913,
          1914,
          1915,
          1916,
          1917,
          1918,
          1919,
          1920,
          1921,
          1922,
          1923,
          1924,
          1925,
          1926,
          1927,
          1928,
          1929,
          1930,
          1931,
          1932,
          1933,
          1934,
          1935,
          1936,
          1937,
          1938,
          1939,
          1940,
          1941,
          1942,
          1943,
          1944,
          1945,
          1946,
          1947,
          1948,
          1949,
          1950,
          1951,
          1952,
          1953,
          1954,
          1955,
          1956,
          1957,
          1958,
          1961,
          1962,
          1963,
          1964,
          1965,
          1966,
          1967,
          1968,
          1969,
          1970,
          1971,
          1973,
          1974,
          1975,
          1976,
          1977,
          1978,
          1979,
          1980,
          1981,
          1983,
          1984,
          1985,
          1986,
          1987,
          1988,
          1989,
          1990,
          1991,
          1992,
          1993,
          1994,
          1995,
          1997,
          1999,
          2001,
          2003,
          2005,
          2007,
          2009,
          2011
         ],
         "xaxis": "x",
         "y": [
          143,
          153,
          180,
          155,
          147,
          153,
          177,
          127,
          159,
          200,
          183,
          196,
          219,
          191,
          147,
          217,
          241,
          190,
          224,
          222,
          237,
          245,
          304,
          278,
          218,
          155,
          205,
          140,
          135,
          130,
          192,
          210,
          259,
          223,
          233,
          241,
          198,
          229,
          190,
          292,
          303,
          305,
          153,
          190,
          332,
          507,
          418,
          457,
          532,
          522,
          540,
          548,
          524,
          532,
          505,
          507,
          437,
          438,
          327,
          473,
          606,
          691,
          659,
          623,
          703,
          667,
          649,
          673,
          641,
          627,
          709,
          530,
          933,
          1364,
          866,
          838,
          675,
          1290,
          1141,
          1139,
          980,
          1075,
          1178,
          1063,
          980,
          1278,
          911,
          909,
          1021,
          868,
          953,
          872,
          680,
          812,
          636,
          645,
          739,
          696
         ],
         "yaxis": "y"
        },
        {
         "hovertemplate": "GenArea=Professional<br>Year=%{x}<br>count=%{y}<extra></extra>",
         "legendgroup": "Professional",
         "line": {
          "color": "#FFA15A",
          "dash": "solid"
         },
         "mode": "lines",
         "name": "Professional",
         "orientation": "v",
         "showlegend": true,
         "type": "scatter",
         "x": [
          1900,
          1901,
          1902,
          1903,
          1904,
          1906,
          1908,
          1909,
          1910,
          1911,
          1912,
          1913,
          1914,
          1915,
          1916,
          1917,
          1918,
          1919,
          1920,
          1921,
          1922,
          1923,
          1924,
          1925,
          1926,
          1927,
          1928,
          1929,
          1930,
          1931,
          1932,
          1933,
          1934,
          1935,
          1936,
          1937,
          1938,
          1939,
          1940,
          1941,
          1942,
          1943,
          1944,
          1945,
          1946,
          1947,
          1948,
          1949,
          1950,
          1951,
          1952,
          1953,
          1954,
          1955,
          1956,
          1957,
          1958,
          1961,
          1962,
          1963,
          1964,
          1965,
          1966,
          1967,
          1968,
          1969,
          1970,
          1971,
          1973,
          1974,
          1975,
          1976,
          1977,
          1978,
          1979,
          1980,
          1981,
          1983,
          1984,
          1985,
          1986,
          1987,
          1988,
          1989,
          1990,
          1991,
          1992,
          1993,
          1994,
          1995,
          1997,
          1999,
          2001,
          2003,
          2005,
          2007,
          2009,
          2011
         ],
         "xaxis": "x",
         "y": [
          58,
          56,
          77,
          65,
          29,
          107,
          135,
          115,
          59,
          141,
          143,
          67,
          235,
          340,
          281,
          293,
          335,
          326,
          143,
          210,
          211,
          160,
          201,
          124,
          306,
          334,
          151,
          185,
          150,
          211,
          180,
          373,
          393,
          296,
          325,
          378,
          456,
          471,
          504,
          374,
          411,
          319,
          321,
          362,
          742,
          758,
          663,
          1156,
          897,
          643,
          599,
          740,
          710,
          679,
          713,
          891,
          736,
          880,
          449,
          888,
          905,
          791,
          858,
          972,
          931,
          1079,
          1004,
          980,
          1035,
          1094,
          1121,
          777,
          1013,
          1361,
          674,
          487,
          753,
          879,
          717,
          782,
          1346,
          1293,
          1329,
          1247,
          1421,
          1456,
          1401,
          1085,
          1406,
          1593,
          1281,
          1670,
          1536,
          1675,
          1580,
          1266,
          1872,
          1888
         ],
         "yaxis": "y"
        },
        {
         "hovertemplate": "GenArea=Social Sciences<br>Year=%{x}<br>count=%{y}<extra></extra>",
         "legendgroup": "Social Sciences",
         "line": {
          "color": "#19d3f3",
          "dash": "solid"
         },
         "mode": "lines",
         "name": "Social Sciences",
         "orientation": "v",
         "showlegend": true,
         "type": "scatter",
         "x": [
          1900,
          1901,
          1902,
          1903,
          1904,
          1906,
          1908,
          1909,
          1910,
          1911,
          1912,
          1913,
          1914,
          1915,
          1916,
          1917,
          1918,
          1919,
          1920,
          1921,
          1922,
          1923,
          1924,
          1925,
          1926,
          1927,
          1928,
          1929,
          1930,
          1931,
          1932,
          1933,
          1934,
          1935,
          1936,
          1937,
          1938,
          1939,
          1940,
          1941,
          1942,
          1943,
          1944,
          1945,
          1946,
          1947,
          1948,
          1949,
          1950,
          1951,
          1952,
          1953,
          1954,
          1955,
          1956,
          1957,
          1958,
          1961,
          1962,
          1963,
          1964,
          1965,
          1966,
          1967,
          1968,
          1969,
          1970,
          1971,
          1973,
          1974,
          1975,
          1976,
          1977,
          1978,
          1979,
          1980,
          1981,
          1983,
          1984,
          1985,
          1986,
          1987,
          1988,
          1989,
          1990,
          1991,
          1992,
          1993,
          1994,
          1995,
          1997,
          1999,
          2001,
          2003,
          2005,
          2007,
          2009,
          2011
         ],
         "xaxis": "x",
         "y": [
          54,
          66,
          64,
          82,
          101,
          134,
          140,
          83,
          117,
          122,
          139,
          105,
          136,
          81,
          130,
          183,
          210,
          201,
          183,
          182,
          200,
          206,
          147,
          95,
          94,
          141,
          161,
          151,
          113,
          217,
          159,
          235,
          250,
          254,
          264,
          274,
          302,
          324,
          334,
          340,
          336,
          257,
          173,
          271,
          434,
          454,
          596,
          537,
          619,
          581,
          618,
          632,
          655,
          638,
          645,
          631,
          642,
          494,
          541,
          613,
          743,
          675,
          745,
          690,
          709,
          802,
          762,
          662,
          638,
          474,
          682,
          879,
          724,
          809,
          900,
          772,
          616,
          1070,
          1200,
          1110,
          1176,
          1212,
          1002,
          1301,
          1013,
          1064,
          1207,
          1100,
          1286,
          1111,
          977,
          891,
          821,
          877,
          908,
          1135,
          1280,
          1257
         ],
         "yaxis": "y"
        }
       ],
       "layout": {
        "legend": {
         "title": {
          "text": "GenArea"
         },
         "tracegroupgap": 0
        },
        "template": {
         "data": {
          "bar": [
           {
            "error_x": {
             "color": "#2a3f5f"
            },
            "error_y": {
             "color": "#2a3f5f"
            },
            "marker": {
             "line": {
              "color": "#E5ECF6",
              "width": 0.5
             }
            },
            "type": "bar"
           }
          ],
          "barpolar": [
           {
            "marker": {
             "line": {
              "color": "#E5ECF6",
              "width": 0.5
             }
            },
            "type": "barpolar"
           }
          ],
          "carpet": [
           {
            "aaxis": {
             "endlinecolor": "#2a3f5f",
             "gridcolor": "white",
             "linecolor": "white",
             "minorgridcolor": "white",
             "startlinecolor": "#2a3f5f"
            },
            "baxis": {
             "endlinecolor": "#2a3f5f",
             "gridcolor": "white",
             "linecolor": "white",
             "minorgridcolor": "white",
             "startlinecolor": "#2a3f5f"
            },
            "type": "carpet"
           }
          ],
          "choropleth": [
           {
            "colorbar": {
             "outlinewidth": 0,
             "ticks": ""
            },
            "type": "choropleth"
           }
          ],
          "contour": [
           {
            "colorbar": {
             "outlinewidth": 0,
             "ticks": ""
            },
            "colorscale": [
             [
              0,
              "#0d0887"
             ],
             [
              0.1111111111111111,
              "#46039f"
             ],
             [
              0.2222222222222222,
              "#7201a8"
             ],
             [
              0.3333333333333333,
              "#9c179e"
             ],
             [
              0.4444444444444444,
              "#bd3786"
             ],
             [
              0.5555555555555556,
              "#d8576b"
             ],
             [
              0.6666666666666666,
              "#ed7953"
             ],
             [
              0.7777777777777778,
              "#fb9f3a"
             ],
             [
              0.8888888888888888,
              "#fdca26"
             ],
             [
              1,
              "#f0f921"
             ]
            ],
            "type": "contour"
           }
          ],
          "contourcarpet": [
           {
            "colorbar": {
             "outlinewidth": 0,
             "ticks": ""
            },
            "type": "contourcarpet"
           }
          ],
          "heatmap": [
           {
            "colorbar": {
             "outlinewidth": 0,
             "ticks": ""
            },
            "colorscale": [
             [
              0,
              "#0d0887"
             ],
             [
              0.1111111111111111,
              "#46039f"
             ],
             [
              0.2222222222222222,
              "#7201a8"
             ],
             [
              0.3333333333333333,
              "#9c179e"
             ],
             [
              0.4444444444444444,
              "#bd3786"
             ],
             [
              0.5555555555555556,
              "#d8576b"
             ],
             [
              0.6666666666666666,
              "#ed7953"
             ],
             [
              0.7777777777777778,
              "#fb9f3a"
             ],
             [
              0.8888888888888888,
              "#fdca26"
             ],
             [
              1,
              "#f0f921"
             ]
            ],
            "type": "heatmap"
           }
          ],
          "heatmapgl": [
           {
            "colorbar": {
             "outlinewidth": 0,
             "ticks": ""
            },
            "colorscale": [
             [
              0,
              "#0d0887"
             ],
             [
              0.1111111111111111,
              "#46039f"
             ],
             [
              0.2222222222222222,
              "#7201a8"
             ],
             [
              0.3333333333333333,
              "#9c179e"
             ],
             [
              0.4444444444444444,
              "#bd3786"
             ],
             [
              0.5555555555555556,
              "#d8576b"
             ],
             [
              0.6666666666666666,
              "#ed7953"
             ],
             [
              0.7777777777777778,
              "#fb9f3a"
             ],
             [
              0.8888888888888888,
              "#fdca26"
             ],
             [
              1,
              "#f0f921"
             ]
            ],
            "type": "heatmapgl"
           }
          ],
          "histogram": [
           {
            "marker": {
             "colorbar": {
              "outlinewidth": 0,
              "ticks": ""
             }
            },
            "type": "histogram"
           }
          ],
          "histogram2d": [
           {
            "colorbar": {
             "outlinewidth": 0,
             "ticks": ""
            },
            "colorscale": [
             [
              0,
              "#0d0887"
             ],
             [
              0.1111111111111111,
              "#46039f"
             ],
             [
              0.2222222222222222,
              "#7201a8"
             ],
             [
              0.3333333333333333,
              "#9c179e"
             ],
             [
              0.4444444444444444,
              "#bd3786"
             ],
             [
              0.5555555555555556,
              "#d8576b"
             ],
             [
              0.6666666666666666,
              "#ed7953"
             ],
             [
              0.7777777777777778,
              "#fb9f3a"
             ],
             [
              0.8888888888888888,
              "#fdca26"
             ],
             [
              1,
              "#f0f921"
             ]
            ],
            "type": "histogram2d"
           }
          ],
          "histogram2dcontour": [
           {
            "colorbar": {
             "outlinewidth": 0,
             "ticks": ""
            },
            "colorscale": [
             [
              0,
              "#0d0887"
             ],
             [
              0.1111111111111111,
              "#46039f"
             ],
             [
              0.2222222222222222,
              "#7201a8"
             ],
             [
              0.3333333333333333,
              "#9c179e"
             ],
             [
              0.4444444444444444,
              "#bd3786"
             ],
             [
              0.5555555555555556,
              "#d8576b"
             ],
             [
              0.6666666666666666,
              "#ed7953"
             ],
             [
              0.7777777777777778,
              "#fb9f3a"
             ],
             [
              0.8888888888888888,
              "#fdca26"
             ],
             [
              1,
              "#f0f921"
             ]
            ],
            "type": "histogram2dcontour"
           }
          ],
          "mesh3d": [
           {
            "colorbar": {
             "outlinewidth": 0,
             "ticks": ""
            },
            "type": "mesh3d"
           }
          ],
          "parcoords": [
           {
            "line": {
             "colorbar": {
              "outlinewidth": 0,
              "ticks": ""
             }
            },
            "type": "parcoords"
           }
          ],
          "pie": [
           {
            "automargin": true,
            "type": "pie"
           }
          ],
          "scatter": [
           {
            "marker": {
             "colorbar": {
              "outlinewidth": 0,
              "ticks": ""
             }
            },
            "type": "scatter"
           }
          ],
          "scatter3d": [
           {
            "line": {
             "colorbar": {
              "outlinewidth": 0,
              "ticks": ""
             }
            },
            "marker": {
             "colorbar": {
              "outlinewidth": 0,
              "ticks": ""
             }
            },
            "type": "scatter3d"
           }
          ],
          "scattercarpet": [
           {
            "marker": {
             "colorbar": {
              "outlinewidth": 0,
              "ticks": ""
             }
            },
            "type": "scattercarpet"
           }
          ],
          "scattergeo": [
           {
            "marker": {
             "colorbar": {
              "outlinewidth": 0,
              "ticks": ""
             }
            },
            "type": "scattergeo"
           }
          ],
          "scattergl": [
           {
            "marker": {
             "colorbar": {
              "outlinewidth": 0,
              "ticks": ""
             }
            },
            "type": "scattergl"
           }
          ],
          "scattermapbox": [
           {
            "marker": {
             "colorbar": {
              "outlinewidth": 0,
              "ticks": ""
             }
            },
            "type": "scattermapbox"
           }
          ],
          "scatterpolar": [
           {
            "marker": {
             "colorbar": {
              "outlinewidth": 0,
              "ticks": ""
             }
            },
            "type": "scatterpolar"
           }
          ],
          "scatterpolargl": [
           {
            "marker": {
             "colorbar": {
              "outlinewidth": 0,
              "ticks": ""
             }
            },
            "type": "scatterpolargl"
           }
          ],
          "scatterternary": [
           {
            "marker": {
             "colorbar": {
              "outlinewidth": 0,
              "ticks": ""
             }
            },
            "type": "scatterternary"
           }
          ],
          "surface": [
           {
            "colorbar": {
             "outlinewidth": 0,
             "ticks": ""
            },
            "colorscale": [
             [
              0,
              "#0d0887"
             ],
             [
              0.1111111111111111,
              "#46039f"
             ],
             [
              0.2222222222222222,
              "#7201a8"
             ],
             [
              0.3333333333333333,
              "#9c179e"
             ],
             [
              0.4444444444444444,
              "#bd3786"
             ],
             [
              0.5555555555555556,
              "#d8576b"
             ],
             [
              0.6666666666666666,
              "#ed7953"
             ],
             [
              0.7777777777777778,
              "#fb9f3a"
             ],
             [
              0.8888888888888888,
              "#fdca26"
             ],
             [
              1,
              "#f0f921"
             ]
            ],
            "type": "surface"
           }
          ],
          "table": [
           {
            "cells": {
             "fill": {
              "color": "#EBF0F8"
             },
             "line": {
              "color": "white"
             }
            },
            "header": {
             "fill": {
              "color": "#C8D4E3"
             },
             "line": {
              "color": "white"
             }
            },
            "type": "table"
           }
          ]
         },
         "layout": {
          "annotationdefaults": {
           "arrowcolor": "#2a3f5f",
           "arrowhead": 0,
           "arrowwidth": 1
          },
          "coloraxis": {
           "colorbar": {
            "outlinewidth": 0,
            "ticks": ""
           }
          },
          "colorscale": {
           "diverging": [
            [
             0,
             "#8e0152"
            ],
            [
             0.1,
             "#c51b7d"
            ],
            [
             0.2,
             "#de77ae"
            ],
            [
             0.3,
             "#f1b6da"
            ],
            [
             0.4,
             "#fde0ef"
            ],
            [
             0.5,
             "#f7f7f7"
            ],
            [
             0.6,
             "#e6f5d0"
            ],
            [
             0.7,
             "#b8e186"
            ],
            [
             0.8,
             "#7fbc41"
            ],
            [
             0.9,
             "#4d9221"
            ],
            [
             1,
             "#276419"
            ]
           ],
           "sequential": [
            [
             0,
             "#0d0887"
            ],
            [
             0.1111111111111111,
             "#46039f"
            ],
            [
             0.2222222222222222,
             "#7201a8"
            ],
            [
             0.3333333333333333,
             "#9c179e"
            ],
            [
             0.4444444444444444,
             "#bd3786"
            ],
            [
             0.5555555555555556,
             "#d8576b"
            ],
            [
             0.6666666666666666,
             "#ed7953"
            ],
            [
             0.7777777777777778,
             "#fb9f3a"
            ],
            [
             0.8888888888888888,
             "#fdca26"
            ],
            [
             1,
             "#f0f921"
            ]
           ],
           "sequentialminus": [
            [
             0,
             "#0d0887"
            ],
            [
             0.1111111111111111,
             "#46039f"
            ],
            [
             0.2222222222222222,
             "#7201a8"
            ],
            [
             0.3333333333333333,
             "#9c179e"
            ],
            [
             0.4444444444444444,
             "#bd3786"
            ],
            [
             0.5555555555555556,
             "#d8576b"
            ],
            [
             0.6666666666666666,
             "#ed7953"
            ],
            [
             0.7777777777777778,
             "#fb9f3a"
            ],
            [
             0.8888888888888888,
             "#fdca26"
            ],
            [
             1,
             "#f0f921"
            ]
           ]
          },
          "colorway": [
           "#636efa",
           "#EF553B",
           "#00cc96",
           "#ab63fa",
           "#FFA15A",
           "#19d3f3",
           "#FF6692",
           "#B6E880",
           "#FF97FF",
           "#FECB52"
          ],
          "font": {
           "color": "#2a3f5f"
          },
          "geo": {
           "bgcolor": "white",
           "lakecolor": "white",
           "landcolor": "#E5ECF6",
           "showlakes": true,
           "showland": true,
           "subunitcolor": "white"
          },
          "hoverlabel": {
           "align": "left"
          },
          "hovermode": "closest",
          "mapbox": {
           "style": "light"
          },
          "paper_bgcolor": "white",
          "plot_bgcolor": "#E5ECF6",
          "polar": {
           "angularaxis": {
            "gridcolor": "white",
            "linecolor": "white",
            "ticks": ""
           },
           "bgcolor": "#E5ECF6",
           "radialaxis": {
            "gridcolor": "white",
            "linecolor": "white",
            "ticks": ""
           }
          },
          "scene": {
           "xaxis": {
            "backgroundcolor": "#E5ECF6",
            "gridcolor": "white",
            "gridwidth": 2,
            "linecolor": "white",
            "showbackground": true,
            "ticks": "",
            "zerolinecolor": "white"
           },
           "yaxis": {
            "backgroundcolor": "#E5ECF6",
            "gridcolor": "white",
            "gridwidth": 2,
            "linecolor": "white",
            "showbackground": true,
            "ticks": "",
            "zerolinecolor": "white"
           },
           "zaxis": {
            "backgroundcolor": "#E5ECF6",
            "gridcolor": "white",
            "gridwidth": 2,
            "linecolor": "white",
            "showbackground": true,
            "ticks": "",
            "zerolinecolor": "white"
           }
          },
          "shapedefaults": {
           "line": {
            "color": "#2a3f5f"
           }
          },
          "ternary": {
           "aaxis": {
            "gridcolor": "white",
            "linecolor": "white",
            "ticks": ""
           },
           "baxis": {
            "gridcolor": "white",
            "linecolor": "white",
            "ticks": ""
           },
           "bgcolor": "#E5ECF6",
           "caxis": {
            "gridcolor": "white",
            "linecolor": "white",
            "ticks": ""
           }
          },
          "title": {
           "x": 0.05
          },
          "xaxis": {
           "automargin": true,
           "gridcolor": "white",
           "linecolor": "white",
           "ticks": "",
           "title": {
            "standoff": 15
           },
           "zerolinecolor": "white",
           "zerolinewidth": 2
          },
          "yaxis": {
           "automargin": true,
           "gridcolor": "white",
           "linecolor": "white",
           "ticks": "",
           "title": {
            "standoff": 15
           },
           "zerolinecolor": "white",
           "zerolinewidth": 2
          }
         }
        },
        "title": {
         "text": "Number of Majors within each school over time"
        },
        "xaxis": {
         "anchor": "y",
         "autorange": true,
         "domain": [
          0,
          1
         ],
         "range": [
          "1900-01-01",
          "2011-12-31"
         ],
         "rangeslider": {
          "visible": true
         },
         "title": {
          "text": "Year"
         }
        },
        "yaxis": {
         "anchor": "x",
         "domain": [
          0,
          1
         ],
         "title": {
          "text": "count"
         }
        }
       }
      },
      "text/html": [
       "<div>\n",
       "        \n",
       "        \n",
       "            <div id=\"1d2e93da-fcf7-4b18-b738-3b2e9173f727\" class=\"plotly-graph-div\" style=\"height:525px; width:100%;\"></div>\n",
       "            <script type=\"text/javascript\">\n",
       "                require([\"plotly\"], function(Plotly) {\n",
       "                    window.PLOTLYENV=window.PLOTLYENV || {};\n",
       "                    \n",
       "                if (document.getElementById(\"1d2e93da-fcf7-4b18-b738-3b2e9173f727\")) {\n",
       "                    Plotly.newPlot(\n",
       "                        '1d2e93da-fcf7-4b18-b738-3b2e9173f727',\n",
       "                        [{\"hovertemplate\": \"GenArea=Education<br>Year=%{x}<br>count=%{y}<extra></extra>\", \"legendgroup\": \"Education\", \"line\": {\"color\": \"#636efa\", \"dash\": \"solid\"}, \"mode\": \"lines\", \"name\": \"Education\", \"orientation\": \"v\", \"showlegend\": true, \"type\": \"scatter\", \"x\": [1900, 1901, 1902, 1903, 1904, 1906, 1908, 1909, 1910, 1911, 1912, 1913, 1914, 1915, 1916, 1917, 1918, 1919, 1920, 1921, 1922, 1923, 1924, 1925, 1926, 1927, 1928, 1929, 1930, 1931, 1932, 1933, 1934, 1935, 1936, 1937, 1938, 1939, 1940, 1941, 1942, 1943, 1944, 1945, 1946, 1947, 1948, 1949, 1950, 1951, 1952, 1953, 1954, 1955, 1956, 1957, 1958, 1961, 1962, 1963, 1964, 1965, 1966, 1967, 1968, 1969, 1970, 1971, 1973, 1974, 1975, 1976, 1977, 1978, 1979, 1980, 1981, 1983, 1984, 1985, 1986, 1987, 1988, 1989, 1990, 1991, 1992, 1993, 1994, 1995, 1997, 1999, 2001, 2003, 2005, 2007, 2009, 2011], \"xaxis\": \"x\", \"y\": [29, 34, 32, 36, 22, 23, 34, 24, 33, 31, 35, 15, 43, 76, 30, 72, 80, 90, 97, 87, 103, 74, 103, 99, 48, 58, 96, 49, 99, 110, 54, 79, 100, 174, 178, 185, 111, 113, 110, 115, 120, 95, 83, 100, 155, 133, 158, 141, 147, 147, 150, 151, 155, 161, 158, 158, 140, 120, 122, 127, 163, 175, 183, 189, 37, 224, 237, 243, 212, 220, 215, 49, 264, 245, 41, 48, 83, 60, 58, 62, 253, 248, 258, 273, 275, 288, 305, 285, 304, 232, 235, 252, 261, 271, 215, 51, 48, 219], \"yaxis\": \"y\"}, {\"hovertemplate\": \"GenArea=Engineering<br>Year=%{x}<br>count=%{y}<extra></extra>\", \"legendgroup\": \"Engineering\", \"line\": {\"color\": \"#EF553B\", \"dash\": \"solid\"}, \"mode\": \"lines\", \"name\": \"Engineering\", \"orientation\": \"v\", \"showlegend\": true, \"type\": \"scatter\", \"x\": [1900, 1901, 1902, 1903, 1904, 1906, 1908, 1909, 1910, 1911, 1912, 1913, 1914, 1915, 1916, 1917, 1918, 1919, 1920, 1921, 1922, 1923, 1924, 1925, 1926, 1927, 1928, 1929, 1930, 1931, 1932, 1933, 1934, 1935, 1936, 1937, 1938, 1939, 1940, 1941, 1942, 1943, 1944, 1945, 1946, 1947, 1948, 1949, 1950, 1951, 1952, 1953, 1954, 1955, 1956, 1957, 1958, 1961, 1962, 1963, 1964, 1965, 1966, 1967, 1968, 1969, 1970, 1971, 1973, 1974, 1975, 1976, 1977, 1978, 1979, 1980, 1981, 1983, 1984, 1985, 1986, 1987, 1988, 1989, 1990, 1991, 1992, 1993, 1994, 1995, 1997, 1999, 2001, 2003, 2005, 2007, 2009, 2011], \"xaxis\": \"x\", \"y\": [71, 74, 73, 71, 80, 65, 88, 84, 84, 104, 114, 76, 54, 142, 84, 113, 143, 119, 133, 95, 134, 123, 117, 122, 58, 127, 115, 114, 113, 101, 57, 118, 95, 119, 103, 84, 89, 92, 94, 98, 161, 112, 126, 139, 331, 418, 433, 268, 517, 286, 341, 568, 284, 551, 465, 436, 316, 403, 251, 450, 184, 906, 709, 579, 370, 788, 1182, 776, 775, 682, 660, 895, 580, 769, 764, 784, 496, 896, 644, 632, 638, 609, 602, 499, 586, 579, 598, 622, 696, 672, 550, 860, 765, 887, 904, 1164, 1069, 1370], \"yaxis\": \"y\"}, {\"hovertemplate\": \"GenArea=Humanities<br>Year=%{x}<br>count=%{y}<extra></extra>\", \"legendgroup\": \"Humanities\", \"line\": {\"color\": \"#00cc96\", \"dash\": \"solid\"}, \"mode\": \"lines\", \"name\": \"Humanities\", \"orientation\": \"v\", \"showlegend\": true, \"type\": \"scatter\", \"x\": [1900, 1901, 1902, 1903, 1904, 1906, 1908, 1909, 1910, 1911, 1912, 1913, 1914, 1915, 1916, 1917, 1918, 1919, 1920, 1921, 1922, 1923, 1924, 1925, 1926, 1927, 1928, 1929, 1930, 1931, 1932, 1933, 1934, 1935, 1936, 1937, 1938, 1939, 1940, 1941, 1942, 1943, 1944, 1945, 1946, 1947, 1948, 1949, 1950, 1951, 1952, 1953, 1954, 1955, 1956, 1957, 1958, 1961, 1962, 1963, 1964, 1965, 1966, 1967, 1968, 1969, 1970, 1971, 1973, 1974, 1975, 1976, 1977, 1978, 1979, 1980, 1981, 1983, 1984, 1985, 1986, 1987, 1988, 1989, 1990, 1991, 1992, 1993, 1994, 1995, 1997, 1999, 2001, 2003, 2005, 2007, 2009, 2011], \"xaxis\": \"x\", \"y\": [173, 227, 305, 229, 219, 290, 285, 152, 201, 279, 264, 253, 310, 325, 175, 306, 329, 344, 402, 332, 348, 324, 264, 269, 239, 220, 216, 223, 231, 252, 234, 336, 361, 354, 363, 340, 319, 313, 329, 442, 449, 401, 312, 379, 553, 753, 637, 706, 746, 723, 754, 774, 803, 788, 753, 814, 790, 707, 647, 1014, 944, 1046, 847, 860, 872, 1101, 1029, 890, 1066, 1100, 1414, 1488, 1443, 1526, 1342, 1402, 1311, 1872, 1716, 1905, 1756, 1893, 2173, 1778, 2047, 2217, 2200, 2219, 2214, 2226, 1849, 1738, 1614, 2127, 2124, 1835, 1869, 1875], \"yaxis\": \"y\"}, {\"hovertemplate\": \"GenArea=Natural Sciences<br>Year=%{x}<br>count=%{y}<extra></extra>\", \"legendgroup\": \"Natural Sciences\", \"line\": {\"color\": \"#ab63fa\", \"dash\": \"solid\"}, \"mode\": \"lines\", \"name\": \"Natural Sciences\", \"orientation\": \"v\", \"showlegend\": true, \"type\": \"scatter\", \"x\": [1900, 1901, 1902, 1903, 1904, 1906, 1908, 1909, 1910, 1911, 1912, 1913, 1914, 1915, 1916, 1917, 1918, 1919, 1920, 1921, 1922, 1923, 1924, 1925, 1926, 1927, 1928, 1929, 1930, 1931, 1932, 1933, 1934, 1935, 1936, 1937, 1938, 1939, 1940, 1941, 1942, 1943, 1944, 1945, 1946, 1947, 1948, 1949, 1950, 1951, 1952, 1953, 1954, 1955, 1956, 1957, 1958, 1961, 1962, 1963, 1964, 1965, 1966, 1967, 1968, 1969, 1970, 1971, 1973, 1974, 1975, 1976, 1977, 1978, 1979, 1980, 1981, 1983, 1984, 1985, 1986, 1987, 1988, 1989, 1990, 1991, 1992, 1993, 1994, 1995, 1997, 1999, 2001, 2003, 2005, 2007, 2009, 2011], \"xaxis\": \"x\", \"y\": [143, 153, 180, 155, 147, 153, 177, 127, 159, 200, 183, 196, 219, 191, 147, 217, 241, 190, 224, 222, 237, 245, 304, 278, 218, 155, 205, 140, 135, 130, 192, 210, 259, 223, 233, 241, 198, 229, 190, 292, 303, 305, 153, 190, 332, 507, 418, 457, 532, 522, 540, 548, 524, 532, 505, 507, 437, 438, 327, 473, 606, 691, 659, 623, 703, 667, 649, 673, 641, 627, 709, 530, 933, 1364, 866, 838, 675, 1290, 1141, 1139, 980, 1075, 1178, 1063, 980, 1278, 911, 909, 1021, 868, 953, 872, 680, 812, 636, 645, 739, 696], \"yaxis\": \"y\"}, {\"hovertemplate\": \"GenArea=Professional<br>Year=%{x}<br>count=%{y}<extra></extra>\", \"legendgroup\": \"Professional\", \"line\": {\"color\": \"#FFA15A\", \"dash\": \"solid\"}, \"mode\": \"lines\", \"name\": \"Professional\", \"orientation\": \"v\", \"showlegend\": true, \"type\": \"scatter\", \"x\": [1900, 1901, 1902, 1903, 1904, 1906, 1908, 1909, 1910, 1911, 1912, 1913, 1914, 1915, 1916, 1917, 1918, 1919, 1920, 1921, 1922, 1923, 1924, 1925, 1926, 1927, 1928, 1929, 1930, 1931, 1932, 1933, 1934, 1935, 1936, 1937, 1938, 1939, 1940, 1941, 1942, 1943, 1944, 1945, 1946, 1947, 1948, 1949, 1950, 1951, 1952, 1953, 1954, 1955, 1956, 1957, 1958, 1961, 1962, 1963, 1964, 1965, 1966, 1967, 1968, 1969, 1970, 1971, 1973, 1974, 1975, 1976, 1977, 1978, 1979, 1980, 1981, 1983, 1984, 1985, 1986, 1987, 1988, 1989, 1990, 1991, 1992, 1993, 1994, 1995, 1997, 1999, 2001, 2003, 2005, 2007, 2009, 2011], \"xaxis\": \"x\", \"y\": [58, 56, 77, 65, 29, 107, 135, 115, 59, 141, 143, 67, 235, 340, 281, 293, 335, 326, 143, 210, 211, 160, 201, 124, 306, 334, 151, 185, 150, 211, 180, 373, 393, 296, 325, 378, 456, 471, 504, 374, 411, 319, 321, 362, 742, 758, 663, 1156, 897, 643, 599, 740, 710, 679, 713, 891, 736, 880, 449, 888, 905, 791, 858, 972, 931, 1079, 1004, 980, 1035, 1094, 1121, 777, 1013, 1361, 674, 487, 753, 879, 717, 782, 1346, 1293, 1329, 1247, 1421, 1456, 1401, 1085, 1406, 1593, 1281, 1670, 1536, 1675, 1580, 1266, 1872, 1888], \"yaxis\": \"y\"}, {\"hovertemplate\": \"GenArea=Social Sciences<br>Year=%{x}<br>count=%{y}<extra></extra>\", \"legendgroup\": \"Social Sciences\", \"line\": {\"color\": \"#19d3f3\", \"dash\": \"solid\"}, \"mode\": \"lines\", \"name\": \"Social Sciences\", \"orientation\": \"v\", \"showlegend\": true, \"type\": \"scatter\", \"x\": [1900, 1901, 1902, 1903, 1904, 1906, 1908, 1909, 1910, 1911, 1912, 1913, 1914, 1915, 1916, 1917, 1918, 1919, 1920, 1921, 1922, 1923, 1924, 1925, 1926, 1927, 1928, 1929, 1930, 1931, 1932, 1933, 1934, 1935, 1936, 1937, 1938, 1939, 1940, 1941, 1942, 1943, 1944, 1945, 1946, 1947, 1948, 1949, 1950, 1951, 1952, 1953, 1954, 1955, 1956, 1957, 1958, 1961, 1962, 1963, 1964, 1965, 1966, 1967, 1968, 1969, 1970, 1971, 1973, 1974, 1975, 1976, 1977, 1978, 1979, 1980, 1981, 1983, 1984, 1985, 1986, 1987, 1988, 1989, 1990, 1991, 1992, 1993, 1994, 1995, 1997, 1999, 2001, 2003, 2005, 2007, 2009, 2011], \"xaxis\": \"x\", \"y\": [54, 66, 64, 82, 101, 134, 140, 83, 117, 122, 139, 105, 136, 81, 130, 183, 210, 201, 183, 182, 200, 206, 147, 95, 94, 141, 161, 151, 113, 217, 159, 235, 250, 254, 264, 274, 302, 324, 334, 340, 336, 257, 173, 271, 434, 454, 596, 537, 619, 581, 618, 632, 655, 638, 645, 631, 642, 494, 541, 613, 743, 675, 745, 690, 709, 802, 762, 662, 638, 474, 682, 879, 724, 809, 900, 772, 616, 1070, 1200, 1110, 1176, 1212, 1002, 1301, 1013, 1064, 1207, 1100, 1286, 1111, 977, 891, 821, 877, 908, 1135, 1280, 1257], \"yaxis\": \"y\"}],\n",
       "                        {\"legend\": {\"title\": {\"text\": \"GenArea\"}, \"tracegroupgap\": 0}, \"template\": {\"data\": {\"bar\": [{\"error_x\": {\"color\": \"#2a3f5f\"}, \"error_y\": {\"color\": \"#2a3f5f\"}, \"marker\": {\"line\": {\"color\": \"#E5ECF6\", \"width\": 0.5}}, \"type\": \"bar\"}], \"barpolar\": [{\"marker\": {\"line\": {\"color\": \"#E5ECF6\", \"width\": 0.5}}, \"type\": \"barpolar\"}], \"carpet\": [{\"aaxis\": {\"endlinecolor\": \"#2a3f5f\", \"gridcolor\": \"white\", \"linecolor\": \"white\", \"minorgridcolor\": \"white\", \"startlinecolor\": \"#2a3f5f\"}, \"baxis\": {\"endlinecolor\": \"#2a3f5f\", \"gridcolor\": \"white\", \"linecolor\": \"white\", \"minorgridcolor\": \"white\", \"startlinecolor\": \"#2a3f5f\"}, \"type\": \"carpet\"}], \"choropleth\": [{\"colorbar\": {\"outlinewidth\": 0, \"ticks\": \"\"}, \"type\": \"choropleth\"}], \"contour\": [{\"colorbar\": {\"outlinewidth\": 0, \"ticks\": \"\"}, \"colorscale\": [[0.0, \"#0d0887\"], [0.1111111111111111, \"#46039f\"], [0.2222222222222222, \"#7201a8\"], [0.3333333333333333, \"#9c179e\"], [0.4444444444444444, \"#bd3786\"], [0.5555555555555556, \"#d8576b\"], [0.6666666666666666, \"#ed7953\"], [0.7777777777777778, \"#fb9f3a\"], [0.8888888888888888, \"#fdca26\"], [1.0, \"#f0f921\"]], \"type\": \"contour\"}], \"contourcarpet\": [{\"colorbar\": {\"outlinewidth\": 0, \"ticks\": \"\"}, \"type\": \"contourcarpet\"}], \"heatmap\": [{\"colorbar\": {\"outlinewidth\": 0, \"ticks\": \"\"}, \"colorscale\": [[0.0, \"#0d0887\"], [0.1111111111111111, \"#46039f\"], [0.2222222222222222, \"#7201a8\"], [0.3333333333333333, \"#9c179e\"], [0.4444444444444444, \"#bd3786\"], [0.5555555555555556, \"#d8576b\"], [0.6666666666666666, \"#ed7953\"], [0.7777777777777778, \"#fb9f3a\"], [0.8888888888888888, \"#fdca26\"], [1.0, \"#f0f921\"]], \"type\": \"heatmap\"}], \"heatmapgl\": [{\"colorbar\": {\"outlinewidth\": 0, \"ticks\": \"\"}, \"colorscale\": [[0.0, \"#0d0887\"], [0.1111111111111111, \"#46039f\"], [0.2222222222222222, \"#7201a8\"], [0.3333333333333333, \"#9c179e\"], [0.4444444444444444, \"#bd3786\"], [0.5555555555555556, \"#d8576b\"], [0.6666666666666666, \"#ed7953\"], [0.7777777777777778, \"#fb9f3a\"], [0.8888888888888888, \"#fdca26\"], [1.0, \"#f0f921\"]], \"type\": \"heatmapgl\"}], \"histogram\": [{\"marker\": {\"colorbar\": {\"outlinewidth\": 0, \"ticks\": \"\"}}, \"type\": \"histogram\"}], \"histogram2d\": [{\"colorbar\": {\"outlinewidth\": 0, \"ticks\": \"\"}, \"colorscale\": [[0.0, \"#0d0887\"], [0.1111111111111111, \"#46039f\"], [0.2222222222222222, \"#7201a8\"], [0.3333333333333333, \"#9c179e\"], [0.4444444444444444, \"#bd3786\"], [0.5555555555555556, \"#d8576b\"], [0.6666666666666666, \"#ed7953\"], [0.7777777777777778, \"#fb9f3a\"], [0.8888888888888888, \"#fdca26\"], [1.0, \"#f0f921\"]], \"type\": \"histogram2d\"}], \"histogram2dcontour\": [{\"colorbar\": {\"outlinewidth\": 0, \"ticks\": \"\"}, \"colorscale\": [[0.0, \"#0d0887\"], [0.1111111111111111, \"#46039f\"], [0.2222222222222222, \"#7201a8\"], [0.3333333333333333, \"#9c179e\"], [0.4444444444444444, \"#bd3786\"], [0.5555555555555556, \"#d8576b\"], [0.6666666666666666, \"#ed7953\"], [0.7777777777777778, \"#fb9f3a\"], [0.8888888888888888, \"#fdca26\"], [1.0, \"#f0f921\"]], \"type\": \"histogram2dcontour\"}], \"mesh3d\": [{\"colorbar\": {\"outlinewidth\": 0, \"ticks\": \"\"}, \"type\": \"mesh3d\"}], \"parcoords\": [{\"line\": {\"colorbar\": {\"outlinewidth\": 0, \"ticks\": \"\"}}, \"type\": \"parcoords\"}], \"pie\": [{\"automargin\": true, \"type\": \"pie\"}], \"scatter\": [{\"marker\": {\"colorbar\": {\"outlinewidth\": 0, \"ticks\": \"\"}}, \"type\": \"scatter\"}], \"scatter3d\": [{\"line\": {\"colorbar\": {\"outlinewidth\": 0, \"ticks\": \"\"}}, \"marker\": {\"colorbar\": {\"outlinewidth\": 0, \"ticks\": \"\"}}, \"type\": \"scatter3d\"}], \"scattercarpet\": [{\"marker\": {\"colorbar\": {\"outlinewidth\": 0, \"ticks\": \"\"}}, \"type\": \"scattercarpet\"}], \"scattergeo\": [{\"marker\": {\"colorbar\": {\"outlinewidth\": 0, \"ticks\": \"\"}}, \"type\": \"scattergeo\"}], \"scattergl\": [{\"marker\": {\"colorbar\": {\"outlinewidth\": 0, \"ticks\": \"\"}}, \"type\": \"scattergl\"}], \"scattermapbox\": [{\"marker\": {\"colorbar\": {\"outlinewidth\": 0, \"ticks\": \"\"}}, \"type\": \"scattermapbox\"}], \"scatterpolar\": [{\"marker\": {\"colorbar\": {\"outlinewidth\": 0, \"ticks\": \"\"}}, \"type\": \"scatterpolar\"}], \"scatterpolargl\": [{\"marker\": {\"colorbar\": {\"outlinewidth\": 0, \"ticks\": \"\"}}, \"type\": \"scatterpolargl\"}], \"scatterternary\": [{\"marker\": {\"colorbar\": {\"outlinewidth\": 0, \"ticks\": \"\"}}, \"type\": \"scatterternary\"}], \"surface\": [{\"colorbar\": {\"outlinewidth\": 0, \"ticks\": \"\"}, \"colorscale\": [[0.0, \"#0d0887\"], [0.1111111111111111, \"#46039f\"], [0.2222222222222222, \"#7201a8\"], [0.3333333333333333, \"#9c179e\"], [0.4444444444444444, \"#bd3786\"], [0.5555555555555556, \"#d8576b\"], [0.6666666666666666, \"#ed7953\"], [0.7777777777777778, \"#fb9f3a\"], [0.8888888888888888, \"#fdca26\"], [1.0, \"#f0f921\"]], \"type\": \"surface\"}], \"table\": [{\"cells\": {\"fill\": {\"color\": \"#EBF0F8\"}, \"line\": {\"color\": \"white\"}}, \"header\": {\"fill\": {\"color\": \"#C8D4E3\"}, \"line\": {\"color\": \"white\"}}, \"type\": \"table\"}]}, \"layout\": {\"annotationdefaults\": {\"arrowcolor\": \"#2a3f5f\", \"arrowhead\": 0, \"arrowwidth\": 1}, \"coloraxis\": {\"colorbar\": {\"outlinewidth\": 0, \"ticks\": \"\"}}, \"colorscale\": {\"diverging\": [[0, \"#8e0152\"], [0.1, \"#c51b7d\"], [0.2, \"#de77ae\"], [0.3, \"#f1b6da\"], [0.4, \"#fde0ef\"], [0.5, \"#f7f7f7\"], [0.6, \"#e6f5d0\"], [0.7, \"#b8e186\"], [0.8, \"#7fbc41\"], [0.9, \"#4d9221\"], [1, \"#276419\"]], \"sequential\": [[0.0, \"#0d0887\"], [0.1111111111111111, \"#46039f\"], [0.2222222222222222, \"#7201a8\"], [0.3333333333333333, \"#9c179e\"], [0.4444444444444444, \"#bd3786\"], [0.5555555555555556, \"#d8576b\"], [0.6666666666666666, \"#ed7953\"], [0.7777777777777778, \"#fb9f3a\"], [0.8888888888888888, \"#fdca26\"], [1.0, \"#f0f921\"]], \"sequentialminus\": [[0.0, \"#0d0887\"], [0.1111111111111111, \"#46039f\"], [0.2222222222222222, \"#7201a8\"], [0.3333333333333333, \"#9c179e\"], [0.4444444444444444, \"#bd3786\"], [0.5555555555555556, \"#d8576b\"], [0.6666666666666666, \"#ed7953\"], [0.7777777777777778, \"#fb9f3a\"], [0.8888888888888888, \"#fdca26\"], [1.0, \"#f0f921\"]]}, \"colorway\": [\"#636efa\", \"#EF553B\", \"#00cc96\", \"#ab63fa\", \"#FFA15A\", \"#19d3f3\", \"#FF6692\", \"#B6E880\", \"#FF97FF\", \"#FECB52\"], \"font\": {\"color\": \"#2a3f5f\"}, \"geo\": {\"bgcolor\": \"white\", \"lakecolor\": \"white\", \"landcolor\": \"#E5ECF6\", \"showlakes\": true, \"showland\": true, \"subunitcolor\": \"white\"}, \"hoverlabel\": {\"align\": \"left\"}, \"hovermode\": \"closest\", \"mapbox\": {\"style\": \"light\"}, \"paper_bgcolor\": \"white\", \"plot_bgcolor\": \"#E5ECF6\", \"polar\": {\"angularaxis\": {\"gridcolor\": \"white\", \"linecolor\": \"white\", \"ticks\": \"\"}, \"bgcolor\": \"#E5ECF6\", \"radialaxis\": {\"gridcolor\": \"white\", \"linecolor\": \"white\", \"ticks\": \"\"}}, \"scene\": {\"xaxis\": {\"backgroundcolor\": \"#E5ECF6\", \"gridcolor\": \"white\", \"gridwidth\": 2, \"linecolor\": \"white\", \"showbackground\": true, \"ticks\": \"\", \"zerolinecolor\": \"white\"}, \"yaxis\": {\"backgroundcolor\": \"#E5ECF6\", \"gridcolor\": \"white\", \"gridwidth\": 2, \"linecolor\": \"white\", \"showbackground\": true, \"ticks\": \"\", \"zerolinecolor\": \"white\"}, \"zaxis\": {\"backgroundcolor\": \"#E5ECF6\", \"gridcolor\": \"white\", \"gridwidth\": 2, \"linecolor\": \"white\", \"showbackground\": true, \"ticks\": \"\", \"zerolinecolor\": \"white\"}}, \"shapedefaults\": {\"line\": {\"color\": \"#2a3f5f\"}}, \"ternary\": {\"aaxis\": {\"gridcolor\": \"white\", \"linecolor\": \"white\", \"ticks\": \"\"}, \"baxis\": {\"gridcolor\": \"white\", \"linecolor\": \"white\", \"ticks\": \"\"}, \"bgcolor\": \"#E5ECF6\", \"caxis\": {\"gridcolor\": \"white\", \"linecolor\": \"white\", \"ticks\": \"\"}}, \"title\": {\"x\": 0.05}, \"xaxis\": {\"automargin\": true, \"gridcolor\": \"white\", \"linecolor\": \"white\", \"ticks\": \"\", \"title\": {\"standoff\": 15}, \"zerolinecolor\": \"white\", \"zerolinewidth\": 2}, \"yaxis\": {\"automargin\": true, \"gridcolor\": \"white\", \"linecolor\": \"white\", \"ticks\": \"\", \"title\": {\"standoff\": 15}, \"zerolinecolor\": \"white\", \"zerolinewidth\": 2}}}, \"title\": {\"text\": \"Number of Majors within each school over time\"}, \"xaxis\": {\"anchor\": \"y\", \"autorange\": true, \"domain\": [0.0, 1.0], \"range\": [\"1900-01-01\", \"2011-12-31\"], \"rangeslider\": {\"visible\": true}, \"title\": {\"text\": \"Year\"}}, \"yaxis\": {\"anchor\": \"x\", \"domain\": [0.0, 1.0], \"title\": {\"text\": \"count\"}}},\n",
       "                        {\"responsive\": true}\n",
       "                    ).then(function(){\n",
       "                            \n",
       "var gd = document.getElementById('1d2e93da-fcf7-4b18-b738-3b2e9173f727');\n",
       "var x = new MutationObserver(function (mutations, observer) {{\n",
       "        var display = window.getComputedStyle(gd).display;\n",
       "        if (!display || display === 'none') {{\n",
       "            console.log([gd, 'removed!']);\n",
       "            Plotly.purge(gd);\n",
       "            observer.disconnect();\n",
       "        }}\n",
       "}});\n",
       "\n",
       "// Listen for the removal of the full notebook cells\n",
       "var notebookContainer = gd.closest('#notebook-container');\n",
       "if (notebookContainer) {{\n",
       "    x.observe(notebookContainer, {childList: true});\n",
       "}}\n",
       "\n",
       "// Listen for the clearing of the current output cell\n",
       "var outputEl = gd.closest('.output');\n",
       "if (outputEl) {{\n",
       "    x.observe(outputEl, {childList: true});\n",
       "}}\n",
       "\n",
       "                        })\n",
       "                };\n",
       "                });\n",
       "            </script>\n",
       "        </div>"
      ]
     },
     "metadata": {},
     "output_type": "display_data"
    }
   ],
   "source": [
    "# Original Q: How have course offered changed over the century? Original viz was a complicated pie chart: https://data.world/makeovermonday/2020w12\n",
    "\n",
    "# import libraries\n",
    "import plotly.express as px\n",
    "import pandas as pd\n",
    "import plotly.graph_objects as go\n",
    "import ipywidgets as widgets\n",
    "from ipywidgets import interact, interactive\n",
    "import datetime\n",
    "\n",
    "\n",
    "\n",
    "fig = px.line(By_Yr_GenArea, x='Year', y='count', color='GenArea', title='Number of Majors within each school over time')\n",
    "\n",
    "fig.update_xaxes(rangeslider_visible=True, autorange=True, range=['1900-01-01', '2011-12-31'] )\n",
    "fig.show()\n",
    "# Interesting: Education never gained much traction. "
   ]
  },
  {
   "cell_type": "code",
   "execution_count": 39,
   "metadata": {},
   "outputs": [
    {
     "data": {
      "application/vnd.plotly.v1+json": {
       "config": {
        "plotlyServerURL": "https://plot.ly"
       },
       "data": [
        {
         "marker": {
          "color": "rgba(116,83,199,0.6)"
         },
         "name": "Humanities Majors",
         "type": "bar",
         "x": [
          "Art",
          "Art History",
          "Classics",
          "Comparative Literature",
          "English",
          "English Composition",
          "Ethnic Studies",
          "Film",
          "Folklore",
          "Humanities",
          "Langauges Arabic",
          "Languages Ancient",
          "Languages Asian",
          "Languages Germanic",
          "Languages Other",
          "Languages Romantic",
          "Languages Slavic",
          "Music",
          "Philosophy",
          "Religion",
          "Spanish",
          "Theater"
         ],
         "y": [
          3960,
          944,
          5197,
          2281,
          8981,
          96,
          15582,
          233,
          239,
          225,
          1067,
          2664,
          5632,
          6356,
          2294,
          7899,
          5094,
          5563,
          4781,
          68,
          4566,
          2086
         ]
        },
        {
         "marker": {
          "color": "rgba(0,140,195,1)"
         },
         "name": "Professional Majors",
         "type": "bar",
         "visible": false,
         "x": [
          "Agriculture",
          "Architecture",
          "Business",
          "Communication",
          "Conservation",
          "Dentistry",
          "Development",
          "Environmental Design",
          "Food Science",
          "Forestry",
          "Health Sciences",
          "Information",
          "Law",
          "Library",
          "Medicine",
          "Military Science and Tactics",
          "Nursing",
          "Nutrition",
          "Optometry",
          "Public Speaking",
          "Social Work",
          "Urban Planning",
          "Veterinary Science",
          "Visual Design"
         ],
         "y": [
          9907,
          8539,
          7755,
          2220,
          352,
          21,
          45,
          154,
          716,
          2089,
          8254,
          1169,
          4683,
          1310,
          348,
          2160,
          1178,
          1633,
          2256,
          3892,
          3141,
          4808,
          12,
          471
         ]
        },
        {
         "marker": {
          "color": "rgba(126,88,186,0.69)"
         },
         "name": "Engineering Majors",
         "type": "bar",
         "visible": false,
         "x": [
          "Aeronautical Engineering",
          "Agricultural Engineering",
          "Applied Science and Technology",
          "Chemical Engineering",
          "Civil Engineering",
          "Electrical Engineering",
          "Engineering Design",
          "Environmental Engineering",
          "Industrial Engineering",
          "Material Science",
          "Mechanical Engineering",
          "Mining Engineering",
          "Nuclear Engineering",
          "Ocean Engineering",
          "Other Engineering",
          "Transportation Engineering"
         ],
         "y": [
          46,
          35,
          45,
          2684,
          7004,
          2475,
          637,
          612,
          2389,
          2288,
          5925,
          3535,
          931,
          550,
          8807,
          574
         ]
        },
        {
         "marker": {
          "color": "rgba(126,159,97,0.69)"
         },
         "name": "Education Majors",
         "type": "bar",
         "visible": false,
         "x": [
          "Education",
          "Physical Culture"
         ],
         "y": [
          9539,
          3444
         ]
        },
        {
         "marker": {
          "color": "rgba(2,59,97,0.69)"
         },
         "name": "Natural Science Majors",
         "type": "bar",
         "visible": false,
         "x": [
          "Astronomy",
          "Biochemistry",
          "Biology",
          "Chemistry",
          "Computer Science",
          "Environmental Studies",
          "Geology",
          "Mathematics",
          "Neuroscience",
          "Paleontology",
          "Physics",
          "Statistics"
         ],
         "y": [
          2610,
          414,
          19071,
          5233,
          1789,
          749,
          4382,
          6299,
          54,
          1715,
          3906,
          2586
         ]
        },
        {
         "marker": {
          "color": "rgba(192,6,84,0.5)"
         },
         "name": "Social Science Majors",
         "type": "bar",
         "visible": false,
         "x": [
          "Anthropology",
          "Archaeology",
          "Criminology",
          "Demography",
          "Economics",
          "Geography",
          "History",
          "Home Economics",
          "Linguistics",
          "Logic and the Methodology of Science",
          "Political Science",
          "Psychology",
          "Public Policy",
          "Sociology"
         ],
         "y": [
          6070,
          162,
          989,
          21,
          5810,
          4948,
          8584,
          1031,
          2748,
          369,
          9188,
          5974,
          1357,
          5170
         ]
        }
       ],
       "layout": {
        "autosize": true,
        "height": 1000,
        "legend": {
         "bgcolor": "rgba(255,255, 255, 0)",
         "bordercolor": "rgba(255, 255, 255, 0)",
         "x": 0,
         "y": 1
        },
        "template": {
         "data": {
          "bar": [
           {
            "error_x": {
             "color": "#2a3f5f"
            },
            "error_y": {
             "color": "#2a3f5f"
            },
            "marker": {
             "line": {
              "color": "#E5ECF6",
              "width": 0.5
             }
            },
            "type": "bar"
           }
          ],
          "barpolar": [
           {
            "marker": {
             "line": {
              "color": "#E5ECF6",
              "width": 0.5
             }
            },
            "type": "barpolar"
           }
          ],
          "carpet": [
           {
            "aaxis": {
             "endlinecolor": "#2a3f5f",
             "gridcolor": "white",
             "linecolor": "white",
             "minorgridcolor": "white",
             "startlinecolor": "#2a3f5f"
            },
            "baxis": {
             "endlinecolor": "#2a3f5f",
             "gridcolor": "white",
             "linecolor": "white",
             "minorgridcolor": "white",
             "startlinecolor": "#2a3f5f"
            },
            "type": "carpet"
           }
          ],
          "choropleth": [
           {
            "colorbar": {
             "outlinewidth": 0,
             "ticks": ""
            },
            "type": "choropleth"
           }
          ],
          "contour": [
           {
            "colorbar": {
             "outlinewidth": 0,
             "ticks": ""
            },
            "colorscale": [
             [
              0,
              "#0d0887"
             ],
             [
              0.1111111111111111,
              "#46039f"
             ],
             [
              0.2222222222222222,
              "#7201a8"
             ],
             [
              0.3333333333333333,
              "#9c179e"
             ],
             [
              0.4444444444444444,
              "#bd3786"
             ],
             [
              0.5555555555555556,
              "#d8576b"
             ],
             [
              0.6666666666666666,
              "#ed7953"
             ],
             [
              0.7777777777777778,
              "#fb9f3a"
             ],
             [
              0.8888888888888888,
              "#fdca26"
             ],
             [
              1,
              "#f0f921"
             ]
            ],
            "type": "contour"
           }
          ],
          "contourcarpet": [
           {
            "colorbar": {
             "outlinewidth": 0,
             "ticks": ""
            },
            "type": "contourcarpet"
           }
          ],
          "heatmap": [
           {
            "colorbar": {
             "outlinewidth": 0,
             "ticks": ""
            },
            "colorscale": [
             [
              0,
              "#0d0887"
             ],
             [
              0.1111111111111111,
              "#46039f"
             ],
             [
              0.2222222222222222,
              "#7201a8"
             ],
             [
              0.3333333333333333,
              "#9c179e"
             ],
             [
              0.4444444444444444,
              "#bd3786"
             ],
             [
              0.5555555555555556,
              "#d8576b"
             ],
             [
              0.6666666666666666,
              "#ed7953"
             ],
             [
              0.7777777777777778,
              "#fb9f3a"
             ],
             [
              0.8888888888888888,
              "#fdca26"
             ],
             [
              1,
              "#f0f921"
             ]
            ],
            "type": "heatmap"
           }
          ],
          "heatmapgl": [
           {
            "colorbar": {
             "outlinewidth": 0,
             "ticks": ""
            },
            "colorscale": [
             [
              0,
              "#0d0887"
             ],
             [
              0.1111111111111111,
              "#46039f"
             ],
             [
              0.2222222222222222,
              "#7201a8"
             ],
             [
              0.3333333333333333,
              "#9c179e"
             ],
             [
              0.4444444444444444,
              "#bd3786"
             ],
             [
              0.5555555555555556,
              "#d8576b"
             ],
             [
              0.6666666666666666,
              "#ed7953"
             ],
             [
              0.7777777777777778,
              "#fb9f3a"
             ],
             [
              0.8888888888888888,
              "#fdca26"
             ],
             [
              1,
              "#f0f921"
             ]
            ],
            "type": "heatmapgl"
           }
          ],
          "histogram": [
           {
            "marker": {
             "colorbar": {
              "outlinewidth": 0,
              "ticks": ""
             }
            },
            "type": "histogram"
           }
          ],
          "histogram2d": [
           {
            "colorbar": {
             "outlinewidth": 0,
             "ticks": ""
            },
            "colorscale": [
             [
              0,
              "#0d0887"
             ],
             [
              0.1111111111111111,
              "#46039f"
             ],
             [
              0.2222222222222222,
              "#7201a8"
             ],
             [
              0.3333333333333333,
              "#9c179e"
             ],
             [
              0.4444444444444444,
              "#bd3786"
             ],
             [
              0.5555555555555556,
              "#d8576b"
             ],
             [
              0.6666666666666666,
              "#ed7953"
             ],
             [
              0.7777777777777778,
              "#fb9f3a"
             ],
             [
              0.8888888888888888,
              "#fdca26"
             ],
             [
              1,
              "#f0f921"
             ]
            ],
            "type": "histogram2d"
           }
          ],
          "histogram2dcontour": [
           {
            "colorbar": {
             "outlinewidth": 0,
             "ticks": ""
            },
            "colorscale": [
             [
              0,
              "#0d0887"
             ],
             [
              0.1111111111111111,
              "#46039f"
             ],
             [
              0.2222222222222222,
              "#7201a8"
             ],
             [
              0.3333333333333333,
              "#9c179e"
             ],
             [
              0.4444444444444444,
              "#bd3786"
             ],
             [
              0.5555555555555556,
              "#d8576b"
             ],
             [
              0.6666666666666666,
              "#ed7953"
             ],
             [
              0.7777777777777778,
              "#fb9f3a"
             ],
             [
              0.8888888888888888,
              "#fdca26"
             ],
             [
              1,
              "#f0f921"
             ]
            ],
            "type": "histogram2dcontour"
           }
          ],
          "mesh3d": [
           {
            "colorbar": {
             "outlinewidth": 0,
             "ticks": ""
            },
            "type": "mesh3d"
           }
          ],
          "parcoords": [
           {
            "line": {
             "colorbar": {
              "outlinewidth": 0,
              "ticks": ""
             }
            },
            "type": "parcoords"
           }
          ],
          "pie": [
           {
            "automargin": true,
            "type": "pie"
           }
          ],
          "scatter": [
           {
            "marker": {
             "colorbar": {
              "outlinewidth": 0,
              "ticks": ""
             }
            },
            "type": "scatter"
           }
          ],
          "scatter3d": [
           {
            "line": {
             "colorbar": {
              "outlinewidth": 0,
              "ticks": ""
             }
            },
            "marker": {
             "colorbar": {
              "outlinewidth": 0,
              "ticks": ""
             }
            },
            "type": "scatter3d"
           }
          ],
          "scattercarpet": [
           {
            "marker": {
             "colorbar": {
              "outlinewidth": 0,
              "ticks": ""
             }
            },
            "type": "scattercarpet"
           }
          ],
          "scattergeo": [
           {
            "marker": {
             "colorbar": {
              "outlinewidth": 0,
              "ticks": ""
             }
            },
            "type": "scattergeo"
           }
          ],
          "scattergl": [
           {
            "marker": {
             "colorbar": {
              "outlinewidth": 0,
              "ticks": ""
             }
            },
            "type": "scattergl"
           }
          ],
          "scattermapbox": [
           {
            "marker": {
             "colorbar": {
              "outlinewidth": 0,
              "ticks": ""
             }
            },
            "type": "scattermapbox"
           }
          ],
          "scatterpolar": [
           {
            "marker": {
             "colorbar": {
              "outlinewidth": 0,
              "ticks": ""
             }
            },
            "type": "scatterpolar"
           }
          ],
          "scatterpolargl": [
           {
            "marker": {
             "colorbar": {
              "outlinewidth": 0,
              "ticks": ""
             }
            },
            "type": "scatterpolargl"
           }
          ],
          "scatterternary": [
           {
            "marker": {
             "colorbar": {
              "outlinewidth": 0,
              "ticks": ""
             }
            },
            "type": "scatterternary"
           }
          ],
          "surface": [
           {
            "colorbar": {
             "outlinewidth": 0,
             "ticks": ""
            },
            "colorscale": [
             [
              0,
              "#0d0887"
             ],
             [
              0.1111111111111111,
              "#46039f"
             ],
             [
              0.2222222222222222,
              "#7201a8"
             ],
             [
              0.3333333333333333,
              "#9c179e"
             ],
             [
              0.4444444444444444,
              "#bd3786"
             ],
             [
              0.5555555555555556,
              "#d8576b"
             ],
             [
              0.6666666666666666,
              "#ed7953"
             ],
             [
              0.7777777777777778,
              "#fb9f3a"
             ],
             [
              0.8888888888888888,
              "#fdca26"
             ],
             [
              1,
              "#f0f921"
             ]
            ],
            "type": "surface"
           }
          ],
          "table": [
           {
            "cells": {
             "fill": {
              "color": "#EBF0F8"
             },
             "line": {
              "color": "white"
             }
            },
            "header": {
             "fill": {
              "color": "#C8D4E3"
             },
             "line": {
              "color": "white"
             }
            },
            "type": "table"
           }
          ]
         },
         "layout": {
          "annotationdefaults": {
           "arrowcolor": "#2a3f5f",
           "arrowhead": 0,
           "arrowwidth": 1
          },
          "coloraxis": {
           "colorbar": {
            "outlinewidth": 0,
            "ticks": ""
           }
          },
          "colorscale": {
           "diverging": [
            [
             0,
             "#8e0152"
            ],
            [
             0.1,
             "#c51b7d"
            ],
            [
             0.2,
             "#de77ae"
            ],
            [
             0.3,
             "#f1b6da"
            ],
            [
             0.4,
             "#fde0ef"
            ],
            [
             0.5,
             "#f7f7f7"
            ],
            [
             0.6,
             "#e6f5d0"
            ],
            [
             0.7,
             "#b8e186"
            ],
            [
             0.8,
             "#7fbc41"
            ],
            [
             0.9,
             "#4d9221"
            ],
            [
             1,
             "#276419"
            ]
           ],
           "sequential": [
            [
             0,
             "#0d0887"
            ],
            [
             0.1111111111111111,
             "#46039f"
            ],
            [
             0.2222222222222222,
             "#7201a8"
            ],
            [
             0.3333333333333333,
             "#9c179e"
            ],
            [
             0.4444444444444444,
             "#bd3786"
            ],
            [
             0.5555555555555556,
             "#d8576b"
            ],
            [
             0.6666666666666666,
             "#ed7953"
            ],
            [
             0.7777777777777778,
             "#fb9f3a"
            ],
            [
             0.8888888888888888,
             "#fdca26"
            ],
            [
             1,
             "#f0f921"
            ]
           ],
           "sequentialminus": [
            [
             0,
             "#0d0887"
            ],
            [
             0.1111111111111111,
             "#46039f"
            ],
            [
             0.2222222222222222,
             "#7201a8"
            ],
            [
             0.3333333333333333,
             "#9c179e"
            ],
            [
             0.4444444444444444,
             "#bd3786"
            ],
            [
             0.5555555555555556,
             "#d8576b"
            ],
            [
             0.6666666666666666,
             "#ed7953"
            ],
            [
             0.7777777777777778,
             "#fb9f3a"
            ],
            [
             0.8888888888888888,
             "#fdca26"
            ],
            [
             1,
             "#f0f921"
            ]
           ]
          },
          "colorway": [
           "#636efa",
           "#EF553B",
           "#00cc96",
           "#ab63fa",
           "#FFA15A",
           "#19d3f3",
           "#FF6692",
           "#B6E880",
           "#FF97FF",
           "#FECB52"
          ],
          "font": {
           "color": "#2a3f5f"
          },
          "geo": {
           "bgcolor": "white",
           "lakecolor": "white",
           "landcolor": "#E5ECF6",
           "showlakes": true,
           "showland": true,
           "subunitcolor": "white"
          },
          "hoverlabel": {
           "align": "left"
          },
          "hovermode": "closest",
          "mapbox": {
           "style": "light"
          },
          "paper_bgcolor": "white",
          "plot_bgcolor": "#E5ECF6",
          "polar": {
           "angularaxis": {
            "gridcolor": "white",
            "linecolor": "white",
            "ticks": ""
           },
           "bgcolor": "#E5ECF6",
           "radialaxis": {
            "gridcolor": "white",
            "linecolor": "white",
            "ticks": ""
           }
          },
          "scene": {
           "xaxis": {
            "backgroundcolor": "#E5ECF6",
            "gridcolor": "white",
            "gridwidth": 2,
            "linecolor": "white",
            "showbackground": true,
            "ticks": "",
            "zerolinecolor": "white"
           },
           "yaxis": {
            "backgroundcolor": "#E5ECF6",
            "gridcolor": "white",
            "gridwidth": 2,
            "linecolor": "white",
            "showbackground": true,
            "ticks": "",
            "zerolinecolor": "white"
           },
           "zaxis": {
            "backgroundcolor": "#E5ECF6",
            "gridcolor": "white",
            "gridwidth": 2,
            "linecolor": "white",
            "showbackground": true,
            "ticks": "",
            "zerolinecolor": "white"
           }
          },
          "shapedefaults": {
           "line": {
            "color": "#2a3f5f"
           }
          },
          "ternary": {
           "aaxis": {
            "gridcolor": "white",
            "linecolor": "white",
            "ticks": ""
           },
           "baxis": {
            "gridcolor": "white",
            "linecolor": "white",
            "ticks": ""
           },
           "bgcolor": "#E5ECF6",
           "caxis": {
            "gridcolor": "white",
            "linecolor": "white",
            "ticks": ""
           }
          },
          "title": {
           "x": 0.05
          },
          "xaxis": {
           "automargin": true,
           "gridcolor": "white",
           "linecolor": "white",
           "ticks": "",
           "title": {
            "standoff": 15
           },
           "zerolinecolor": "white",
           "zerolinewidth": 2
          },
          "yaxis": {
           "automargin": true,
           "gridcolor": "white",
           "linecolor": "white",
           "ticks": "",
           "title": {
            "standoff": 15
           },
           "zerolinecolor": "white",
           "zerolinewidth": 2
          }
         }
        },
        "title": {
         "font": {
          "size": 16
         },
         "text": "Majors within Schools"
        },
        "updatemenus": [
         {
          "active": -1,
          "buttons": [
           {
            "args": [
             {
              "visible": [
               true,
               false,
               false,
               false,
               false,
               false
              ]
             }
            ],
            "label": "Humanities",
            "method": "update"
           },
           {
            "args": [
             {
              "visible": [
               false,
               true,
               false,
               false,
               false,
               false
              ]
             }
            ],
            "label": "Professional",
            "method": "update"
           },
           {
            "args": [
             {
              "visible": [
               false,
               false,
               true,
               false,
               false,
               false
              ]
             }
            ],
            "label": "Engineering",
            "method": "update"
           },
           {
            "args": [
             {
              "visible": [
               false,
               false,
               false,
               true,
               false,
               false
              ]
             }
            ],
            "label": "Education",
            "method": "update"
           },
           {
            "args": [
             {
              "visible": [
               false,
               false,
               false,
               false,
               true,
               false
              ]
             }
            ],
            "label": "Natural Sciences",
            "method": "update"
           },
           {
            "args": [
             {
              "visible": [
               false,
               false,
               false,
               false,
               false,
               true
              ]
             }
            ],
            "label": "Social Sciences",
            "method": "update"
           },
           {
            "args": [
             {
              "visible": [
               true,
               true,
               true,
               true,
               true,
               true
              ]
             }
            ],
            "label": "All Schools",
            "method": "update"
           }
          ],
          "type": "dropdown"
         }
        ],
        "width": 1000
       }
      },
      "text/html": [
       "<div>\n",
       "        \n",
       "        \n",
       "            <div id=\"52d7a31b-b8d1-4836-b364-305e6894950e\" class=\"plotly-graph-div\" style=\"height:1000px; width:1000px;\"></div>\n",
       "            <script type=\"text/javascript\">\n",
       "                require([\"plotly\"], function(Plotly) {\n",
       "                    window.PLOTLYENV=window.PLOTLYENV || {};\n",
       "                    \n",
       "                if (document.getElementById(\"52d7a31b-b8d1-4836-b364-305e6894950e\")) {\n",
       "                    Plotly.newPlot(\n",
       "                        '52d7a31b-b8d1-4836-b364-305e6894950e',\n",
       "                        [{\"marker\": {\"color\": \"rgba(116,83,199,0.6)\"}, \"name\": \"Humanities Majors\", \"type\": \"bar\", \"x\": [\"Art\", \"Art History\", \"Classics\", \"Comparative Literature\", \"English\", \"English Composition\", \"Ethnic Studies\", \"Film\", \"Folklore\", \"Humanities\", \"Langauges Arabic\", \"Languages Ancient\", \"Languages Asian\", \"Languages Germanic\", \"Languages Other\", \"Languages Romantic\", \"Languages Slavic\", \"Music\", \"Philosophy\", \"Religion\", \"Spanish\", \"Theater\"], \"y\": [3960, 944, 5197, 2281, 8981, 96, 15582, 233, 239, 225, 1067, 2664, 5632, 6356, 2294, 7899, 5094, 5563, 4781, 68, 4566, 2086]}, {\"marker\": {\"color\": \"rgba(0,140,195,1)\"}, \"name\": \"Professional Majors\", \"type\": \"bar\", \"visible\": false, \"x\": [\"Agriculture\", \"Architecture\", \"Business\", \"Communication\", \"Conservation\", \"Dentistry\", \"Development\", \"Environmental Design\", \"Food Science\", \"Forestry\", \"Health Sciences\", \"Information\", \"Law\", \"Library\", \"Medicine\", \"Military Science and Tactics\", \"Nursing\", \"Nutrition\", \"Optometry\", \"Public Speaking\", \"Social Work\", \"Urban Planning\", \"Veterinary Science\", \"Visual Design\"], \"y\": [9907, 8539, 7755, 2220, 352, 21, 45, 154, 716, 2089, 8254, 1169, 4683, 1310, 348, 2160, 1178, 1633, 2256, 3892, 3141, 4808, 12, 471]}, {\"marker\": {\"color\": \"rgba(126,88,186,0.69)\"}, \"name\": \"Engineering Majors\", \"type\": \"bar\", \"visible\": false, \"x\": [\"Aeronautical Engineering\", \"Agricultural Engineering\", \"Applied Science and Technology\", \"Chemical Engineering\", \"Civil Engineering\", \"Electrical Engineering\", \"Engineering Design\", \"Environmental Engineering\", \"Industrial Engineering\", \"Material Science\", \"Mechanical Engineering\", \"Mining Engineering\", \"Nuclear Engineering\", \"Ocean Engineering\", \"Other Engineering\", \"Transportation Engineering\"], \"y\": [46, 35, 45, 2684, 7004, 2475, 637, 612, 2389, 2288, 5925, 3535, 931, 550, 8807, 574]}, {\"marker\": {\"color\": \"rgba(126,159,97,0.69)\"}, \"name\": \"Education Majors\", \"type\": \"bar\", \"visible\": false, \"x\": [\"Education\", \"Physical Culture\"], \"y\": [9539, 3444]}, {\"marker\": {\"color\": \"rgba(2,59,97,0.69)\"}, \"name\": \"Natural Science Majors\", \"type\": \"bar\", \"visible\": false, \"x\": [\"Astronomy\", \"Biochemistry\", \"Biology\", \"Chemistry\", \"Computer Science\", \"Environmental Studies\", \"Geology\", \"Mathematics\", \"Neuroscience\", \"Paleontology\", \"Physics\", \"Statistics\"], \"y\": [2610, 414, 19071, 5233, 1789, 749, 4382, 6299, 54, 1715, 3906, 2586]}, {\"marker\": {\"color\": \"rgba(192,6,84,0.5)\"}, \"name\": \"Social Science Majors\", \"type\": \"bar\", \"visible\": false, \"x\": [\"Anthropology\", \"Archaeology\", \"Criminology\", \"Demography\", \"Economics\", \"Geography\", \"History\", \"Home Economics\", \"Linguistics\", \"Logic and the Methodology of Science\", \"Political Science\", \"Psychology\", \"Public Policy\", \"Sociology\"], \"y\": [6070, 162, 989, 21, 5810, 4948, 8584, 1031, 2748, 369, 9188, 5974, 1357, 5170]}],\n",
       "                        {\"autosize\": true, \"height\": 1000, \"legend\": {\"bgcolor\": \"rgba(255,255, 255, 0)\", \"bordercolor\": \"rgba(255, 255, 255, 0)\", \"x\": 0, \"y\": 1.0}, \"template\": {\"data\": {\"bar\": [{\"error_x\": {\"color\": \"#2a3f5f\"}, \"error_y\": {\"color\": \"#2a3f5f\"}, \"marker\": {\"line\": {\"color\": \"#E5ECF6\", \"width\": 0.5}}, \"type\": \"bar\"}], \"barpolar\": [{\"marker\": {\"line\": {\"color\": \"#E5ECF6\", \"width\": 0.5}}, \"type\": \"barpolar\"}], \"carpet\": [{\"aaxis\": {\"endlinecolor\": \"#2a3f5f\", \"gridcolor\": \"white\", \"linecolor\": \"white\", \"minorgridcolor\": \"white\", \"startlinecolor\": \"#2a3f5f\"}, \"baxis\": {\"endlinecolor\": \"#2a3f5f\", \"gridcolor\": \"white\", \"linecolor\": \"white\", \"minorgridcolor\": \"white\", \"startlinecolor\": \"#2a3f5f\"}, \"type\": \"carpet\"}], \"choropleth\": [{\"colorbar\": {\"outlinewidth\": 0, \"ticks\": \"\"}, \"type\": \"choropleth\"}], \"contour\": [{\"colorbar\": {\"outlinewidth\": 0, \"ticks\": \"\"}, \"colorscale\": [[0.0, \"#0d0887\"], [0.1111111111111111, \"#46039f\"], [0.2222222222222222, \"#7201a8\"], [0.3333333333333333, \"#9c179e\"], [0.4444444444444444, \"#bd3786\"], [0.5555555555555556, \"#d8576b\"], [0.6666666666666666, \"#ed7953\"], [0.7777777777777778, \"#fb9f3a\"], [0.8888888888888888, \"#fdca26\"], [1.0, \"#f0f921\"]], \"type\": \"contour\"}], \"contourcarpet\": [{\"colorbar\": {\"outlinewidth\": 0, \"ticks\": \"\"}, \"type\": \"contourcarpet\"}], \"heatmap\": [{\"colorbar\": {\"outlinewidth\": 0, \"ticks\": \"\"}, \"colorscale\": [[0.0, \"#0d0887\"], [0.1111111111111111, \"#46039f\"], [0.2222222222222222, \"#7201a8\"], [0.3333333333333333, \"#9c179e\"], [0.4444444444444444, \"#bd3786\"], [0.5555555555555556, \"#d8576b\"], [0.6666666666666666, \"#ed7953\"], [0.7777777777777778, \"#fb9f3a\"], [0.8888888888888888, \"#fdca26\"], [1.0, \"#f0f921\"]], \"type\": \"heatmap\"}], \"heatmapgl\": [{\"colorbar\": {\"outlinewidth\": 0, \"ticks\": \"\"}, \"colorscale\": [[0.0, \"#0d0887\"], [0.1111111111111111, \"#46039f\"], [0.2222222222222222, \"#7201a8\"], [0.3333333333333333, \"#9c179e\"], [0.4444444444444444, \"#bd3786\"], [0.5555555555555556, \"#d8576b\"], [0.6666666666666666, \"#ed7953\"], [0.7777777777777778, \"#fb9f3a\"], [0.8888888888888888, \"#fdca26\"], [1.0, \"#f0f921\"]], \"type\": \"heatmapgl\"}], \"histogram\": [{\"marker\": {\"colorbar\": {\"outlinewidth\": 0, \"ticks\": \"\"}}, \"type\": \"histogram\"}], \"histogram2d\": [{\"colorbar\": {\"outlinewidth\": 0, \"ticks\": \"\"}, \"colorscale\": [[0.0, \"#0d0887\"], [0.1111111111111111, \"#46039f\"], [0.2222222222222222, \"#7201a8\"], [0.3333333333333333, \"#9c179e\"], [0.4444444444444444, \"#bd3786\"], [0.5555555555555556, \"#d8576b\"], [0.6666666666666666, \"#ed7953\"], [0.7777777777777778, \"#fb9f3a\"], [0.8888888888888888, \"#fdca26\"], [1.0, \"#f0f921\"]], \"type\": \"histogram2d\"}], \"histogram2dcontour\": [{\"colorbar\": {\"outlinewidth\": 0, \"ticks\": \"\"}, \"colorscale\": [[0.0, \"#0d0887\"], [0.1111111111111111, \"#46039f\"], [0.2222222222222222, \"#7201a8\"], [0.3333333333333333, \"#9c179e\"], [0.4444444444444444, \"#bd3786\"], [0.5555555555555556, \"#d8576b\"], [0.6666666666666666, \"#ed7953\"], [0.7777777777777778, \"#fb9f3a\"], [0.8888888888888888, \"#fdca26\"], [1.0, \"#f0f921\"]], \"type\": \"histogram2dcontour\"}], \"mesh3d\": [{\"colorbar\": {\"outlinewidth\": 0, \"ticks\": \"\"}, \"type\": \"mesh3d\"}], \"parcoords\": [{\"line\": {\"colorbar\": {\"outlinewidth\": 0, \"ticks\": \"\"}}, \"type\": \"parcoords\"}], \"pie\": [{\"automargin\": true, \"type\": \"pie\"}], \"scatter\": [{\"marker\": {\"colorbar\": {\"outlinewidth\": 0, \"ticks\": \"\"}}, \"type\": \"scatter\"}], \"scatter3d\": [{\"line\": {\"colorbar\": {\"outlinewidth\": 0, \"ticks\": \"\"}}, \"marker\": {\"colorbar\": {\"outlinewidth\": 0, \"ticks\": \"\"}}, \"type\": \"scatter3d\"}], \"scattercarpet\": [{\"marker\": {\"colorbar\": {\"outlinewidth\": 0, \"ticks\": \"\"}}, \"type\": \"scattercarpet\"}], \"scattergeo\": [{\"marker\": {\"colorbar\": {\"outlinewidth\": 0, \"ticks\": \"\"}}, \"type\": \"scattergeo\"}], \"scattergl\": [{\"marker\": {\"colorbar\": {\"outlinewidth\": 0, \"ticks\": \"\"}}, \"type\": \"scattergl\"}], \"scattermapbox\": [{\"marker\": {\"colorbar\": {\"outlinewidth\": 0, \"ticks\": \"\"}}, \"type\": \"scattermapbox\"}], \"scatterpolar\": [{\"marker\": {\"colorbar\": {\"outlinewidth\": 0, \"ticks\": \"\"}}, \"type\": \"scatterpolar\"}], \"scatterpolargl\": [{\"marker\": {\"colorbar\": {\"outlinewidth\": 0, \"ticks\": \"\"}}, \"type\": \"scatterpolargl\"}], \"scatterternary\": [{\"marker\": {\"colorbar\": {\"outlinewidth\": 0, \"ticks\": \"\"}}, \"type\": \"scatterternary\"}], \"surface\": [{\"colorbar\": {\"outlinewidth\": 0, \"ticks\": \"\"}, \"colorscale\": [[0.0, \"#0d0887\"], [0.1111111111111111, \"#46039f\"], [0.2222222222222222, \"#7201a8\"], [0.3333333333333333, \"#9c179e\"], [0.4444444444444444, \"#bd3786\"], [0.5555555555555556, \"#d8576b\"], [0.6666666666666666, \"#ed7953\"], [0.7777777777777778, \"#fb9f3a\"], [0.8888888888888888, \"#fdca26\"], [1.0, \"#f0f921\"]], \"type\": \"surface\"}], \"table\": [{\"cells\": {\"fill\": {\"color\": \"#EBF0F8\"}, \"line\": {\"color\": \"white\"}}, \"header\": {\"fill\": {\"color\": \"#C8D4E3\"}, \"line\": {\"color\": \"white\"}}, \"type\": \"table\"}]}, \"layout\": {\"annotationdefaults\": {\"arrowcolor\": \"#2a3f5f\", \"arrowhead\": 0, \"arrowwidth\": 1}, \"coloraxis\": {\"colorbar\": {\"outlinewidth\": 0, \"ticks\": \"\"}}, \"colorscale\": {\"diverging\": [[0, \"#8e0152\"], [0.1, \"#c51b7d\"], [0.2, \"#de77ae\"], [0.3, \"#f1b6da\"], [0.4, \"#fde0ef\"], [0.5, \"#f7f7f7\"], [0.6, \"#e6f5d0\"], [0.7, \"#b8e186\"], [0.8, \"#7fbc41\"], [0.9, \"#4d9221\"], [1, \"#276419\"]], \"sequential\": [[0.0, \"#0d0887\"], [0.1111111111111111, \"#46039f\"], [0.2222222222222222, \"#7201a8\"], [0.3333333333333333, \"#9c179e\"], [0.4444444444444444, \"#bd3786\"], [0.5555555555555556, \"#d8576b\"], [0.6666666666666666, \"#ed7953\"], [0.7777777777777778, \"#fb9f3a\"], [0.8888888888888888, \"#fdca26\"], [1.0, \"#f0f921\"]], \"sequentialminus\": [[0.0, \"#0d0887\"], [0.1111111111111111, \"#46039f\"], [0.2222222222222222, \"#7201a8\"], [0.3333333333333333, \"#9c179e\"], [0.4444444444444444, \"#bd3786\"], [0.5555555555555556, \"#d8576b\"], [0.6666666666666666, \"#ed7953\"], [0.7777777777777778, \"#fb9f3a\"], [0.8888888888888888, \"#fdca26\"], [1.0, \"#f0f921\"]]}, \"colorway\": [\"#636efa\", \"#EF553B\", \"#00cc96\", \"#ab63fa\", \"#FFA15A\", \"#19d3f3\", \"#FF6692\", \"#B6E880\", \"#FF97FF\", \"#FECB52\"], \"font\": {\"color\": \"#2a3f5f\"}, \"geo\": {\"bgcolor\": \"white\", \"lakecolor\": \"white\", \"landcolor\": \"#E5ECF6\", \"showlakes\": true, \"showland\": true, \"subunitcolor\": \"white\"}, \"hoverlabel\": {\"align\": \"left\"}, \"hovermode\": \"closest\", \"mapbox\": {\"style\": \"light\"}, \"paper_bgcolor\": \"white\", \"plot_bgcolor\": \"#E5ECF6\", \"polar\": {\"angularaxis\": {\"gridcolor\": \"white\", \"linecolor\": \"white\", \"ticks\": \"\"}, \"bgcolor\": \"#E5ECF6\", \"radialaxis\": {\"gridcolor\": \"white\", \"linecolor\": \"white\", \"ticks\": \"\"}}, \"scene\": {\"xaxis\": {\"backgroundcolor\": \"#E5ECF6\", \"gridcolor\": \"white\", \"gridwidth\": 2, \"linecolor\": \"white\", \"showbackground\": true, \"ticks\": \"\", \"zerolinecolor\": \"white\"}, \"yaxis\": {\"backgroundcolor\": \"#E5ECF6\", \"gridcolor\": \"white\", \"gridwidth\": 2, \"linecolor\": \"white\", \"showbackground\": true, \"ticks\": \"\", \"zerolinecolor\": \"white\"}, \"zaxis\": {\"backgroundcolor\": \"#E5ECF6\", \"gridcolor\": \"white\", \"gridwidth\": 2, \"linecolor\": \"white\", \"showbackground\": true, \"ticks\": \"\", \"zerolinecolor\": \"white\"}}, \"shapedefaults\": {\"line\": {\"color\": \"#2a3f5f\"}}, \"ternary\": {\"aaxis\": {\"gridcolor\": \"white\", \"linecolor\": \"white\", \"ticks\": \"\"}, \"baxis\": {\"gridcolor\": \"white\", \"linecolor\": \"white\", \"ticks\": \"\"}, \"bgcolor\": \"#E5ECF6\", \"caxis\": {\"gridcolor\": \"white\", \"linecolor\": \"white\", \"ticks\": \"\"}}, \"title\": {\"x\": 0.05}, \"xaxis\": {\"automargin\": true, \"gridcolor\": \"white\", \"linecolor\": \"white\", \"ticks\": \"\", \"title\": {\"standoff\": 15}, \"zerolinecolor\": \"white\", \"zerolinewidth\": 2}, \"yaxis\": {\"automargin\": true, \"gridcolor\": \"white\", \"linecolor\": \"white\", \"ticks\": \"\", \"title\": {\"standoff\": 15}, \"zerolinecolor\": \"white\", \"zerolinewidth\": 2}}}, \"title\": {\"font\": {\"size\": 16}, \"text\": \"Majors within Schools\"}, \"updatemenus\": [{\"active\": -1, \"buttons\": [{\"args\": [{\"visible\": [true, false, false, false, false, false]}], \"label\": \"Humanities\", \"method\": \"update\"}, {\"args\": [{\"visible\": [false, true, false, false, false, false]}], \"label\": \"Professional\", \"method\": \"update\"}, {\"args\": [{\"visible\": [false, false, true, false, false, false]}], \"label\": \"Engineering\", \"method\": \"update\"}, {\"args\": [{\"visible\": [false, false, false, true, false, false]}], \"label\": \"Education\", \"method\": \"update\"}, {\"args\": [{\"visible\": [false, false, false, false, true, false]}], \"label\": \"Natural Sciences\", \"method\": \"update\"}, {\"args\": [{\"visible\": [false, false, false, false, false, true]}], \"label\": \"Social Sciences\", \"method\": \"update\"}, {\"args\": [{\"visible\": [true, true, true, true, true, true]}], \"label\": \"All Schools\", \"method\": \"update\"}], \"type\": \"dropdown\"}], \"width\": 1000},\n",
       "                        {\"responsive\": true}\n",
       "                    ).then(function(){\n",
       "                            \n",
       "var gd = document.getElementById('52d7a31b-b8d1-4836-b364-305e6894950e');\n",
       "var x = new MutationObserver(function (mutations, observer) {{\n",
       "        var display = window.getComputedStyle(gd).display;\n",
       "        if (!display || display === 'none') {{\n",
       "            console.log([gd, 'removed!']);\n",
       "            Plotly.purge(gd);\n",
       "            observer.disconnect();\n",
       "        }}\n",
       "}});\n",
       "\n",
       "// Listen for the removal of the full notebook cells\n",
       "var notebookContainer = gd.closest('#notebook-container');\n",
       "if (notebookContainer) {{\n",
       "    x.observe(notebookContainer, {childList: true});\n",
       "}}\n",
       "\n",
       "// Listen for the clearing of the current output cell\n",
       "var outputEl = gd.closest('.output');\n",
       "if (outputEl) {{\n",
       "    x.observe(outputEl, {childList: true});\n",
       "}}\n",
       "\n",
       "                        })\n",
       "                };\n",
       "                });\n",
       "            </script>\n",
       "        </div>"
      ]
     },
     "metadata": {},
     "output_type": "display_data"
    }
   ],
   "source": [
    "import plotly.graph_objects as go\n",
    "import pandas as pd\n",
    "\n",
    "# Init figure\n",
    "fig = go.Figure()\n",
    "\n",
    "x1=Hum_Majors['Area']\n",
    "y1= Hum_Majors['count']\n",
    "x2 = Prof_Majors['Area']\n",
    "y2 = Prof_Majors['count']\n",
    "x3= Eng_Majors['Area']\n",
    "y3=Eng_Majors['count']\n",
    "x4=Edu_Majors['Area']\n",
    "y4=Edu_Majors['count']\n",
    "x5=Nat_Sci_Majors['Area']\n",
    "y5=Nat_Sci_Majors['count']\n",
    "x6=Soc_Sci_Majors['Area']\n",
    "y6=Soc_Sci_Majors['count']\n",
    "#Add Traces\n",
    "\n",
    "fig.add_trace(go.Bar(x=x1, y=y1, name=\"Humanities Majors\", marker_color='rgba(116,83,199,0.6)'))\n",
    "fig.add_trace(go.Bar(x=x2, y=y2, name=\"Professional Majors\", visible=False, marker_color='rgba(0,140,195,1)'))\n",
    "fig.add_trace(go.Bar(x=x3, y=y3, name=\"Engineering Majors\", visible=False, marker_color='rgba(126,88,186,0.69)'))\n",
    "fig.add_trace(go.Bar(x=x4, y=y4, name=\"Education Majors\", visible=False, marker_color='rgba(126,159,97,0.69)'))\n",
    "fig.add_trace(go.Bar(x=x5, y=y5, name=\"Natural Science Majors\", visible=False, marker_color='rgba(2,59,97,0.69)'))\n",
    "fig.add_trace(go.Bar(x=x6, y=y6, name=\"Social Science Majors\", visible=False, marker_color='rgba(192,6,84,0.5)'))\n",
    "\n",
    "# Add buttons\n",
    "fig.update_layout(\n",
    "    autosize=True,\n",
    "    width=1000,\n",
    "    height=1000,\n",
    "    title=\"Majors within Schools\",\n",
    "    titlefont_size=16,\n",
    "    legend=dict(x=0,\n",
    "               y=1.0,\n",
    "               bgcolor='rgba(255,255, 255, 0)',\n",
    "                bordercolor='rgba(255, 255, 255, 0)'\n",
    "               ),\n",
    "    updatemenus= list([dict(type='dropdown',\n",
    "                           active=-1,\n",
    "                           buttons=list(\n",
    "                               [dict(label='Humanities',\n",
    "                                    method='update',\n",
    "                                    args=[dict(visible=[True, False, False, False, False, False])]),\n",
    "                               dict(label='Professional',\n",
    "                                   method='update',\n",
    "                                   args=[dict(visible=[False, True, False, False, False, False])]),\n",
    "                               dict(label='Engineering',\n",
    "                                   method='update',\n",
    "                                   args=[dict(visible=[False, False, True, False, False, False])]),\n",
    "                                dict(label='Education',\n",
    "                                    method='update',\n",
    "                                    args=[dict(visible=[False, False, False, True, False, False])]),\n",
    "                                dict(label='Natural Sciences',\n",
    "                                    method='update',\n",
    "                                    args=[dict(visible=[False, False, False, False, True, False])]),\n",
    "                                dict(label='Social Sciences',\n",
    "                                    method='update',\n",
    "                                    args=[dict(visible=[False, False, False, False, False, True])]),\n",
    "                                dict(label='All Schools',\n",
    "                                    method='update',\n",
    "                                    args=[dict(visible=[True, True, True, True, True, True])])\n",
    "                               ]))\n",
    "                      ])\n",
    " \n",
    "\n",
    ")\n",
    "\n",
    "\n",
    "\n",
    "fig.show()\n",
    "\n"
   ]
  },
  {
   "cell_type": "code",
   "execution_count": null,
   "metadata": {},
   "outputs": [],
   "source": [
    "# Table output of fields"
   ]
  },
  {
   "cell_type": "code",
   "execution_count": null,
   "metadata": {},
   "outputs": [],
   "source": [
    "# Simple graphs for semester class offerings"
   ]
  }
 ],
 "metadata": {
  "kernelspec": {
   "display_name": "Python 3",
   "language": "python",
   "name": "python3"
  },
  "language_info": {
   "codemirror_mode": {
    "name": "ipython",
    "version": 3
   },
   "file_extension": ".py",
   "mimetype": "text/x-python",
   "name": "python",
   "nbconvert_exporter": "python",
   "pygments_lexer": "ipython3",
   "version": "3.7.1"
  }
 },
 "nbformat": 4,
 "nbformat_minor": 2
}
